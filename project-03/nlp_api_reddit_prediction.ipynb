{
 "cells": [
  {
   "cell_type": "markdown",
   "id": "daf2d0e3",
   "metadata": {},
   "source": [
    "# Project 3: APIs & NLP - Subreddit Predictions"
   ]
  },
  {
   "cell_type": "markdown",
   "id": "63dd6c54",
   "metadata": {},
   "source": [
    "## Problem Statement"
   ]
  },
  {
   "cell_type": "markdown",
   "id": "64fb9176",
   "metadata": {},
   "source": [
    "Can we predict which posts came from the \"Animal Crossing\" and \"The Sims\" Subreddit?\n",
    "\n",
    "With an increased rate of children spending time on entertainment devices, there are parental concerns on whether or not a game is appropriate for their children. Many popular games have Subreddit pages in which fans of said game post updates, gameplay and content. This makes Reddit a useful website on gaming information. \n",
    "\n",
    "A group of employees at Reddit came up with classification models to analyze and supervise Subreddits in order to make sure that posts are being posted on the correct Subreddit. Currently, Reddit has moderators “to help guide and create Reddit's many communities. Each Reddit community has its own focus, look, and rules, including what posts are on-topic there and how users are expected to behave [source](https://reddit.zendesk.com/hc/en-us/articles/204533859-What-s-a-moderator-#:~:text=A%20moderator%2C%20or%20a%20mod,users%20are%20expected%20to%20behave.&text=Add%20other%20redditors%20as%20moderators.).”\n",
    "\n",
    "To improve the accuracy and automation of on-topic posts on Subreddit pages, the group of employees at Reddit will be building models and comparing two similar life-simulation games.\n",
    "\n",
    "This project will be utilizing the Pushshift Reddit API to obtain the \"Animal Crossing\" and \"The Sims” Subreddit pages from Reddit. The type of models that will be developed are Multinomial Naive Bayes, Random Forest, and Logistic Regression and will be evaluated based on the accuracy in which the model is able to predict whether or not the user's post comes from the Animal Crossing or Sims Subreddit page."
   ]
  },
  {
   "cell_type": "markdown",
   "id": "cca3bead",
   "metadata": {},
   "source": [
    "### Contents:\n",
    "- [Background](#Background)\n",
    "- [Data Import & Cleaning](#Data-Import-&-Cleaning)\n",
    "- [Exploratory Data Analysis](#Exploratory-Data-Analysis)\n",
    "- [Preprocessing and Modeling](#Preprocessing-and-Modeling)\n",
    "- [Evaluation and Conceptual Understanding](Evaluation-and-Conceptual-Understanding)\n",
    "- [Conclusion and Recommendations](#Conclusion-and-Recommendations)"
   ]
  },
  {
   "cell_type": "markdown",
   "id": "ca5e0eb8",
   "metadata": {},
   "source": [
    "## Background"
   ]
  },
  {
   "cell_type": "markdown",
   "id": "a82e81cb",
   "metadata": {},
   "source": [
    "With a growing rate in children playing video games, “it is important that parents understand how video games affect their children. Parents may not be aware of the actual scenes their children will experience in games before playing them. It’s crucial, therefore, that parents use ratings and related information that provides a detailed account of the violence, sex and language contained in a video game [Source](https://www.internetmatters.org/resources/online-gaming-advice/online-gaming-the-risks/#content).\"\n",
    "\n",
    "ESRB is the entertainment software rating board. “ESRB ratings provide information about what’s in a game or app so parents and consumers can make informed choices about which games are right for their family. Ratings have 3 parts: Rating Categories, Content Descriptors, and Interactive Elements [Source](https://www.esrb.org/).\"\n",
    "\n",
    "\n",
    "Animal Crossing is a game rated \"E\" for everyone. It is a simulation based game where players create their Animal Crossing character and simulate living on an island. The player can remodel their house, creating designs and home decorating, while exploring the outdoors by catching fish, hunting for bugs, and digging for fossils. Players also can build friendships with other Animal Crossing characters that have resemblance to anthropomorphic animals [Source](https://en.wikipedia.org/wiki/Animal_Crossing#Animal_Crossing:_New_Horizons_(2020).\n",
    "\n",
    "Sims is a game rated \"T\" for Teen. The game is characterized as similar to Animal Crossing because it is a life simulation-based game where you create your character called a Sim. In Sims, you can also design your home, explore the outdoors and build relationships with other Sims. The game is “realistic” in that Sims are able to get jobs, earn money and pay bills, have hobbies and skills, and build relationships [Source](https://geekdad.com/2014/10/parents-should-know-about-the-sims-4/).\n"
   ]
  },
  {
   "cell_type": "markdown",
   "id": "796afdcb",
   "metadata": {},
   "source": [
    "## Data Import & Cleaning"
   ]
  },
  {
   "cell_type": "code",
   "execution_count": 1,
   "id": "8ef156d6",
   "metadata": {},
   "outputs": [
    {
     "name": "stdout",
     "output_type": "stream",
     "text": [
      "Requirement already satisfied: wordcloud in /opt/anaconda3/lib/python3.8/site-packages (1.8.1)\r\n",
      "Requirement already satisfied: pillow in /opt/anaconda3/lib/python3.8/site-packages (from wordcloud) (8.2.0)\r\n",
      "Requirement already satisfied: matplotlib in /opt/anaconda3/lib/python3.8/site-packages (from wordcloud) (3.3.4)\r\n",
      "Requirement already satisfied: numpy>=1.6.1 in /opt/anaconda3/lib/python3.8/site-packages (from wordcloud) (1.20.1)\r\n",
      "Requirement already satisfied: cycler>=0.10 in /opt/anaconda3/lib/python3.8/site-packages (from matplotlib->wordcloud) (0.10.0)\r\n",
      "Requirement already satisfied: kiwisolver>=1.0.1 in /opt/anaconda3/lib/python3.8/site-packages (from matplotlib->wordcloud) (1.3.1)\r\n",
      "Requirement already satisfied: python-dateutil>=2.1 in /opt/anaconda3/lib/python3.8/site-packages (from matplotlib->wordcloud) (2.8.1)\r\n",
      "Requirement already satisfied: pyparsing!=2.0.4,!=2.1.2,!=2.1.6,>=2.0.3 in /opt/anaconda3/lib/python3.8/site-packages (from matplotlib->wordcloud) (2.4.7)\r\n",
      "Requirement already satisfied: six in /opt/anaconda3/lib/python3.8/site-packages (from cycler>=0.10->matplotlib->wordcloud) (1.15.0)\r\n"
     ]
    }
   ],
   "source": [
    "import numpy as np\n",
    "import pandas as pd\n",
    "import matplotlib.pyplot as plt\n",
    "import seaborn as sns\n",
    "import requests\n",
    "\n",
    "from sklearn.model_selection import train_test_split, cross_val_score, GridSearchCV\n",
    "from sklearn.pipeline import Pipeline\n",
    "from sklearn.naive_bayes import MultinomialNB\n",
    "from sklearn.linear_model import LogisticRegression\n",
    "from sklearn.ensemble import BaggingClassifier, RandomForestClassifier\n",
    "from sklearn.metrics import confusion_matrix, plot_confusion_matrix\n",
    "from sklearn.preprocessing import StandardScaler\n",
    "\n",
    "import nltk\n",
    "from nltk.tokenize import sent_tokenize, word_tokenize, RegexpTokenizer\n",
    "from nltk.stem import WordNetLemmatizer\n",
    "from nltk.stem.porter import PorterStemmer\n",
    "from nltk.corpus import stopwords\n",
    "from nltk.sentiment.vader import SentimentIntensityAnalyzer\n",
    "import re\n",
    "\n",
    "from sklearn.feature_extraction.text import CountVectorizer, TfidfVectorizer\n",
    "\n",
    "!pip install wordcloud\n",
    "from wordcloud import WordCloud, STOPWORDS"
   ]
  },
  {
   "cell_type": "markdown",
   "id": "38911c71",
   "metadata": {},
   "source": [
    "#### Scraping Subreddits from API"
   ]
  },
  {
   "cell_type": "code",
   "execution_count": 2,
   "id": "3ded558b",
   "metadata": {},
   "outputs": [],
   "source": [
    "# Function to gather posts from Subreddits\n",
    "def scrape_subreddit(subreddit, num_posts):\n",
    "    all_posts = []\n",
    "    num_requests = num_posts // 100\n",
    "    \n",
    "    params = {\n",
    "        'subreddit': subreddit,\n",
    "        'size': 100,\n",
    "    }\n",
    "    \n",
    "    url = 'https://api.pushshift.io/reddit/search/submission'\n",
    "    \n",
    "    for i in range(num_requests):\n",
    "        res = requests.get(url, params)\n",
    "        if res.status_code != 200:\n",
    "            continue\n",
    "        data = res.json()\n",
    "        current_posts = data['data']\n",
    "        all_posts.extend(current_posts)\n",
    "        min_utc = min([post['created_utc'] for post in current_posts])\n",
    "        params['before'] = min_utc\n",
    "    \n",
    "    return pd.DataFrame(all_posts)"
   ]
  },
  {
   "cell_type": "markdown",
   "id": "aee2cef8",
   "metadata": {},
   "source": [
    "#### Animal Crossing Dataframe"
   ]
  },
  {
   "cell_type": "code",
   "execution_count": 3,
   "id": "1b1bc3e9",
   "metadata": {},
   "outputs": [
    {
     "data": {
      "text/html": [
       "<div>\n",
       "<style scoped>\n",
       "    .dataframe tbody tr th:only-of-type {\n",
       "        vertical-align: middle;\n",
       "    }\n",
       "\n",
       "    .dataframe tbody tr th {\n",
       "        vertical-align: top;\n",
       "    }\n",
       "\n",
       "    .dataframe thead th {\n",
       "        text-align: right;\n",
       "    }\n",
       "</style>\n",
       "<table border=\"1\" class=\"dataframe\">\n",
       "  <thead>\n",
       "    <tr style=\"text-align: right;\">\n",
       "      <th></th>\n",
       "      <th>all_awardings</th>\n",
       "      <th>allow_live_comments</th>\n",
       "      <th>author</th>\n",
       "      <th>author_flair_background_color</th>\n",
       "      <th>author_flair_css_class</th>\n",
       "      <th>author_flair_richtext</th>\n",
       "      <th>author_flair_template_id</th>\n",
       "      <th>author_flair_text</th>\n",
       "      <th>author_flair_text_color</th>\n",
       "      <th>author_flair_type</th>\n",
       "      <th>...</th>\n",
       "      <th>author_cakeday</th>\n",
       "      <th>removed_by_category</th>\n",
       "      <th>crosspost_parent</th>\n",
       "      <th>crosspost_parent_list</th>\n",
       "      <th>media</th>\n",
       "      <th>media_embed</th>\n",
       "      <th>secure_media</th>\n",
       "      <th>secure_media_embed</th>\n",
       "      <th>banned_by</th>\n",
       "      <th>poll_data</th>\n",
       "    </tr>\n",
       "  </thead>\n",
       "  <tbody>\n",
       "    <tr>\n",
       "      <th>0</th>\n",
       "      <td>[]</td>\n",
       "      <td>False</td>\n",
       "      <td>ihavepolio</td>\n",
       "      <td>transparent</td>\n",
       "      <td>None</td>\n",
       "      <td>[{'a': ':marina:', 'e': 'emoji', 'u': 'https:/...</td>\n",
       "      <td>bcd669be-ae08-11eb-91a5-0edf2864f40b</td>\n",
       "      <td>:marina:</td>\n",
       "      <td>dark</td>\n",
       "      <td>richtext</td>\n",
       "      <td>...</td>\n",
       "      <td>NaN</td>\n",
       "      <td>NaN</td>\n",
       "      <td>NaN</td>\n",
       "      <td>NaN</td>\n",
       "      <td>NaN</td>\n",
       "      <td>NaN</td>\n",
       "      <td>NaN</td>\n",
       "      <td>NaN</td>\n",
       "      <td>NaN</td>\n",
       "      <td>NaN</td>\n",
       "    </tr>\n",
       "    <tr>\n",
       "      <th>1</th>\n",
       "      <td>[]</td>\n",
       "      <td>False</td>\n",
       "      <td>PlosoX</td>\n",
       "      <td>NaN</td>\n",
       "      <td>None</td>\n",
       "      <td>[]</td>\n",
       "      <td>NaN</td>\n",
       "      <td>None</td>\n",
       "      <td>NaN</td>\n",
       "      <td>text</td>\n",
       "      <td>...</td>\n",
       "      <td>NaN</td>\n",
       "      <td>NaN</td>\n",
       "      <td>NaN</td>\n",
       "      <td>NaN</td>\n",
       "      <td>NaN</td>\n",
       "      <td>NaN</td>\n",
       "      <td>NaN</td>\n",
       "      <td>NaN</td>\n",
       "      <td>NaN</td>\n",
       "      <td>NaN</td>\n",
       "    </tr>\n",
       "    <tr>\n",
       "      <th>2</th>\n",
       "      <td>[]</td>\n",
       "      <td>False</td>\n",
       "      <td>Altruistic_Size9003</td>\n",
       "      <td>NaN</td>\n",
       "      <td>None</td>\n",
       "      <td>[]</td>\n",
       "      <td>NaN</td>\n",
       "      <td>None</td>\n",
       "      <td>NaN</td>\n",
       "      <td>text</td>\n",
       "      <td>...</td>\n",
       "      <td>NaN</td>\n",
       "      <td>NaN</td>\n",
       "      <td>NaN</td>\n",
       "      <td>NaN</td>\n",
       "      <td>NaN</td>\n",
       "      <td>NaN</td>\n",
       "      <td>NaN</td>\n",
       "      <td>NaN</td>\n",
       "      <td>NaN</td>\n",
       "      <td>NaN</td>\n",
       "    </tr>\n",
       "    <tr>\n",
       "      <th>3</th>\n",
       "      <td>[]</td>\n",
       "      <td>False</td>\n",
       "      <td>PlosoX</td>\n",
       "      <td>NaN</td>\n",
       "      <td>None</td>\n",
       "      <td>[]</td>\n",
       "      <td>NaN</td>\n",
       "      <td>None</td>\n",
       "      <td>NaN</td>\n",
       "      <td>text</td>\n",
       "      <td>...</td>\n",
       "      <td>NaN</td>\n",
       "      <td>NaN</td>\n",
       "      <td>NaN</td>\n",
       "      <td>NaN</td>\n",
       "      <td>NaN</td>\n",
       "      <td>NaN</td>\n",
       "      <td>NaN</td>\n",
       "      <td>NaN</td>\n",
       "      <td>NaN</td>\n",
       "      <td>NaN</td>\n",
       "    </tr>\n",
       "    <tr>\n",
       "      <th>4</th>\n",
       "      <td>[]</td>\n",
       "      <td>False</td>\n",
       "      <td>OccasionUnfair8094</td>\n",
       "      <td>NaN</td>\n",
       "      <td>None</td>\n",
       "      <td>[]</td>\n",
       "      <td>NaN</td>\n",
       "      <td>None</td>\n",
       "      <td>NaN</td>\n",
       "      <td>text</td>\n",
       "      <td>...</td>\n",
       "      <td>NaN</td>\n",
       "      <td>NaN</td>\n",
       "      <td>NaN</td>\n",
       "      <td>NaN</td>\n",
       "      <td>NaN</td>\n",
       "      <td>NaN</td>\n",
       "      <td>NaN</td>\n",
       "      <td>NaN</td>\n",
       "      <td>NaN</td>\n",
       "      <td>NaN</td>\n",
       "    </tr>\n",
       "  </tbody>\n",
       "</table>\n",
       "<p>5 rows × 83 columns</p>\n",
       "</div>"
      ],
      "text/plain": [
       "  all_awardings  allow_live_comments               author  \\\n",
       "0            []                False           ihavepolio   \n",
       "1            []                False               PlosoX   \n",
       "2            []                False  Altruistic_Size9003   \n",
       "3            []                False               PlosoX   \n",
       "4            []                False   OccasionUnfair8094   \n",
       "\n",
       "  author_flair_background_color author_flair_css_class  \\\n",
       "0                   transparent                   None   \n",
       "1                           NaN                   None   \n",
       "2                           NaN                   None   \n",
       "3                           NaN                   None   \n",
       "4                           NaN                   None   \n",
       "\n",
       "                               author_flair_richtext  \\\n",
       "0  [{'a': ':marina:', 'e': 'emoji', 'u': 'https:/...   \n",
       "1                                                 []   \n",
       "2                                                 []   \n",
       "3                                                 []   \n",
       "4                                                 []   \n",
       "\n",
       "               author_flair_template_id author_flair_text  \\\n",
       "0  bcd669be-ae08-11eb-91a5-0edf2864f40b          :marina:   \n",
       "1                                   NaN              None   \n",
       "2                                   NaN              None   \n",
       "3                                   NaN              None   \n",
       "4                                   NaN              None   \n",
       "\n",
       "  author_flair_text_color author_flair_type  ... author_cakeday  \\\n",
       "0                    dark          richtext  ...            NaN   \n",
       "1                     NaN              text  ...            NaN   \n",
       "2                     NaN              text  ...            NaN   \n",
       "3                     NaN              text  ...            NaN   \n",
       "4                     NaN              text  ...            NaN   \n",
       "\n",
       "   removed_by_category crosspost_parent crosspost_parent_list media  \\\n",
       "0                  NaN              NaN                   NaN   NaN   \n",
       "1                  NaN              NaN                   NaN   NaN   \n",
       "2                  NaN              NaN                   NaN   NaN   \n",
       "3                  NaN              NaN                   NaN   NaN   \n",
       "4                  NaN              NaN                   NaN   NaN   \n",
       "\n",
       "   media_embed  secure_media  secure_media_embed banned_by poll_data  \n",
       "0          NaN           NaN                 NaN       NaN       NaN  \n",
       "1          NaN           NaN                 NaN       NaN       NaN  \n",
       "2          NaN           NaN                 NaN       NaN       NaN  \n",
       "3          NaN           NaN                 NaN       NaN       NaN  \n",
       "4          NaN           NaN                 NaN       NaN       NaN  \n",
       "\n",
       "[5 rows x 83 columns]"
      ]
     },
     "execution_count": 3,
     "metadata": {},
     "output_type": "execute_result"
    }
   ],
   "source": [
    "animal_crossing_df = scrape_subreddit('animalcrossing', 1110)\n",
    "animal_crossing_df.head()"
   ]
  },
  {
   "cell_type": "code",
   "execution_count": 4,
   "id": "3c553ac3",
   "metadata": {},
   "outputs": [
    {
     "data": {
      "text/plain": [
       "1068"
      ]
     },
     "execution_count": 4,
     "metadata": {},
     "output_type": "execute_result"
    }
   ],
   "source": [
    "# Number of Unique `title`\n",
    "animal_crossing_df['title'].nunique()"
   ]
  },
  {
   "cell_type": "markdown",
   "id": "6d908522",
   "metadata": {},
   "source": [
    "#### The Sims Dataframe"
   ]
  },
  {
   "cell_type": "code",
   "execution_count": 5,
   "id": "23cdc826",
   "metadata": {},
   "outputs": [
    {
     "data": {
      "text/html": [
       "<div>\n",
       "<style scoped>\n",
       "    .dataframe tbody tr th:only-of-type {\n",
       "        vertical-align: middle;\n",
       "    }\n",
       "\n",
       "    .dataframe tbody tr th {\n",
       "        vertical-align: top;\n",
       "    }\n",
       "\n",
       "    .dataframe thead th {\n",
       "        text-align: right;\n",
       "    }\n",
       "</style>\n",
       "<table border=\"1\" class=\"dataframe\">\n",
       "  <thead>\n",
       "    <tr style=\"text-align: right;\">\n",
       "      <th></th>\n",
       "      <th>all_awardings</th>\n",
       "      <th>allow_live_comments</th>\n",
       "      <th>author</th>\n",
       "      <th>author_flair_css_class</th>\n",
       "      <th>author_flair_richtext</th>\n",
       "      <th>author_flair_text</th>\n",
       "      <th>author_flair_type</th>\n",
       "      <th>author_fullname</th>\n",
       "      <th>author_is_blocked</th>\n",
       "      <th>author_patreon_flair</th>\n",
       "      <th>...</th>\n",
       "      <th>gallery_data</th>\n",
       "      <th>media_metadata</th>\n",
       "      <th>media</th>\n",
       "      <th>media_embed</th>\n",
       "      <th>secure_media</th>\n",
       "      <th>secure_media_embed</th>\n",
       "      <th>crosspost_parent</th>\n",
       "      <th>crosspost_parent_list</th>\n",
       "      <th>author_cakeday</th>\n",
       "      <th>banned_by</th>\n",
       "    </tr>\n",
       "  </thead>\n",
       "  <tbody>\n",
       "    <tr>\n",
       "      <th>0</th>\n",
       "      <td>[]</td>\n",
       "      <td>False</td>\n",
       "      <td>maplebuilds</td>\n",
       "      <td>None</td>\n",
       "      <td>[]</td>\n",
       "      <td>None</td>\n",
       "      <td>text</td>\n",
       "      <td>t2_gehegqks</td>\n",
       "      <td>False</td>\n",
       "      <td>False</td>\n",
       "      <td>...</td>\n",
       "      <td>NaN</td>\n",
       "      <td>NaN</td>\n",
       "      <td>NaN</td>\n",
       "      <td>NaN</td>\n",
       "      <td>NaN</td>\n",
       "      <td>NaN</td>\n",
       "      <td>NaN</td>\n",
       "      <td>NaN</td>\n",
       "      <td>NaN</td>\n",
       "      <td>NaN</td>\n",
       "    </tr>\n",
       "    <tr>\n",
       "      <th>1</th>\n",
       "      <td>[]</td>\n",
       "      <td>False</td>\n",
       "      <td>kaptingavrin</td>\n",
       "      <td>None</td>\n",
       "      <td>[]</td>\n",
       "      <td>None</td>\n",
       "      <td>text</td>\n",
       "      <td>t2_o632q</td>\n",
       "      <td>False</td>\n",
       "      <td>False</td>\n",
       "      <td>...</td>\n",
       "      <td>NaN</td>\n",
       "      <td>NaN</td>\n",
       "      <td>NaN</td>\n",
       "      <td>NaN</td>\n",
       "      <td>NaN</td>\n",
       "      <td>NaN</td>\n",
       "      <td>NaN</td>\n",
       "      <td>NaN</td>\n",
       "      <td>NaN</td>\n",
       "      <td>NaN</td>\n",
       "    </tr>\n",
       "    <tr>\n",
       "      <th>2</th>\n",
       "      <td>[]</td>\n",
       "      <td>False</td>\n",
       "      <td>No-Muffin9637</td>\n",
       "      <td>None</td>\n",
       "      <td>[]</td>\n",
       "      <td>None</td>\n",
       "      <td>text</td>\n",
       "      <td>t2_8cjtqyd2</td>\n",
       "      <td>False</td>\n",
       "      <td>False</td>\n",
       "      <td>...</td>\n",
       "      <td>NaN</td>\n",
       "      <td>NaN</td>\n",
       "      <td>NaN</td>\n",
       "      <td>NaN</td>\n",
       "      <td>NaN</td>\n",
       "      <td>NaN</td>\n",
       "      <td>NaN</td>\n",
       "      <td>NaN</td>\n",
       "      <td>NaN</td>\n",
       "      <td>NaN</td>\n",
       "    </tr>\n",
       "    <tr>\n",
       "      <th>3</th>\n",
       "      <td>[]</td>\n",
       "      <td>False</td>\n",
       "      <td>Murghana</td>\n",
       "      <td>None</td>\n",
       "      <td>[{'a': ':moon:', 'e': 'emoji', 'u': 'https://e...</td>\n",
       "      <td>:moon:</td>\n",
       "      <td>richtext</td>\n",
       "      <td>t2_e3u12837</td>\n",
       "      <td>False</td>\n",
       "      <td>False</td>\n",
       "      <td>...</td>\n",
       "      <td>NaN</td>\n",
       "      <td>NaN</td>\n",
       "      <td>NaN</td>\n",
       "      <td>NaN</td>\n",
       "      <td>NaN</td>\n",
       "      <td>NaN</td>\n",
       "      <td>NaN</td>\n",
       "      <td>NaN</td>\n",
       "      <td>NaN</td>\n",
       "      <td>NaN</td>\n",
       "    </tr>\n",
       "    <tr>\n",
       "      <th>4</th>\n",
       "      <td>[]</td>\n",
       "      <td>False</td>\n",
       "      <td>Murghana</td>\n",
       "      <td>None</td>\n",
       "      <td>[{'a': ':moon:', 'e': 'emoji', 'u': 'https://e...</td>\n",
       "      <td>:moon:</td>\n",
       "      <td>richtext</td>\n",
       "      <td>t2_e3u12837</td>\n",
       "      <td>False</td>\n",
       "      <td>False</td>\n",
       "      <td>...</td>\n",
       "      <td>{'items': [{'id': 86189366, 'media_id': 'kmciz...</td>\n",
       "      <td>{'2x8afpgwslz71': {'e': 'Image', 'id': '2x8afp...</td>\n",
       "      <td>NaN</td>\n",
       "      <td>NaN</td>\n",
       "      <td>NaN</td>\n",
       "      <td>NaN</td>\n",
       "      <td>NaN</td>\n",
       "      <td>NaN</td>\n",
       "      <td>NaN</td>\n",
       "      <td>NaN</td>\n",
       "    </tr>\n",
       "  </tbody>\n",
       "</table>\n",
       "<p>5 rows × 83 columns</p>\n",
       "</div>"
      ],
      "text/plain": [
       "  all_awardings  allow_live_comments         author author_flair_css_class  \\\n",
       "0            []                False    maplebuilds                   None   \n",
       "1            []                False   kaptingavrin                   None   \n",
       "2            []                False  No-Muffin9637                   None   \n",
       "3            []                False       Murghana                   None   \n",
       "4            []                False       Murghana                   None   \n",
       "\n",
       "                               author_flair_richtext author_flair_text  \\\n",
       "0                                                 []              None   \n",
       "1                                                 []              None   \n",
       "2                                                 []              None   \n",
       "3  [{'a': ':moon:', 'e': 'emoji', 'u': 'https://e...            :moon:   \n",
       "4  [{'a': ':moon:', 'e': 'emoji', 'u': 'https://e...            :moon:   \n",
       "\n",
       "  author_flair_type author_fullname  author_is_blocked author_patreon_flair  \\\n",
       "0              text     t2_gehegqks              False                False   \n",
       "1              text        t2_o632q              False                False   \n",
       "2              text     t2_8cjtqyd2              False                False   \n",
       "3          richtext     t2_e3u12837              False                False   \n",
       "4          richtext     t2_e3u12837              False                False   \n",
       "\n",
       "   ...                                       gallery_data  \\\n",
       "0  ...                                                NaN   \n",
       "1  ...                                                NaN   \n",
       "2  ...                                                NaN   \n",
       "3  ...                                                NaN   \n",
       "4  ...  {'items': [{'id': 86189366, 'media_id': 'kmciz...   \n",
       "\n",
       "                                      media_metadata  media  media_embed  \\\n",
       "0                                                NaN    NaN          NaN   \n",
       "1                                                NaN    NaN          NaN   \n",
       "2                                                NaN    NaN          NaN   \n",
       "3                                                NaN    NaN          NaN   \n",
       "4  {'2x8afpgwslz71': {'e': 'Image', 'id': '2x8afp...    NaN          NaN   \n",
       "\n",
       "   secure_media secure_media_embed crosspost_parent crosspost_parent_list  \\\n",
       "0           NaN                NaN              NaN                   NaN   \n",
       "1           NaN                NaN              NaN                   NaN   \n",
       "2           NaN                NaN              NaN                   NaN   \n",
       "3           NaN                NaN              NaN                   NaN   \n",
       "4           NaN                NaN              NaN                   NaN   \n",
       "\n",
       "  author_cakeday  banned_by  \n",
       "0            NaN        NaN  \n",
       "1            NaN        NaN  \n",
       "2            NaN        NaN  \n",
       "3            NaN        NaN  \n",
       "4            NaN        NaN  \n",
       "\n",
       "[5 rows x 83 columns]"
      ]
     },
     "execution_count": 5,
     "metadata": {},
     "output_type": "execute_result"
    }
   ],
   "source": [
    "# Utilizing Function to Scrape posts from The Sims\n",
    "sims_df = scrape_subreddit('thesims', 1100)\n",
    "sims_df.head()"
   ]
  },
  {
   "cell_type": "code",
   "execution_count": 6,
   "id": "094e498e",
   "metadata": {},
   "outputs": [
    {
     "data": {
      "text/plain": [
       "986"
      ]
     },
     "execution_count": 6,
     "metadata": {},
     "output_type": "execute_result"
    }
   ],
   "source": [
    "# Number of Unique `title`\n",
    "sims_df['title'].nunique()"
   ]
  },
  {
   "cell_type": "markdown",
   "id": "66922bcd",
   "metadata": {},
   "source": [
    "Exploring/Cleaning Animal Crossing:"
   ]
  },
  {
   "cell_type": "code",
   "execution_count": 7,
   "id": "7d514039",
   "metadata": {},
   "outputs": [],
   "source": [
    "# Animal Crossing Dataframe with `subreddit`, `selftext`, and `title` columns\n",
    "pd.set_option('display.max_columns', None)\n",
    "animal_crossing = animal_crossing_df[['subreddit', 'selftext', 'title']]"
   ]
  },
  {
   "cell_type": "code",
   "execution_count": 8,
   "id": "8a11c8c0",
   "metadata": {},
   "outputs": [
    {
     "data": {
      "text/html": [
       "<div>\n",
       "<style scoped>\n",
       "    .dataframe tbody tr th:only-of-type {\n",
       "        vertical-align: middle;\n",
       "    }\n",
       "\n",
       "    .dataframe tbody tr th {\n",
       "        vertical-align: top;\n",
       "    }\n",
       "\n",
       "    .dataframe thead th {\n",
       "        text-align: right;\n",
       "    }\n",
       "</style>\n",
       "<table border=\"1\" class=\"dataframe\">\n",
       "  <thead>\n",
       "    <tr style=\"text-align: right;\">\n",
       "      <th></th>\n",
       "      <th>subreddit</th>\n",
       "      <th>selftext</th>\n",
       "      <th>title</th>\n",
       "    </tr>\n",
       "  </thead>\n",
       "  <tbody>\n",
       "    <tr>\n",
       "      <th>0</th>\n",
       "      <td>AnimalCrossing</td>\n",
       "      <td></td>\n",
       "      <td>The Legend of Coco: Twilight Princess</td>\n",
       "    </tr>\n",
       "    <tr>\n",
       "      <th>1</th>\n",
       "      <td>AnimalCrossing</td>\n",
       "      <td></td>\n",
       "      <td>Star Trail &amp;amp; Time-Lapse - ACNH-01 (Youtube...</td>\n",
       "    </tr>\n",
       "    <tr>\n",
       "      <th>2</th>\n",
       "      <td>AnimalCrossing</td>\n",
       "      <td>i have a genuine robust statue i got from redd...</td>\n",
       "      <td>why cant i donate art to blathers?</td>\n",
       "    </tr>\n",
       "    <tr>\n",
       "      <th>3</th>\n",
       "      <td>AnimalCrossing</td>\n",
       "      <td></td>\n",
       "      <td>Star Trail &amp;amp; Time-Lapse - ACNH-01 (Youtube...</td>\n",
       "    </tr>\n",
       "    <tr>\n",
       "      <th>4</th>\n",
       "      <td>AnimalCrossing</td>\n",
       "      <td>Hi all, hoping something like this exists, but...</td>\n",
       "      <td>Help finding complete sortable items list</td>\n",
       "    </tr>\n",
       "  </tbody>\n",
       "</table>\n",
       "</div>"
      ],
      "text/plain": [
       "        subreddit                                           selftext  \\\n",
       "0  AnimalCrossing                                                      \n",
       "1  AnimalCrossing                                                      \n",
       "2  AnimalCrossing  i have a genuine robust statue i got from redd...   \n",
       "3  AnimalCrossing                                                      \n",
       "4  AnimalCrossing  Hi all, hoping something like this exists, but...   \n",
       "\n",
       "                                               title  \n",
       "0              The Legend of Coco: Twilight Princess  \n",
       "1  Star Trail &amp; Time-Lapse - ACNH-01 (Youtube...  \n",
       "2                 why cant i donate art to blathers?  \n",
       "3  Star Trail &amp; Time-Lapse - ACNH-01 (Youtube...  \n",
       "4          Help finding complete sortable items list  "
      ]
     },
     "execution_count": 8,
     "metadata": {},
     "output_type": "execute_result"
    }
   ],
   "source": [
    "animal_crossing.head()"
   ]
  },
  {
   "cell_type": "code",
   "execution_count": 9,
   "id": "f414b66a",
   "metadata": {},
   "outputs": [
    {
     "data": {
      "text/plain": [
       "(1099, 3)"
      ]
     },
     "execution_count": 9,
     "metadata": {},
     "output_type": "execute_result"
    }
   ],
   "source": [
    "animal_crossing.shape"
   ]
  },
  {
   "cell_type": "code",
   "execution_count": 262,
   "id": "ad34574f",
   "metadata": {},
   "outputs": [],
   "source": [
    "# To CSV\n",
    "animal_crossing.to_csv('./datasets/animal_crossing.csv')"
   ]
  },
  {
   "cell_type": "markdown",
   "id": "26529661",
   "metadata": {},
   "source": [
    "Exploring/Cleaning The Sims:"
   ]
  },
  {
   "cell_type": "code",
   "execution_count": 11,
   "id": "dec74ff9",
   "metadata": {},
   "outputs": [],
   "source": [
    "# Sims Dataframe with `subreddit`, `selftext`, and `title` columns\n",
    "sims = sims_df[['subreddit', 'selftext', 'title']]"
   ]
  },
  {
   "cell_type": "code",
   "execution_count": 12,
   "id": "36833572",
   "metadata": {},
   "outputs": [
    {
     "data": {
      "text/plain": [
       "(1000, 3)"
      ]
     },
     "execution_count": 12,
     "metadata": {},
     "output_type": "execute_result"
    }
   ],
   "source": [
    "sims.shape"
   ]
  },
  {
   "cell_type": "code",
   "execution_count": 264,
   "id": "e3c44d52",
   "metadata": {},
   "outputs": [],
   "source": [
    "# To CSV\n",
    "sims.to_csv('./datasets/sims.csv')"
   ]
  },
  {
   "cell_type": "markdown",
   "id": "c6d3e2b7",
   "metadata": {},
   "source": [
    "#### Merge Dataframes"
   ]
  },
  {
   "cell_type": "code",
   "execution_count": 13,
   "id": "669b2224",
   "metadata": {},
   "outputs": [],
   "source": [
    "subreddit = animal_crossing.append(sims, ignore_index=True)\n"
   ]
  },
  {
   "cell_type": "code",
   "execution_count": 14,
   "id": "9aa5e581",
   "metadata": {},
   "outputs": [
    {
     "data": {
      "text/html": [
       "<div>\n",
       "<style scoped>\n",
       "    .dataframe tbody tr th:only-of-type {\n",
       "        vertical-align: middle;\n",
       "    }\n",
       "\n",
       "    .dataframe tbody tr th {\n",
       "        vertical-align: top;\n",
       "    }\n",
       "\n",
       "    .dataframe thead th {\n",
       "        text-align: right;\n",
       "    }\n",
       "</style>\n",
       "<table border=\"1\" class=\"dataframe\">\n",
       "  <thead>\n",
       "    <tr style=\"text-align: right;\">\n",
       "      <th></th>\n",
       "      <th>subreddit</th>\n",
       "      <th>selftext</th>\n",
       "      <th>title</th>\n",
       "    </tr>\n",
       "  </thead>\n",
       "  <tbody>\n",
       "    <tr>\n",
       "      <th>0</th>\n",
       "      <td>AnimalCrossing</td>\n",
       "      <td></td>\n",
       "      <td>The Legend of Coco: Twilight Princess</td>\n",
       "    </tr>\n",
       "    <tr>\n",
       "      <th>1</th>\n",
       "      <td>AnimalCrossing</td>\n",
       "      <td></td>\n",
       "      <td>Star Trail &amp;amp; Time-Lapse - ACNH-01 (Youtube...</td>\n",
       "    </tr>\n",
       "    <tr>\n",
       "      <th>2</th>\n",
       "      <td>AnimalCrossing</td>\n",
       "      <td>i have a genuine robust statue i got from redd...</td>\n",
       "      <td>why cant i donate art to blathers?</td>\n",
       "    </tr>\n",
       "    <tr>\n",
       "      <th>3</th>\n",
       "      <td>AnimalCrossing</td>\n",
       "      <td></td>\n",
       "      <td>Star Trail &amp;amp; Time-Lapse - ACNH-01 (Youtube...</td>\n",
       "    </tr>\n",
       "    <tr>\n",
       "      <th>4</th>\n",
       "      <td>AnimalCrossing</td>\n",
       "      <td>Hi all, hoping something like this exists, but...</td>\n",
       "      <td>Help finding complete sortable items list</td>\n",
       "    </tr>\n",
       "  </tbody>\n",
       "</table>\n",
       "</div>"
      ],
      "text/plain": [
       "        subreddit                                           selftext  \\\n",
       "0  AnimalCrossing                                                      \n",
       "1  AnimalCrossing                                                      \n",
       "2  AnimalCrossing  i have a genuine robust statue i got from redd...   \n",
       "3  AnimalCrossing                                                      \n",
       "4  AnimalCrossing  Hi all, hoping something like this exists, but...   \n",
       "\n",
       "                                               title  \n",
       "0              The Legend of Coco: Twilight Princess  \n",
       "1  Star Trail &amp; Time-Lapse - ACNH-01 (Youtube...  \n",
       "2                 why cant i donate art to blathers?  \n",
       "3  Star Trail &amp; Time-Lapse - ACNH-01 (Youtube...  \n",
       "4          Help finding complete sortable items list  "
      ]
     },
     "execution_count": 14,
     "metadata": {},
     "output_type": "execute_result"
    }
   ],
   "source": [
    "subreddit.head()"
   ]
  },
  {
   "cell_type": "markdown",
   "id": "f86c5624",
   "metadata": {},
   "source": [
    "#### Dataframe to CSV"
   ]
  },
  {
   "cell_type": "code",
   "execution_count": 263,
   "id": "29e44966",
   "metadata": {},
   "outputs": [],
   "source": [
    "subreddit.to_csv('./datasets/subreddit_merged.csv')"
   ]
  },
  {
   "cell_type": "markdown",
   "id": "370b295d",
   "metadata": {},
   "source": [
    "### Cleaning"
   ]
  },
  {
   "cell_type": "code",
   "execution_count": 16,
   "id": "9f1d786a",
   "metadata": {},
   "outputs": [
    {
     "data": {
      "text/plain": [
       "subreddit    object\n",
       "selftext     object\n",
       "title        object\n",
       "dtype: object"
      ]
     },
     "execution_count": 16,
     "metadata": {},
     "output_type": "execute_result"
    }
   ],
   "source": [
    "subreddit.dtypes"
   ]
  },
  {
   "cell_type": "code",
   "execution_count": 17,
   "id": "3fe9f161",
   "metadata": {},
   "outputs": [
    {
     "data": {
      "text/plain": [
       "subreddit    0\n",
       "selftext     2\n",
       "title        0\n",
       "dtype: int64"
      ]
     },
     "execution_count": 17,
     "metadata": {},
     "output_type": "execute_result"
    }
   ],
   "source": [
    "subreddit.isnull().sum()"
   ]
  },
  {
   "cell_type": "code",
   "execution_count": 104,
   "id": "4b84e472",
   "metadata": {},
   "outputs": [
    {
     "data": {
      "text/plain": [
       "(2053, 8)"
      ]
     },
     "execution_count": 104,
     "metadata": {},
     "output_type": "execute_result"
    }
   ],
   "source": [
    "subreddit.shape"
   ]
  },
  {
   "cell_type": "markdown",
   "id": "d1684e08",
   "metadata": {},
   "source": [
    "There seems to be only 2 null values, but when we look at the `selftext` column, there are a lot of blank rows and rows that say '[removed]'"
   ]
  },
  {
   "cell_type": "code",
   "execution_count": 18,
   "id": "9a26b094",
   "metadata": {},
   "outputs": [],
   "source": [
    "# Filling null values with a space\n",
    "subreddit['selftext'] = subreddit['selftext'].fillna('')"
   ]
  },
  {
   "cell_type": "code",
   "execution_count": 19,
   "id": "8c4d20c9",
   "metadata": {},
   "outputs": [
    {
     "data": {
      "text/html": [
       "<div>\n",
       "<style scoped>\n",
       "    .dataframe tbody tr th:only-of-type {\n",
       "        vertical-align: middle;\n",
       "    }\n",
       "\n",
       "    .dataframe tbody tr th {\n",
       "        vertical-align: top;\n",
       "    }\n",
       "\n",
       "    .dataframe thead th {\n",
       "        text-align: right;\n",
       "    }\n",
       "</style>\n",
       "<table border=\"1\" class=\"dataframe\">\n",
       "  <thead>\n",
       "    <tr style=\"text-align: right;\">\n",
       "      <th></th>\n",
       "      <th>subreddit</th>\n",
       "      <th>selftext</th>\n",
       "      <th>title</th>\n",
       "    </tr>\n",
       "  </thead>\n",
       "  <tbody>\n",
       "    <tr>\n",
       "      <th>0</th>\n",
       "      <td>AnimalCrossing</td>\n",
       "      <td></td>\n",
       "      <td>The Legend of Coco: Twilight Princess</td>\n",
       "    </tr>\n",
       "    <tr>\n",
       "      <th>1</th>\n",
       "      <td>AnimalCrossing</td>\n",
       "      <td></td>\n",
       "      <td>Star Trail &amp;amp; Time-Lapse - ACNH-01 (Youtube...</td>\n",
       "    </tr>\n",
       "    <tr>\n",
       "      <th>3</th>\n",
       "      <td>AnimalCrossing</td>\n",
       "      <td></td>\n",
       "      <td>Star Trail &amp;amp; Time-Lapse - ACNH-01 (Youtube...</td>\n",
       "    </tr>\n",
       "    <tr>\n",
       "      <th>5</th>\n",
       "      <td>AnimalCrossing</td>\n",
       "      <td></td>\n",
       "      <td>[Help] I don’t want them.</td>\n",
       "    </tr>\n",
       "    <tr>\n",
       "      <th>6</th>\n",
       "      <td>AnimalCrossing</td>\n",
       "      <td></td>\n",
       "      <td>Daisy Mae at Brewster’s is the cutest!!</td>\n",
       "    </tr>\n",
       "    <tr>\n",
       "      <th>...</th>\n",
       "      <td>...</td>\n",
       "      <td>...</td>\n",
       "      <td>...</td>\n",
       "    </tr>\n",
       "    <tr>\n",
       "      <th>2093</th>\n",
       "      <td>thesims</td>\n",
       "      <td></td>\n",
       "      <td>Happy day today. I have everything I need to c...</td>\n",
       "    </tr>\n",
       "    <tr>\n",
       "      <th>2094</th>\n",
       "      <td>thesims</td>\n",
       "      <td></td>\n",
       "      <td>Turns out, if you make a sim drink before the ...</td>\n",
       "    </tr>\n",
       "    <tr>\n",
       "      <th>2095</th>\n",
       "      <td>thesims</td>\n",
       "      <td></td>\n",
       "      <td>So out of boredom I gave the clients this room...</td>\n",
       "    </tr>\n",
       "    <tr>\n",
       "      <th>2097</th>\n",
       "      <td>thesims</td>\n",
       "      <td></td>\n",
       "      <td>I paused at the right moment and was reminded ...</td>\n",
       "    </tr>\n",
       "    <tr>\n",
       "      <th>2098</th>\n",
       "      <td>thesims</td>\n",
       "      <td></td>\n",
       "      <td>Halloween costume</td>\n",
       "    </tr>\n",
       "  </tbody>\n",
       "</table>\n",
       "<p>1489 rows × 3 columns</p>\n",
       "</div>"
      ],
      "text/plain": [
       "           subreddit selftext  \\\n",
       "0     AnimalCrossing            \n",
       "1     AnimalCrossing            \n",
       "3     AnimalCrossing            \n",
       "5     AnimalCrossing            \n",
       "6     AnimalCrossing            \n",
       "...              ...      ...   \n",
       "2093         thesims            \n",
       "2094         thesims            \n",
       "2095         thesims            \n",
       "2097         thesims            \n",
       "2098         thesims            \n",
       "\n",
       "                                                  title  \n",
       "0                 The Legend of Coco: Twilight Princess  \n",
       "1     Star Trail &amp; Time-Lapse - ACNH-01 (Youtube...  \n",
       "3     Star Trail &amp; Time-Lapse - ACNH-01 (Youtube...  \n",
       "5                             [Help] I don’t want them.  \n",
       "6               Daisy Mae at Brewster’s is the cutest!!  \n",
       "...                                                 ...  \n",
       "2093  Happy day today. I have everything I need to c...  \n",
       "2094  Turns out, if you make a sim drink before the ...  \n",
       "2095  So out of boredom I gave the clients this room...  \n",
       "2097  I paused at the right moment and was reminded ...  \n",
       "2098                                  Halloween costume  \n",
       "\n",
       "[1489 rows x 3 columns]"
      ]
     },
     "execution_count": 19,
     "metadata": {},
     "output_type": "execute_result"
    }
   ],
   "source": [
    "# selftext that is blank\n",
    "subreddit[subreddit['selftext']=='']"
   ]
  },
  {
   "cell_type": "markdown",
   "id": "cfbab810",
   "metadata": {},
   "source": [
    "There are 1489 `selftext` rows that are blank. 1489/2053 is a lot of the dataframe as it consists or more than half of the rows."
   ]
  },
  {
   "cell_type": "code",
   "execution_count": 20,
   "id": "35dbaac1",
   "metadata": {},
   "outputs": [
    {
     "data": {
      "text/html": [
       "<div>\n",
       "<style scoped>\n",
       "    .dataframe tbody tr th:only-of-type {\n",
       "        vertical-align: middle;\n",
       "    }\n",
       "\n",
       "    .dataframe tbody tr th {\n",
       "        vertical-align: top;\n",
       "    }\n",
       "\n",
       "    .dataframe thead th {\n",
       "        text-align: right;\n",
       "    }\n",
       "</style>\n",
       "<table border=\"1\" class=\"dataframe\">\n",
       "  <thead>\n",
       "    <tr style=\"text-align: right;\">\n",
       "      <th></th>\n",
       "      <th>subreddit</th>\n",
       "      <th>selftext</th>\n",
       "      <th>title</th>\n",
       "    </tr>\n",
       "  </thead>\n",
       "  <tbody>\n",
       "    <tr>\n",
       "      <th>20</th>\n",
       "      <td>AnimalCrossing</td>\n",
       "      <td>[removed]</td>\n",
       "      <td>Recovering island from a damaged Switch?</td>\n",
       "    </tr>\n",
       "    <tr>\n",
       "      <th>22</th>\n",
       "      <td>AnimalCrossing</td>\n",
       "      <td>[removed]</td>\n",
       "      <td>How do I get pigeon milk with my coffee?</td>\n",
       "    </tr>\n",
       "    <tr>\n",
       "      <th>23</th>\n",
       "      <td>AnimalCrossing</td>\n",
       "      <td>[removed]</td>\n",
       "      <td>Question: Can you get Gyroids on a Nook Miles ...</td>\n",
       "    </tr>\n",
       "    <tr>\n",
       "      <th>26</th>\n",
       "      <td>AnimalCrossing</td>\n",
       "      <td>[removed]</td>\n",
       "      <td>Anyone have their villager in boxes they don’t...</td>\n",
       "    </tr>\n",
       "    <tr>\n",
       "      <th>52</th>\n",
       "      <td>AnimalCrossing</td>\n",
       "      <td>[removed]</td>\n",
       "      <td>Does anyone have any NMT to sell for bells?</td>\n",
       "    </tr>\n",
       "    <tr>\n",
       "      <th>...</th>\n",
       "      <td>...</td>\n",
       "      <td>...</td>\n",
       "      <td>...</td>\n",
       "    </tr>\n",
       "    <tr>\n",
       "      <th>2032</th>\n",
       "      <td>thesims</td>\n",
       "      <td>[removed]</td>\n",
       "      <td>Is he handsome :)</td>\n",
       "    </tr>\n",
       "    <tr>\n",
       "      <th>2038</th>\n",
       "      <td>thesims</td>\n",
       "      <td>[removed]</td>\n",
       "      <td>Rescuing sims from a CAS crash?</td>\n",
       "    </tr>\n",
       "    <tr>\n",
       "      <th>2069</th>\n",
       "      <td>thesims</td>\n",
       "      <td>[removed]</td>\n",
       "      <td>mixing games features</td>\n",
       "    </tr>\n",
       "    <tr>\n",
       "      <th>2085</th>\n",
       "      <td>thesims</td>\n",
       "      <td>[removed]</td>\n",
       "      <td>VLAD:Trick or Trite</td>\n",
       "    </tr>\n",
       "    <tr>\n",
       "      <th>2086</th>\n",
       "      <td>thesims</td>\n",
       "      <td>[removed]</td>\n",
       "      <td>Where can I find alabaster?</td>\n",
       "    </tr>\n",
       "  </tbody>\n",
       "</table>\n",
       "<p>163 rows × 3 columns</p>\n",
       "</div>"
      ],
      "text/plain": [
       "           subreddit   selftext  \\\n",
       "20    AnimalCrossing  [removed]   \n",
       "22    AnimalCrossing  [removed]   \n",
       "23    AnimalCrossing  [removed]   \n",
       "26    AnimalCrossing  [removed]   \n",
       "52    AnimalCrossing  [removed]   \n",
       "...              ...        ...   \n",
       "2032         thesims  [removed]   \n",
       "2038         thesims  [removed]   \n",
       "2069         thesims  [removed]   \n",
       "2085         thesims  [removed]   \n",
       "2086         thesims  [removed]   \n",
       "\n",
       "                                                  title  \n",
       "20             Recovering island from a damaged Switch?  \n",
       "22             How do I get pigeon milk with my coffee?  \n",
       "23    Question: Can you get Gyroids on a Nook Miles ...  \n",
       "26    Anyone have their villager in boxes they don’t...  \n",
       "52          Does anyone have any NMT to sell for bells?  \n",
       "...                                                 ...  \n",
       "2032                                  Is he handsome :)  \n",
       "2038                    Rescuing sims from a CAS crash?  \n",
       "2069                              mixing games features  \n",
       "2085                                VLAD:Trick or Trite  \n",
       "2086                        Where can I find alabaster?  \n",
       "\n",
       "[163 rows x 3 columns]"
      ]
     },
     "execution_count": 20,
     "metadata": {},
     "output_type": "execute_result"
    }
   ],
   "source": [
    "subreddit[subreddit['selftext']=='[removed]']"
   ]
  },
  {
   "cell_type": "markdown",
   "id": "48fc45f7",
   "metadata": {},
   "source": [
    "There are 163 `selftext` rows that are [removed]. Combining the 163 [removed] rows with the blank `selftext` rows represents 1652/2053 of our rows missing from the `selftext` column."
   ]
  },
  {
   "cell_type": "markdown",
   "id": "8bf71976",
   "metadata": {},
   "source": [
    "#### Removing Duplicates"
   ]
  },
  {
   "cell_type": "code",
   "execution_count": 21,
   "id": "1c524729",
   "metadata": {},
   "outputs": [
    {
     "data": {
      "text/plain": [
       "False    2053\n",
       "True       46\n",
       "Name: title, dtype: int64"
      ]
     },
     "execution_count": 21,
     "metadata": {},
     "output_type": "execute_result"
    }
   ],
   "source": [
    "subreddit['title'].duplicated().value_counts()"
   ]
  },
  {
   "cell_type": "markdown",
   "id": "4b331b07",
   "metadata": {},
   "source": [
    "There are 46 duplicated posts, I will remove these because they are the exact same."
   ]
  },
  {
   "cell_type": "code",
   "execution_count": 23,
   "id": "cd4e09f1",
   "metadata": {},
   "outputs": [],
   "source": [
    "# Removing Duplicates with `title`\n",
    "subreddit.drop_duplicates(subset='title', inplace=True)"
   ]
  },
  {
   "cell_type": "markdown",
   "id": "77dc5aef",
   "metadata": {},
   "source": [
    "#### Convert `subreddit` Features into Binary Labels"
   ]
  },
  {
   "cell_type": "markdown",
   "id": "aa1c0a9d",
   "metadata": {},
   "source": [
    "- 0: The Sims\n",
    "- 1: Animal Crossing"
   ]
  },
  {
   "cell_type": "code",
   "execution_count": 24,
   "id": "1e6734c5",
   "metadata": {},
   "outputs": [
    {
     "data": {
      "text/plain": [
       "1    0.520214\n",
       "0    0.479786\n",
       "Name: label, dtype: float64"
      ]
     },
     "execution_count": 24,
     "metadata": {},
     "output_type": "execute_result"
    }
   ],
   "source": [
    "# Create Label Column\n",
    "subreddit['label'] = subreddit['subreddit'].map({'thesims':0, 'AnimalCrossing':1})\n",
    "\n",
    "#Baseline\n",
    "subreddit['label'].value_counts(normalize=True)"
   ]
  },
  {
   "cell_type": "code",
   "execution_count": 25,
   "id": "6d2e4a85",
   "metadata": {},
   "outputs": [
    {
     "data": {
      "text/html": [
       "<div>\n",
       "<style scoped>\n",
       "    .dataframe tbody tr th:only-of-type {\n",
       "        vertical-align: middle;\n",
       "    }\n",
       "\n",
       "    .dataframe tbody tr th {\n",
       "        vertical-align: top;\n",
       "    }\n",
       "\n",
       "    .dataframe thead th {\n",
       "        text-align: right;\n",
       "    }\n",
       "</style>\n",
       "<table border=\"1\" class=\"dataframe\">\n",
       "  <thead>\n",
       "    <tr style=\"text-align: right;\">\n",
       "      <th></th>\n",
       "      <th>subreddit</th>\n",
       "      <th>selftext</th>\n",
       "      <th>title</th>\n",
       "      <th>label</th>\n",
       "    </tr>\n",
       "  </thead>\n",
       "  <tbody>\n",
       "    <tr>\n",
       "      <th>0</th>\n",
       "      <td>AnimalCrossing</td>\n",
       "      <td></td>\n",
       "      <td>The Legend of Coco: Twilight Princess</td>\n",
       "      <td>1</td>\n",
       "    </tr>\n",
       "    <tr>\n",
       "      <th>1</th>\n",
       "      <td>AnimalCrossing</td>\n",
       "      <td></td>\n",
       "      <td>Star Trail &amp;amp; Time-Lapse - ACNH-01 (Youtube...</td>\n",
       "      <td>1</td>\n",
       "    </tr>\n",
       "    <tr>\n",
       "      <th>2</th>\n",
       "      <td>AnimalCrossing</td>\n",
       "      <td>i have a genuine robust statue i got from redd...</td>\n",
       "      <td>why cant i donate art to blathers?</td>\n",
       "      <td>1</td>\n",
       "    </tr>\n",
       "    <tr>\n",
       "      <th>4</th>\n",
       "      <td>AnimalCrossing</td>\n",
       "      <td>Hi all, hoping something like this exists, but...</td>\n",
       "      <td>Help finding complete sortable items list</td>\n",
       "      <td>1</td>\n",
       "    </tr>\n",
       "    <tr>\n",
       "      <th>5</th>\n",
       "      <td>AnimalCrossing</td>\n",
       "      <td></td>\n",
       "      <td>[Help] I don’t want them.</td>\n",
       "      <td>1</td>\n",
       "    </tr>\n",
       "  </tbody>\n",
       "</table>\n",
       "</div>"
      ],
      "text/plain": [
       "        subreddit                                           selftext  \\\n",
       "0  AnimalCrossing                                                      \n",
       "1  AnimalCrossing                                                      \n",
       "2  AnimalCrossing  i have a genuine robust statue i got from redd...   \n",
       "4  AnimalCrossing  Hi all, hoping something like this exists, but...   \n",
       "5  AnimalCrossing                                                      \n",
       "\n",
       "                                               title  label  \n",
       "0              The Legend of Coco: Twilight Princess      1  \n",
       "1  Star Trail &amp; Time-Lapse - ACNH-01 (Youtube...      1  \n",
       "2                 why cant i donate art to blathers?      1  \n",
       "4          Help finding complete sortable items list      1  \n",
       "5                          [Help] I don’t want them.      1  "
      ]
     },
     "execution_count": 25,
     "metadata": {},
     "output_type": "execute_result"
    }
   ],
   "source": [
    "# Changing `selftext` row's with '[removed]' to blank\n",
    "subreddit['selftext'] = subreddit['selftext'].replace('[removed]', '')\n",
    "subreddit.head()"
   ]
  },
  {
   "cell_type": "code",
   "execution_count": 26,
   "id": "64880ffc",
   "metadata": {},
   "outputs": [],
   "source": [
    "# New Column Combining `selftext` with `title`\n",
    "subreddit['full_text'] = subreddit['title'] + ' ' + subreddit['selftext']"
   ]
  },
  {
   "cell_type": "code",
   "execution_count": 28,
   "id": "c3dff212",
   "metadata": {},
   "outputs": [],
   "source": [
    "# Replacing '&amp;'\n",
    "subreddit['full_text'] = subreddit['full_text'].replace('&amp;', '&', regex=True)"
   ]
  },
  {
   "cell_type": "code",
   "execution_count": 29,
   "id": "b15fe514",
   "metadata": {},
   "outputs": [],
   "source": [
    "# Replacing URLs\n",
    "subreddit['full_text'] = subreddit['full_text'].replace(r'http\\S+', '', regex=True).replace(r'www\\S+', '', regex=True)"
   ]
  },
  {
   "cell_type": "markdown",
   "id": "aed2aa09",
   "metadata": {},
   "source": [
    "[Code Source](https://stackoverflow.com/questions/51994254/removing-url-from-a-column-in-pandas-dataframe/51994366)"
   ]
  },
  {
   "cell_type": "markdown",
   "id": "f902dcb5",
   "metadata": {},
   "source": [
    "### Data Dictionary"
   ]
  },
  {
   "cell_type": "markdown",
   "id": "99c8cebe",
   "metadata": {},
   "source": [
    "|Feature|Type|Dataset|Description|\n",
    "|---|---|---|---|\n",
    "|subreddit|object|subreddit|Title of Subreddit|\n",
    "|selftext|object|subreddit|Text in something|\n",
    "|title|object|subreddit|Title of Reddit post|\n",
    "|label|integer|subreddit|Subreddit into binary labels (Sims = 0 and Animal Crossing = 1)|\n",
    "|full_text|object|subreddit|Selftext and Title columns combined|\n",
    "|tokenized_sentences|object|subreddit|Tokenized sentences from full_text|\n",
    "|full_text_length|integer|subreddit|Count of full_text characters|\n",
    "|full_text_word_count|integer|subreddit|Word count for full_text|"
   ]
  },
  {
   "cell_type": "markdown",
   "id": "69eb7951",
   "metadata": {},
   "source": [
    "### Tokenize"
   ]
  },
  {
   "cell_type": "code",
   "execution_count": 30,
   "id": "35e32d2c",
   "metadata": {},
   "outputs": [],
   "source": [
    "tokenizer = RegexpTokenizer('\\s+', gaps=True)"
   ]
  },
  {
   "cell_type": "code",
   "execution_count": 31,
   "id": "90d69955",
   "metadata": {},
   "outputs": [
    {
     "data": {
      "text/plain": [
       "0            [the, legend, of, coco:, twilight, princess]\n",
       "1       [star, trail, &, time-lapse, -, acnh-01, (yout...\n",
       "2       [why, cant, i, donate, art, to, blathers?, i, ...\n",
       "4       [help, finding, complete, sortable, items, lis...\n",
       "5                         [[help], i, don’t, want, them.]\n",
       "                              ...                        \n",
       "2094    [turns, out,, if, you, make, a, sim, drink, be...\n",
       "2095    [so, out, of, boredom, i, gave, the, clients, ...\n",
       "2096    [i, was, watching, modern, family,, and, it, s...\n",
       "2097    [i, paused, at, the, right, moment, and, was, ...\n",
       "2098                                 [halloween, costume]\n",
       "Name: tokenized_sentences, Length: 2053, dtype: object"
      ]
     },
     "execution_count": 31,
     "metadata": {},
     "output_type": "execute_result"
    }
   ],
   "source": [
    "subreddit['tokenized_sentences'] = subreddit['full_text'].str.lower().apply(tokenizer.tokenize)\n",
    "subreddit['tokenized_sentences']"
   ]
  },
  {
   "cell_type": "markdown",
   "id": "4ade8dba",
   "metadata": {},
   "source": [
    "## Exploratory Data Analysis"
   ]
  },
  {
   "cell_type": "markdown",
   "id": "0cda055c",
   "metadata": {},
   "source": [
    "#### Summary Statistics:"
   ]
  },
  {
   "cell_type": "code",
   "execution_count": 33,
   "id": "bd47d3b8",
   "metadata": {},
   "outputs": [
    {
     "data": {
      "text/html": [
       "<div>\n",
       "<style scoped>\n",
       "    .dataframe tbody tr th:only-of-type {\n",
       "        vertical-align: middle;\n",
       "    }\n",
       "\n",
       "    .dataframe tbody tr th {\n",
       "        vertical-align: top;\n",
       "    }\n",
       "\n",
       "    .dataframe thead th {\n",
       "        text-align: right;\n",
       "    }\n",
       "</style>\n",
       "<table border=\"1\" class=\"dataframe\">\n",
       "  <thead>\n",
       "    <tr style=\"text-align: right;\">\n",
       "      <th></th>\n",
       "      <th>count</th>\n",
       "      <th>mean</th>\n",
       "      <th>std</th>\n",
       "      <th>min</th>\n",
       "      <th>25%</th>\n",
       "      <th>50%</th>\n",
       "      <th>75%</th>\n",
       "      <th>max</th>\n",
       "    </tr>\n",
       "  </thead>\n",
       "  <tbody>\n",
       "    <tr>\n",
       "      <th>label</th>\n",
       "      <td>2053.0</td>\n",
       "      <td>0.520214</td>\n",
       "      <td>0.499713</td>\n",
       "      <td>0.0</td>\n",
       "      <td>0.0</td>\n",
       "      <td>1.0</td>\n",
       "      <td>1.0</td>\n",
       "      <td>1.0</td>\n",
       "    </tr>\n",
       "  </tbody>\n",
       "</table>\n",
       "</div>"
      ],
      "text/plain": [
       "        count      mean       std  min  25%  50%  75%  max\n",
       "label  2053.0  0.520214  0.499713  0.0  0.0  1.0  1.0  1.0"
      ]
     },
     "execution_count": 33,
     "metadata": {},
     "output_type": "execute_result"
    }
   ],
   "source": [
    "subreddit.describe().T"
   ]
  },
  {
   "cell_type": "code",
   "execution_count": 34,
   "id": "d1a17ff8",
   "metadata": {},
   "outputs": [],
   "source": [
    "# Column to Show Character Length\n",
    "subreddit['full_text_length'] = subreddit['full_text'].apply(len)"
   ]
  },
  {
   "cell_type": "code",
   "execution_count": 35,
   "id": "48bd5dd6",
   "metadata": {},
   "outputs": [],
   "source": [
    "# Column to Show Word Count\n",
    "subreddit['full_text_word_count'] = subreddit['full_text'].str.split().apply(len)"
   ]
  },
  {
   "cell_type": "code",
   "execution_count": 36,
   "id": "2b501401",
   "metadata": {},
   "outputs": [
    {
     "data": {
      "text/plain": [
       "1574    1163\n",
       "1219     776\n",
       "304      549\n",
       "1704     506\n",
       "1732     493\n",
       "Name: tokenized_sentences, dtype: int64"
      ]
     },
     "execution_count": 36,
     "metadata": {},
     "output_type": "execute_result"
    }
   ],
   "source": [
    "# `tokenized_sentences` Top 5 Highest Word Count\n",
    "subreddit['tokenized_sentences'].str.len().sort_values(ascending=False).head()"
   ]
  },
  {
   "cell_type": "code",
   "execution_count": 37,
   "id": "7195892d",
   "metadata": {},
   "outputs": [
    {
     "data": {
      "text/plain": [
       "1664    0\n",
       "278     1\n",
       "309     1\n",
       "922     1\n",
       "613     1\n",
       "Name: tokenized_sentences, dtype: int64"
      ]
     },
     "execution_count": 37,
     "metadata": {},
     "output_type": "execute_result"
    }
   ],
   "source": [
    "# `tokenized_sentences` Top 5 Shortest Word Count\n",
    "subreddit['tokenized_sentences'].str.len().sort_values(ascending=True).head()"
   ]
  },
  {
   "cell_type": "code",
   "execution_count": 38,
   "id": "56d580cd",
   "metadata": {},
   "outputs": [
    {
     "data": {
      "image/png": "[encoded data removed]",
      "text/plain": [
       "<Figure size 432x288 with 1 Axes>"
      ]
     },
     "metadata": {
      "needs_background": "light"
     },
     "output_type": "display_data"
    }
   ],
   "source": [
    "# Histogram of Word Count for `tokenized_sentences`\n",
    "plt.hist(subreddit['tokenized_sentences'].str.len(), bins=20)\n",
    "plt.ylabel('Number of Posts')\n",
    "plt.xlabel('Word Count');"
   ]
  },
  {
   "cell_type": "markdown",
   "id": "efcdc13d",
   "metadata": {},
   "source": [
    "The histogram above shows that most posts range under 100 word count."
   ]
  },
  {
   "cell_type": "code",
   "execution_count": 39,
   "id": "b1eecf9f",
   "metadata": {},
   "outputs": [
    {
     "data": {
      "text/plain": [
       "1574    6782\n",
       "1219    4248\n",
       "1732    3129\n",
       "304     2996\n",
       "1704    2802\n",
       "Name: full_text_length, dtype: int64"
      ]
     },
     "execution_count": 39,
     "metadata": {},
     "output_type": "execute_result"
    }
   ],
   "source": [
    "# `full_text` Top 5 Longest Length Count\n",
    "subreddit['full_text_length'].sort_values(ascending=False).head()"
   ]
  },
  {
   "cell_type": "code",
   "execution_count": 40,
   "id": "b62dd086",
   "metadata": {},
   "outputs": [
    {
     "data": {
      "text/plain": [
       "1664    0\n",
       "278     1\n",
       "309     1\n",
       "922     1\n",
       "613     1\n",
       "Name: full_text_word_count, dtype: int64"
      ]
     },
     "execution_count": 40,
     "metadata": {},
     "output_type": "execute_result"
    }
   ],
   "source": [
    "# `full_text` Top 5 Shortest Length Count\n",
    "subreddit['full_text_word_count'].sort_values(ascending=True).head()"
   ]
  },
  {
   "cell_type": "code",
   "execution_count": 219,
   "id": "49162ec3",
   "metadata": {},
   "outputs": [
    {
     "data": {
      "image/png": "[encoded data removed]",
      "text/plain": [
       "<Figure size 432x288 with 1 Axes>"
      ]
     },
     "metadata": {
      "needs_background": "light"
     },
     "output_type": "display_data"
    }
   ],
   "source": [
    "# Histogram of `full_text` Word Count\n",
    "plt.hist(subreddit['full_text_word_count'], bins=20)\n",
    "plt.ylabel('Number of Posts')\n",
    "plt.xlabel('Word Count');"
   ]
  },
  {
   "cell_type": "markdown",
   "id": "2f58cf8c",
   "metadata": {},
   "source": [
    "The above histogram represents the word count with number of posts. It seems like most posts are under 100 words, but because the scale of the x-axis is by 200, I decided to split the histogram into 2 and see if there are outliers."
   ]
  },
  {
   "cell_type": "code",
   "execution_count": 224,
   "id": "49e5d32f",
   "metadata": {},
   "outputs": [
    {
     "data": {
      "image/png": "[encoded data removed]",
      "text/plain": [
       "<Figure size 432x288 with 1 Axes>"
      ]
     },
     "metadata": {
      "needs_background": "light"
     },
     "output_type": "display_data"
    }
   ],
   "source": [
    "# Posts with Less Than 100 Words\n",
    "word_count_below = subreddit[subreddit['full_text_word_count'] < 100]\n",
    "\n",
    "# Plot with Less Than 100 Words\n",
    "plt.hist(word_count_below['full_text_word_count'], bins=20)\n",
    "plt.ylabel('Number of Posts')\n",
    "plt.xlabel('Word Count');"
   ]
  },
  {
   "cell_type": "code",
   "execution_count": 222,
   "id": "b863cf2d",
   "metadata": {},
   "outputs": [
    {
     "data": {
      "image/png": "[encoded data removed]",
      "text/plain": [
       "<Figure size 432x288 with 1 Axes>"
      ]
     },
     "metadata": {
      "needs_background": "light"
     },
     "output_type": "display_data"
    }
   ],
   "source": [
    "# Posts with More Than 100 Words\n",
    "word_count_above = subreddit[subreddit['full_text_word_count'] > 100]\n",
    "\n",
    "# Plot with More Than 100 Words\n",
    "plt.hist(word_count_above['full_text_word_count'], bins=20)\n",
    "plt.ylabel('Number of Posts')\n",
    "plt.xlabel('Word Count');"
   ]
  },
  {
   "cell_type": "markdown",
   "id": "63465c8c",
   "metadata": {},
   "source": [
    "The two histograms above are the word counts where count is split by numbers under 100 and numbers above 100 words. When we split the histograms. we can see that most posts are under 20 words."
   ]
  },
  {
   "cell_type": "code",
   "execution_count": 41,
   "id": "d43eaa17",
   "metadata": {},
   "outputs": [
    {
     "data": {
      "image/png": "[encoded data removed]",
      "text/plain": [
       "<Figure size 432x288 with 1 Axes>"
      ]
     },
     "metadata": {
      "needs_background": "light"
     },
     "output_type": "display_data"
    }
   ],
   "source": [
    "# Length of full_text\n",
    "plt.hist(subreddit['full_text_length'], bins=20)\n",
    "plt.ylabel('Number of Posts')\n",
    "plt.xlabel('Length Based off Character');"
   ]
  },
  {
   "cell_type": "markdown",
   "id": "6b86f58d",
   "metadata": {},
   "source": [
    "The above histogram represents the length based off of character count with number of posts. It seems like most posts are under 500, but because the scale of the x-axis is by 1000, I decided to split the histogram into 2 to see if there are outliers."
   ]
  },
  {
   "cell_type": "code",
   "execution_count": 215,
   "id": "c491a83f",
   "metadata": {},
   "outputs": [
    {
     "data": {
      "image/png": "[encoded data removed]",
      "text/plain": [
       "<Figure size 432x288 with 1 Axes>"
      ]
     },
     "metadata": {
      "needs_background": "light"
     },
     "output_type": "display_data"
    }
   ],
   "source": [
    "# Posts with More Than 1000 Characters\n",
    "full_text_length_above_1000 = subreddit[subreddit['full_text_length'] > 1000]\n",
    "\n",
    "# Plot with More Than 1000 Characters\n",
    "full_text_length_above_1000 = subreddit[subreddit['full_text_length'] > 1000]\n",
    "plt.hist(full_text_length_above_1000['full_text_length'], bins=20)\n",
    "plt.ylabel('Number of Posts')\n",
    "plt.xlabel('Length Based off Character');"
   ]
  },
  {
   "cell_type": "code",
   "execution_count": 213,
   "id": "994e4767",
   "metadata": {},
   "outputs": [
    {
     "data": {
      "image/png": "[encoded data removed]",
      "text/plain": [
       "<Figure size 432x288 with 1 Axes>"
      ]
     },
     "metadata": {
      "needs_background": "light"
     },
     "output_type": "display_data"
    }
   ],
   "source": [
    "# Posts with Less Than 1000 Characters\n",
    "full_text_length_under = subreddit[subreddit['full_text_length'] < 1000]\n",
    "\n",
    "# Plot with Less Than 1000 Characters\n",
    "plt.hist(full_text_length_under['full_text_length'], bins=20)\n",
    "plt.ylabel('Number of Posts')\n",
    "plt.xlabel('Length Based off Character');"
   ]
  },
  {
   "cell_type": "markdown",
   "id": "89e449ba",
   "metadata": {},
   "source": [
    "The histograms above shows the length based off characters for `full_text`. Most posts are under 200 characters. I split the histogram into 2 to look at the outliers (posts above 3000) and to further look into the posts under 1000 characters. The histograms were split by posts over 1000 characters and under 1000 characters."
   ]
  },
  {
   "cell_type": "markdown",
   "id": "97d29e0c",
   "metadata": {},
   "source": [
    "#### Groupby Subreddits"
   ]
  },
  {
   "cell_type": "code",
   "execution_count": 42,
   "id": "a823f473",
   "metadata": {},
   "outputs": [
    {
     "name": "stderr",
     "output_type": "stream",
     "text": [
      "<ipython-input-42-caa094aa868a>:1: FutureWarning: Indexing with multiple keys (implicitly converted to a tuple of keys) will be deprecated, use a list instead.\n",
      "  subreddit.groupby(['subreddit'])['full_text_word_count', 'full_text_length'].mean()\n"
     ]
    },
    {
     "data": {
      "text/html": [
       "<div>\n",
       "<style scoped>\n",
       "    .dataframe tbody tr th:only-of-type {\n",
       "        vertical-align: middle;\n",
       "    }\n",
       "\n",
       "    .dataframe tbody tr th {\n",
       "        vertical-align: top;\n",
       "    }\n",
       "\n",
       "    .dataframe thead th {\n",
       "        text-align: right;\n",
       "    }\n",
       "</style>\n",
       "<table border=\"1\" class=\"dataframe\">\n",
       "  <thead>\n",
       "    <tr style=\"text-align: right;\">\n",
       "      <th></th>\n",
       "      <th>full_text_word_count</th>\n",
       "      <th>full_text_length</th>\n",
       "    </tr>\n",
       "    <tr>\n",
       "      <th>subreddit</th>\n",
       "      <th></th>\n",
       "      <th></th>\n",
       "    </tr>\n",
       "  </thead>\n",
       "  <tbody>\n",
       "    <tr>\n",
       "      <th>AnimalCrossing</th>\n",
       "      <td>20.390449</td>\n",
       "      <td>108.957865</td>\n",
       "    </tr>\n",
       "    <tr>\n",
       "      <th>thesims</th>\n",
       "      <td>37.624365</td>\n",
       "      <td>201.973604</td>\n",
       "    </tr>\n",
       "  </tbody>\n",
       "</table>\n",
       "</div>"
      ],
      "text/plain": [
       "                full_text_word_count  full_text_length\n",
       "subreddit                                             \n",
       "AnimalCrossing             20.390449        108.957865\n",
       "thesims                    37.624365        201.973604"
      ]
     },
     "execution_count": 42,
     "metadata": {},
     "output_type": "execute_result"
    }
   ],
   "source": [
    "subreddit.groupby(['subreddit'])['full_text_word_count', 'full_text_length'].mean()"
   ]
  },
  {
   "cell_type": "markdown",
   "id": "0dc9acbb",
   "metadata": {},
   "source": [
    "When grouping by Subreddits, we see that The Sims Subreddit seems to have longer mean word count and more characters when compared to the Animal Crossing Subreddit."
   ]
  },
  {
   "cell_type": "markdown",
   "id": "45008e33",
   "metadata": {},
   "source": [
    "#### Distribution Plot"
   ]
  },
  {
   "cell_type": "code",
   "execution_count": 150,
   "id": "262ccf1c",
   "metadata": {},
   "outputs": [
    {
     "name": "stderr",
     "output_type": "stream",
     "text": [
      "/opt/anaconda3/lib/python3.8/site-packages/seaborn/distributions.py:2557: FutureWarning: `distplot` is a deprecated function and will be removed in a future version. Please adapt your code to use either `displot` (a figure-level function with similar flexibility) or `histplot` (an axes-level function for histograms).\n",
      "  warnings.warn(msg, FutureWarning)\n",
      "/opt/anaconda3/lib/python3.8/site-packages/seaborn/distributions.py:2557: FutureWarning: `distplot` is a deprecated function and will be removed in a future version. Please adapt your code to use either `displot` (a figure-level function with similar flexibility) or `histplot` (an axes-level function for histograms).\n",
      "  warnings.warn(msg, FutureWarning)\n"
     ]
    },
    {
     "data": {
      "image/png": "[encoded data removed]",
      "text/plain": [
       "<Figure size 432x288 with 1 Axes>"
      ]
     },
     "metadata": {
      "needs_background": "light"
     },
     "output_type": "display_data"
    }
   ],
   "source": [
    "sns.distplot(subreddit[subreddit['subreddit'] == 'AnimalCrossing']['full_text_word_count'])\n",
    "sns.distplot(subreddit[subreddit['subreddit'] == 'thesims']['full_text_word_count']);"
   ]
  },
  {
   "cell_type": "markdown",
   "id": "76affc9a",
   "metadata": {},
   "source": [
    "#### Word Cloud"
   ]
  },
  {
   "cell_type": "code",
   "execution_count": 155,
   "id": "28db3dc5",
   "metadata": {},
   "outputs": [],
   "source": [
    "#Code Source: https://neptune.ai/blog/exploratory-data-analysis-natural-language-processing-tools\n",
    "\n",
    "stop_words = ['Name', 'object', 'Length', 'title', 'dtype', 'full_text', 'tokenized_sentences'] + list(STOPWORDS)\n",
    "\n",
    "def show_wordcloud(data):\n",
    "    wordcloud = WordCloud(\n",
    "        background_color='white',\n",
    "        stopwords=stop_words,\n",
    "        max_words=100,\n",
    "        max_font_size=30,\n",
    "        scale=3,\n",
    "        random_state=42)\n",
    "   \n",
    "    wordcloud=wordcloud.generate(str(data))\n",
    "\n",
    "    fig = plt.figure(1, figsize=(12, 12))\n",
    "    plt.axis('off')\n",
    "\n",
    "    plt.imshow(wordcloud)\n",
    "    plt.show()"
   ]
  },
  {
   "cell_type": "code",
   "execution_count": 156,
   "id": "34a02990",
   "metadata": {},
   "outputs": [
    {
     "data": {
      "image/png": "[encoded data removed]",
      "text/plain": [
       "<Figure size 864x864 with 1 Axes>"
      ]
     },
     "metadata": {
      "needs_background": "light"
     },
     "output_type": "display_data"
    }
   ],
   "source": [
    "# Word Cloud for Animal Crossing\n",
    "show_wordcloud(animal_crossing['title'])"
   ]
  },
  {
   "cell_type": "code",
   "execution_count": 153,
   "id": "aa25127e",
   "metadata": {},
   "outputs": [
    {
     "data": {
      "image/png": "[encoded data removed]",
      "text/plain": [
       "<Figure size 864x864 with 1 Axes>"
      ]
     },
     "metadata": {
      "needs_background": "light"
     },
     "output_type": "display_data"
    }
   ],
   "source": [
    "# Word Cloud for The Sims\n",
    "show_wordcloud(sims['title'])"
   ]
  },
  {
   "cell_type": "code",
   "execution_count": 48,
   "id": "57493f60",
   "metadata": {},
   "outputs": [
    {
     "data": {
      "image/png": "[encoded data removed]",
      "text/plain": [
       "<Figure size 864x864 with 1 Axes>"
      ]
     },
     "metadata": {
      "needs_background": "light"
     },
     "output_type": "display_data"
    }
   ],
   "source": [
    "show_wordcloud(subreddit['tokenized_sentences'])"
   ]
  },
  {
   "cell_type": "markdown",
   "id": "ad6df1d0",
   "metadata": {},
   "source": [
    "I made word clouds to visually see what words may stand out from the rest of the words. I made word clouds on individual Subreddits and the Subreddits combined."
   ]
  },
  {
   "cell_type": "markdown",
   "id": "a19dbad1",
   "metadata": {},
   "source": [
    "## Preprocessing and Modeling"
   ]
  },
  {
   "cell_type": "code",
   "execution_count": 49,
   "id": "851329e0",
   "metadata": {},
   "outputs": [],
   "source": [
    "# Defining X and y\n",
    "X = subreddit['full_text']\n",
    "y = subreddit['label']"
   ]
  },
  {
   "cell_type": "code",
   "execution_count": 50,
   "id": "202dfbe3",
   "metadata": {},
   "outputs": [
    {
     "data": {
      "text/plain": [
       "0               The Legend of Coco: Twilight Princess \n",
       "1        Star Trail & Time-Lapse - ACNH-01 (Youtube:  \n",
       "2    why cant i donate art to blathers? i have a ge...\n",
       "4    Help finding complete sortable items list Hi a...\n",
       "5                           [Help] I don’t want them. \n",
       "Name: full_text, dtype: object"
      ]
     },
     "execution_count": 50,
     "metadata": {},
     "output_type": "execute_result"
    }
   ],
   "source": [
    "X.head()"
   ]
  },
  {
   "cell_type": "code",
   "execution_count": 51,
   "id": "28988458",
   "metadata": {},
   "outputs": [],
   "source": [
    "# Split the data into the training and testing sets\n",
    "X_train, X_test, y_train, y_test = train_test_split(X, y, test_size=0.20, stratify=y, random_state = 42)"
   ]
  },
  {
   "cell_type": "code",
   "execution_count": 363,
   "id": "1b1a904c",
   "metadata": {},
   "outputs": [
    {
     "data": {
      "text/plain": [
       "1    0.519455\n",
       "0    0.480545\n",
       "Name: label, dtype: float64"
      ]
     },
     "execution_count": 363,
     "metadata": {},
     "output_type": "execute_result"
    }
   ],
   "source": [
    "# Baseline: Null Model\n",
    "y_train.value_counts(normalize=True)\n",
    "y_test.value_counts(normalize=True)"
   ]
  },
  {
   "cell_type": "markdown",
   "id": "d54ea34a",
   "metadata": {},
   "source": [
    "### Preprocessing"
   ]
  },
  {
   "cell_type": "markdown",
   "id": "12e716fa",
   "metadata": {},
   "source": [
    "#### Count Vectorizer"
   ]
  },
  {
   "cell_type": "code",
   "execution_count": 158,
   "id": "a5715c4f",
   "metadata": {},
   "outputs": [],
   "source": [
    "# Instantiate a baseline CountVectorizer with only stop_words as hyperparameter\n",
    "cvec = CountVectorizer(stop_words= 'english')"
   ]
  },
  {
   "cell_type": "code",
   "execution_count": 159,
   "id": "48f9cc53",
   "metadata": {},
   "outputs": [
    {
     "data": {
      "text/plain": [
       "CountVectorizer(stop_words='english')"
      ]
     },
     "execution_count": 159,
     "metadata": {},
     "output_type": "execute_result"
    }
   ],
   "source": [
    "# Fit the Vectorizer\n",
    "cvec.fit(X_train)"
   ]
  },
  {
   "cell_type": "code",
   "execution_count": 160,
   "id": "dee09d9a",
   "metadata": {},
   "outputs": [],
   "source": [
    "# Transform Corpus\n",
    "X_train_countvec = cvec.transform(X_train)"
   ]
  },
  {
   "cell_type": "code",
   "execution_count": 168,
   "id": "ab3fd4cc",
   "metadata": {},
   "outputs": [
    {
     "data": {
      "text/plain": [
       "911                     My little farm next to my house. \n",
       "1052                        Making my European entrance! \n",
       "996     ♡ Build your castle from the rocks thrown at y...\n",
       "439          Uhhhh, Kiki that’s a little inappropriate…. \n",
       "608     Just got Ione! The inside of her house is beau...\n",
       "Name: full_text, dtype: object"
      ]
     },
     "execution_count": 168,
     "metadata": {},
     "output_type": "execute_result"
    }
   ],
   "source": [
    "X_train.head()"
   ]
  },
  {
   "cell_type": "code",
   "execution_count": 162,
   "id": "fe146b6b",
   "metadata": {},
   "outputs": [
    {
     "data": {
      "text/plain": [
       "<1539x5216 sparse matrix of type '<class 'numpy.int64'>'\n",
       "\twith 17914 stored elements in Compressed Sparse Row format>"
      ]
     },
     "execution_count": 162,
     "metadata": {},
     "output_type": "execute_result"
    }
   ],
   "source": [
    "X_train_countvec"
   ]
  },
  {
   "cell_type": "code",
   "execution_count": 163,
   "id": "12dd3af8",
   "metadata": {},
   "outputs": [
    {
     "data": {
      "text/plain": [
       "matrix([[0, 0, 0, ..., 0, 0, 0],\n",
       "        [0, 0, 0, ..., 0, 0, 0],\n",
       "        [0, 0, 0, ..., 0, 0, 0],\n",
       "        ...,\n",
       "        [0, 0, 0, ..., 0, 0, 0],\n",
       "        [0, 0, 0, ..., 0, 0, 0],\n",
       "        [0, 0, 0, ..., 0, 0, 0]])"
      ]
     },
     "execution_count": 163,
     "metadata": {},
     "output_type": "execute_result"
    }
   ],
   "source": [
    "# Sparse to Dense Representation\n",
    "X_train_countvec.todense()"
   ]
  },
  {
   "cell_type": "code",
   "execution_count": 175,
   "id": "2186ad3c",
   "metadata": {},
   "outputs": [
    {
     "data": {
      "image/png": "[encoded data removed]",
      "text/plain": [
       "<Figure size 432x288 with 1 Axes>"
      ]
     },
     "metadata": {
      "needs_background": "light"
     },
     "output_type": "display_data"
    }
   ],
   "source": [
    "# Dataframe for CountVectorizer\n",
    "subreddit_train_wordcount = pd.DataFrame(X_train_countvec.todense(), columns = cvec.get_feature_names())\n",
    "\n",
    "# Transform test\n",
    "X_test_countvec = cvec.transform(X_test)\n",
    "\n",
    "# Bar Graph of Top 20 Words\n",
    "subreddit_train_wordcount.sum().sort_values(ascending=False).head(20).sort_values(ascending=True).plot(kind='barh');"
   ]
  },
  {
   "cell_type": "markdown",
   "id": "5e1dd656",
   "metadata": {},
   "source": [
    "Above shows the top 20 words after utilizing the count vectorizer (no hyperparameters besides stop words were initiated).\n",
    "We see that \"sims\" dominates the bar graph and has over 400 in word count."
   ]
  },
  {
   "cell_type": "code",
   "execution_count": 171,
   "id": "8a366a03",
   "metadata": {},
   "outputs": [
    {
     "data": {
      "image/png": "[encoded data removed]",
      "text/plain": [
       "<Figure size 432x288 with 1 Axes>"
      ]
     },
     "metadata": {
      "needs_background": "light"
     },
     "output_type": "display_data"
    }
   ],
   "source": [
    "# Histogram of Top 20 Word Counts\n",
    "subreddit_train_wordcount.sum().sort_values(ascending=False).head(20).sort_values(ascending=True).plot(kind='hist');"
   ]
  },
  {
   "cell_type": "markdown",
   "id": "f1b6a9db",
   "metadata": {},
   "source": [
    "Above represents a histogram of the top 20 word count. We see that there are words at 450 that may be representative of an outlier."
   ]
  },
  {
   "cell_type": "code",
   "execution_count": 290,
   "id": "e96b58e5",
   "metadata": {},
   "outputs": [],
   "source": [
    "# Code Source: https://app.neptune.ai/o/neptune-ml/org/eda-nlp-tools/n/2-0-top-ngrams-barchart-671a187d-c3b4-475a-bc9e-8aa6c937923b/c427446f-7b0e-4621-b791-47b0fd31a39e\n",
    "\n",
    "def top_ngrams_barchart(text, n=2):\n",
    "    stop_words = set(stopwords.words('english'))\n",
    "\n",
    "    post = text.str.split() # Splitting text into string\n",
    "\n",
    "    post = post.values.tolist() # List of lists\n",
    "    \n",
    "    corpus=[word for i in post for word in i] # Putting into 1 list\n",
    "    \n",
    "    def get_top_ngram(corpus, n=None):\n",
    "        count_vec = CountVectorizer(ngram_range=(n, n)).fit(corpus) # Fit Count Vectorizer\n",
    "        bag_of_words = count_vec.transform(corpus) # Transform Count Vectorizer\n",
    "        sum_words = bag_of_words.sum(axis=0) # Sum of Transformed Count Vectorizer\n",
    "        \n",
    "        words_freq = [(word, sum_words[0, idx]) \n",
    "                      for word, idx in count_vec.vocabulary_.items()] # Summing count of words based on #n\n",
    "        \n",
    "        words_freq =sorted(words_freq, key = lambda x: x[1], reverse=True) # Sorting based on highest # of word frequency\n",
    "        return words_freq[:10] # Returning top 10\n",
    "\n",
    "    top_n_bigrams= get_top_ngram(text,n)[:10]\n",
    "    x,y=map(list,zip(*top_n_bigrams))\n",
    "    sns.barplot(x=y,y=x)"
   ]
  },
  {
   "cell_type": "code",
   "execution_count": 173,
   "id": "d6f9e7a3",
   "metadata": {},
   "outputs": [
    {
     "data": {
      "image/png": "[encoded data removed]",
      "text/plain": [
       "<Figure size 432x288 with 1 Axes>"
      ]
     },
     "metadata": {
      "needs_background": "light"
     },
     "output_type": "display_data"
    }
   ],
   "source": [
    "top_ngrams_barchart(subreddit['full_text'], 3)"
   ]
  },
  {
   "cell_type": "markdown",
   "id": "f20549e4",
   "metadata": {},
   "source": [
    "Above is a barchart of tri-grams. This makes it easier to see visually what words/phrases are occuring multiple times. The most used trigram was “in the sims” which would correspond to the Sims. I also found “happy home paradise” and “on my island” to be useful phrases for Animal Crossing."
   ]
  },
  {
   "cell_type": "code",
   "execution_count": 66,
   "id": "e8f263c6",
   "metadata": {},
   "outputs": [],
   "source": [
    "subreddit.reset_index(drop=True, inplace=True)"
   ]
  },
  {
   "cell_type": "code",
   "execution_count": 67,
   "id": "64b35e0d",
   "metadata": {},
   "outputs": [],
   "source": [
    "# Code Source: https://app.neptune.ai/neptune-ai/eda-nlp-tools/n/5-1-sentiment-barchart-1da2f77b-db4e-4636-b186-0328dcbb791b/ea6a3450-6d61-4b3f-9274-f1f0c241fa5c\n",
    "\n",
    "def sentiment_vader(text, sent):\n",
    "    sent_score = sent.polarity_scores(text)\n",
    "    return max(sent_score, key=sent_score.get)\n",
    "\n",
    "def plot_sentiment_barchart(text, method='Vader'):\n",
    "    sent = SentimentIntensityAnalyzer()\n",
    "    sentiment = text.map(lambda x: sentiment_vader(x, sent=sent))\n",
    "    \n",
    "    plt.bar(sentiment.value_counts().index,\n",
    "            sentiment.value_counts())"
   ]
  },
  {
   "cell_type": "code",
   "execution_count": 68,
   "id": "4954069b",
   "metadata": {},
   "outputs": [
    {
     "data": {
      "image/png": "[encoded data removed]",
      "text/plain": [
       "<Figure size 432x288 with 1 Axes>"
      ]
     },
     "metadata": {
      "needs_background": "light"
     },
     "output_type": "display_data"
    }
   ],
   "source": [
    "plot_sentiment_barchart(subreddit['full_text'], method='Vader')"
   ]
  },
  {
   "cell_type": "markdown",
   "id": "9da5b6a5",
   "metadata": {},
   "source": [
    "Bar chart on frequency of sentiment analysis for each post in Subreddit Animal Crossing and The Sims. The bar chart shows that most posts are neutral."
   ]
  },
  {
   "cell_type": "code",
   "execution_count": 69,
   "id": "84d0b620",
   "metadata": {},
   "outputs": [
    {
     "data": {
      "text/plain": [
       "1882    0.683\n",
       "1433    0.669\n",
       "891     0.664\n",
       "1787    0.649\n",
       "1721    0.636\n",
       "2001    0.632\n",
       "266     0.629\n",
       "1538    0.623\n",
       "202     0.607\n",
       "2006    0.605\n",
       "Name: neg, dtype: float64"
      ]
     },
     "execution_count": 69,
     "metadata": {},
     "output_type": "execute_result"
    }
   ],
   "source": [
    "# Instantiate Sentiment Analysis\n",
    "sent = SentimentIntensityAnalyzer()\n",
    "\n",
    "# Top 10 Negative Scores\n",
    "polarity_scores = pd.DataFrame([sent.polarity_scores(subreddit['full_text'][i]) for i in range(len(subreddit['full_text']))])\n",
    "polarity_scores['neg'].nlargest(n=10)"
   ]
  },
  {
   "cell_type": "code",
   "execution_count": 174,
   "id": "e69acbf4",
   "metadata": {},
   "outputs": [
    {
     "name": "stdout",
     "output_type": "stream",
     "text": [
      "zodiac killer confirmed \n",
      "Uhm... I'm absolutely terrified. o_o \n",
      "No, no, NO! You are NOT Sasha! \n",
      "Grim be stylin' \n",
      "Sweater curse IRL \n",
      "TW: removing suicide option from extreme violence? \n",
      "Attack on Titan! \n",
      "Angry Keanu Reeves \n",
      "Oh no! My Pietro! He’s broken! \n",
      "i literally didn't do anything lol wtf \n"
     ]
    }
   ],
   "source": [
    "#Top 10 Negative Posts\n",
    "print(subreddit['full_text'][1882])\n",
    "print(subreddit['full_text'][1433])\n",
    "print(subreddit['full_text'][891])\n",
    "print(subreddit['full_text'][1787])\n",
    "print(subreddit['full_text'][1721])\n",
    "print(subreddit['full_text'][2001])\n",
    "print(subreddit['full_text'][266])\n",
    "print(subreddit['full_text'][1538])\n",
    "print(subreddit['full_text'][202])\n",
    "print(subreddit['full_text'][2006])"
   ]
  },
  {
   "cell_type": "markdown",
   "id": "1095da12",
   "metadata": {},
   "source": [
    "Showing the top 10 negative polarity scores, we see that all scores are around .60. 7/10 negative posts are from The Sims Subreddit."
   ]
  },
  {
   "cell_type": "markdown",
   "id": "797ea2c1",
   "metadata": {},
   "source": [
    "#### TF-IDF Vectorizer"
   ]
  },
  {
   "cell_type": "code",
   "execution_count": 292,
   "id": "72cde381",
   "metadata": {},
   "outputs": [],
   "source": [
    "# Instantiate TF-IDF Vectorizer\n",
    "tvec = TfidfVectorizer(stop_words = 'english')"
   ]
  },
  {
   "cell_type": "code",
   "execution_count": 293,
   "id": "1db9342c",
   "metadata": {},
   "outputs": [
    {
     "data": {
      "image/png": "[encoded data removed]",
      "text/plain": [
       "<Figure size 432x288 with 1 Axes>"
      ]
     },
     "metadata": {
      "needs_background": "light"
     },
     "output_type": "display_data"
    }
   ],
   "source": [
    "# Convert Training Data to Dataframe\n",
    "X_train_tfidf = pd.DataFrame(tvec.fit_transform(X_train).todense(),\n",
    "                          columns = tvec.get_feature_names())\n",
    "\n",
    "# Bar Graph of Top 20 Words\n",
    "X_train_tfidf.sum().sort_values(ascending=False).head(20).sort_values(ascending=True).plot(kind='barh');"
   ]
  },
  {
   "cell_type": "markdown",
   "id": "0a0b95d1",
   "metadata": {},
   "source": [
    "### Modeling"
   ]
  },
  {
   "cell_type": "markdown",
   "id": "9757e66c",
   "metadata": {},
   "source": [
    "#### Pipeline & Gridsearch: Count Vectorizer"
   ]
  },
  {
   "cell_type": "code",
   "execution_count": 294,
   "id": "2fa04d51",
   "metadata": {},
   "outputs": [],
   "source": [
    "pipe_cvec = Pipeline([\n",
    "    ('cvec', CountVectorizer()), \n",
    "    ('mnb', MultinomialNB())\n",
    "])"
   ]
  },
  {
   "cell_type": "code",
   "execution_count": 295,
   "id": "67b21be7",
   "metadata": {},
   "outputs": [
    {
     "data": {
      "text/plain": [
       "0.8336582196231319"
      ]
     },
     "execution_count": 295,
     "metadata": {},
     "output_type": "execute_result"
    }
   ],
   "source": [
    "cross_val_score(pipe_cvec, X_train, y_train, cv=3).mean()"
   ]
  },
  {
   "cell_type": "code",
   "execution_count": 296,
   "id": "32bd8ac7",
   "metadata": {},
   "outputs": [
    {
     "name": "stdout",
     "output_type": "stream",
     "text": [
      "Multinomial Naive Bayes (Count Vectorizer) Train Score: 0.9636127355425601\n",
      "Multinomial Naive Bayes (Count Vectorizer) Test Score: 0.8287937743190662\n"
     ]
    }
   ],
   "source": [
    "pipe_cvec.fit(X_train, y_train)\n",
    "print(f'Multinomial Naive Bayes (Count Vectorizer) Train Score: {pipe_cvec.score(X_train, y_train)}')\n",
    "print(f'Multinomial Naive Bayes (Count Vectorizer) Test Score: {pipe_cvec.score(X_test, y_test)}')"
   ]
  },
  {
   "cell_type": "code",
   "execution_count": 297,
   "id": "f12a2398",
   "metadata": {},
   "outputs": [],
   "source": [
    "# MNB Parameters\n",
    "param_grid =  {\n",
    "    'cvec__max_features': [2000, 3000, 4000, 5000],\n",
    "    'cvec__min_df': [2, 3],\n",
    "    'cvec__max_df': [.9, .95],\n",
    "    'cvec__ngram_range': [(1,1), (1,2)],\n",
    "    'cvec__stop_words': [None, 'english'],\n",
    "}"
   ]
  },
  {
   "cell_type": "code",
   "execution_count": 298,
   "id": "2307adbb",
   "metadata": {},
   "outputs": [],
   "source": [
    "# Gridsearch MNB\n",
    "mnb_gs = GridSearchCV(pipe_cvec, param_grid, cv=5, verbose=1)"
   ]
  },
  {
   "cell_type": "code",
   "execution_count": 299,
   "id": "76719794",
   "metadata": {},
   "outputs": [
    {
     "name": "stdout",
     "output_type": "stream",
     "text": [
      "Fitting 5 folds for each of 64 candidates, totalling 320 fits\n"
     ]
    },
    {
     "data": {
      "text/plain": [
       "GridSearchCV(cv=5,\n",
       "             estimator=Pipeline(steps=[('cvec', CountVectorizer()),\n",
       "                                       ('mnb', MultinomialNB())]),\n",
       "             param_grid={'cvec__max_df': [0.9, 0.95],\n",
       "                         'cvec__max_features': [2000, 3000, 4000, 5000],\n",
       "                         'cvec__min_df': [2, 3],\n",
       "                         'cvec__ngram_range': [(1, 1), (1, 2)],\n",
       "                         'cvec__stop_words': [None, 'english']},\n",
       "             verbose=1)"
      ]
     },
     "execution_count": 299,
     "metadata": {},
     "output_type": "execute_result"
    }
   ],
   "source": [
    "# Fit GridSearch to Training Data\n",
    "mnb_gs.fit(X_train, y_train)"
   ]
  },
  {
   "cell_type": "code",
   "execution_count": 300,
   "id": "28f444de",
   "metadata": {},
   "outputs": [
    {
     "name": "stdout",
     "output_type": "stream",
     "text": [
      "0.8576970261009349\n"
     ]
    }
   ],
   "source": [
    "# Multinomial Naive Bayes (Count Vectorizer) Best Score\n",
    "print(mnb_gs.best_score_)"
   ]
  },
  {
   "cell_type": "code",
   "execution_count": 301,
   "id": "9f67021b",
   "metadata": {},
   "outputs": [
    {
     "data": {
      "text/plain": [
       "{'cvec__max_df': 0.9,\n",
       " 'cvec__max_features': 2000,\n",
       " 'cvec__min_df': 2,\n",
       " 'cvec__ngram_range': (1, 1),\n",
       " 'cvec__stop_words': 'english'}"
      ]
     },
     "execution_count": 301,
     "metadata": {},
     "output_type": "execute_result"
    }
   ],
   "source": [
    "# Multinomial Naive Bayes (Count Vectorizer) Best Parameters\n",
    "mnb_gs.best_params_"
   ]
  },
  {
   "cell_type": "markdown",
   "id": "2fe5cf3e",
   "metadata": {},
   "source": [
    "Utilizing Count Vectorizer's Best Parameters:"
   ]
  },
  {
   "cell_type": "code",
   "execution_count": 302,
   "id": "55827482",
   "metadata": {},
   "outputs": [],
   "source": [
    "# Count Vectorizer's Parameters\n",
    "cvec_params = {'cvec__max_df': 0.9,\n",
    " 'cvec__max_features': 3000,\n",
    " 'cvec__min_df': 2,\n",
    " 'cvec__ngram_range': (1, 2),\n",
    " 'cvec__stop_words': 'english'}"
   ]
  },
  {
   "cell_type": "code",
   "execution_count": 303,
   "id": "254b6511",
   "metadata": {},
   "outputs": [
    {
     "name": "stderr",
     "output_type": "stream",
     "text": [
      "/opt/anaconda3/lib/python3.8/site-packages/sklearn/utils/validation.py:70: FutureWarning: Pass input={'cvec__max_df': 0.9, 'cvec__max_features': 3000, 'cvec__min_df': 2, 'cvec__ngram_range': (1, 2), 'cvec__stop_words': 'english'} as keyword args. From version 1.0 (renaming of 0.25) passing these as positional arguments will result in an error\n",
      "  warnings.warn(f\"Pass {args_msg} as keyword args. From version \"\n"
     ]
    }
   ],
   "source": [
    "# Instantiate Count Vectorizer\n",
    "cvec_final = CountVectorizer(cvec_params)"
   ]
  },
  {
   "cell_type": "code",
   "execution_count": 304,
   "id": "2ce2125d",
   "metadata": {},
   "outputs": [],
   "source": [
    "# Fit/Transform Train and Test\n",
    "X_train_cvec = cvec_final.fit_transform(X_train)\n",
    "X_test_cvec = cvec_final.transform(X_test)"
   ]
  },
  {
   "cell_type": "code",
   "execution_count": 305,
   "id": "a9f89129",
   "metadata": {},
   "outputs": [
    {
     "name": "stdout",
     "output_type": "stream",
     "text": [
      "Multinomial Naive Bayes (Count Vectorizer) Train Score: 0.9317738791423001\n",
      "Multinomial Naive Bayes (Count Vectorizer) Test Score: 0.8346303501945526\n"
     ]
    }
   ],
   "source": [
    "# Count Vectorizer Best Score with Parameters\n",
    "print(f'Multinomial Naive Bayes (Count Vectorizer) Train Score: {mnb_gs.score(X_train, y_train)}')\n",
    "print(f'Multinomial Naive Bayes (Count Vectorizer) Test Score: {mnb_gs.score(X_test, y_test)}')"
   ]
  },
  {
   "cell_type": "code",
   "execution_count": 306,
   "id": "9df69424",
   "metadata": {},
   "outputs": [
    {
     "data": {
      "image/png": "[encoded data removed]",
      "text/plain": [
       "<Figure size 432x288 with 2 Axes>"
      ]
     },
     "metadata": {
      "needs_background": "light"
     },
     "output_type": "display_data"
    }
   ],
   "source": [
    "# Get Predictions\n",
    "preds_cvec = mnb_gs.predict(X_test)\n",
    "\n",
    "# Save Confusion Matrix Values\n",
    "tn, fp, fn, tp = confusion_matrix(y_test, preds_cvec).ravel()\n",
    "\n",
    "# Plot Confusion Matrix\n",
    "plot_confusion_matrix(mnb_gs, X_test, y_test, cmap='GnBu', values_format='d', display_labels=['The Sims', 'Animal Crossing']);"
   ]
  },
  {
   "cell_type": "code",
   "execution_count": 307,
   "id": "3b5147d6",
   "metadata": {},
   "outputs": [
    {
     "name": "stdout",
     "output_type": "stream",
     "text": [
      "Multinomial Naive Bayes (Count Vectorizer) Specificity: 0.8299595141700404\n",
      "Multinomial Naive Bayes (Count Vectorizer) Sensitivity: 0.8389513108614233\n"
     ]
    }
   ],
   "source": [
    "print(f'Multinomial Naive Bayes (Count Vectorizer) Specificity: {tn / (tn + fp)}')\n",
    "print(f'Multinomial Naive Bayes (Count Vectorizer) Sensitivity: {tp / (tp + fn)}')"
   ]
  },
  {
   "cell_type": "markdown",
   "id": "3efc6b64",
   "metadata": {},
   "source": [
    "#### Pipeline & Gridsearch: TF-IDF Vectorizer"
   ]
  },
  {
   "cell_type": "code",
   "execution_count": 308,
   "id": "7ff90363",
   "metadata": {},
   "outputs": [],
   "source": [
    "# Multinomial Naive Bayes Pipeline\n",
    "pipe_tvec = Pipeline([\n",
    "    ('tvec', TfidfVectorizer()),\n",
    "    ('mnb', MultinomialNB())\n",
    "])"
   ]
  },
  {
   "cell_type": "code",
   "execution_count": 309,
   "id": "9c07891e",
   "metadata": {},
   "outputs": [],
   "source": [
    "# Pipeline Parameters - TF-IDF Vectorizer\n",
    "pipe_tvec_params = {\n",
    "    'tvec__max_features': [2000, 3000, 4000, 5000],\n",
    "    'tvec__stop_words': [None, 'english'],\n",
    "    'tvec__min_df': [2, 3],\n",
    "    'tvec__max_df': [.9, .95],\n",
    "    'tvec__ngram_range': [(1,1), (1,2)]\n",
    "}\n"
   ]
  },
  {
   "cell_type": "code",
   "execution_count": 310,
   "id": "7bd1c907",
   "metadata": {},
   "outputs": [],
   "source": [
    "# MNB Gridsearch\n",
    "tvec_gs = GridSearchCV(pipe_tvec, pipe_tvec_params, cv=5, verbose=1)"
   ]
  },
  {
   "cell_type": "code",
   "execution_count": 311,
   "id": "54d1f2ba",
   "metadata": {},
   "outputs": [
    {
     "name": "stdout",
     "output_type": "stream",
     "text": [
      "Fitting 5 folds for each of 64 candidates, totalling 320 fits\n"
     ]
    },
    {
     "data": {
      "text/plain": [
       "GridSearchCV(cv=5,\n",
       "             estimator=Pipeline(steps=[('tvec', TfidfVectorizer()),\n",
       "                                       ('mnb', MultinomialNB())]),\n",
       "             param_grid={'tvec__max_df': [0.9, 0.95],\n",
       "                         'tvec__max_features': [2000, 3000, 4000, 5000],\n",
       "                         'tvec__min_df': [2, 3],\n",
       "                         'tvec__ngram_range': [(1, 1), (1, 2)],\n",
       "                         'tvec__stop_words': [None, 'english']},\n",
       "             verbose=1)"
      ]
     },
     "execution_count": 311,
     "metadata": {},
     "output_type": "execute_result"
    }
   ],
   "source": [
    "# Fit Gridsearch\n",
    "tvec_gs.fit(X_train, y_train)"
   ]
  },
  {
   "cell_type": "code",
   "execution_count": 312,
   "id": "a219ce8b",
   "metadata": {},
   "outputs": [
    {
     "data": {
      "text/plain": [
       "{'tvec__max_df': 0.9,\n",
       " 'tvec__max_features': 3000,\n",
       " 'tvec__min_df': 2,\n",
       " 'tvec__ngram_range': (1, 1),\n",
       " 'tvec__stop_words': 'english'}"
      ]
     },
     "execution_count": 312,
     "metadata": {},
     "output_type": "execute_result"
    }
   ],
   "source": [
    "# Multinomial Naive Bayes (TF-IDF Vectorizer) Best Parameters\n",
    "tvec_gs.best_params_"
   ]
  },
  {
   "cell_type": "code",
   "execution_count": 313,
   "id": "c1c11717",
   "metadata": {},
   "outputs": [
    {
     "name": "stdout",
     "output_type": "stream",
     "text": [
      "Multinomial Naive Bayes (TF-IDF Vectorizer) Train Score: 0.9558154645873944\n",
      "Multinomial Naive Bayes (TF-IDF Vectorizer) Test Score: 0.8521400778210116\n"
     ]
    }
   ],
   "source": [
    "print(f'Multinomial Naive Bayes (TF-IDF Vectorizer) Train Score: {tvec_gs.score(X_train, y_train)}')\n",
    "print(f'Multinomial Naive Bayes (TF-IDF Vectorizer) Test Score: {tvec_gs.score(X_test, y_test)}')"
   ]
  },
  {
   "cell_type": "markdown",
   "id": "5c7406fd",
   "metadata": {},
   "source": [
    "Utilizing IF-IDF Vectorizer's Best Parameters:"
   ]
  },
  {
   "cell_type": "code",
   "execution_count": 314,
   "id": "c9f622da",
   "metadata": {},
   "outputs": [],
   "source": [
    "# TF-IDF Parameters\n",
    "tvec_param = {'tvec__max_df': 0.9,\n",
    " 'tvec__max_features': 2000,\n",
    " 'tvec__min_df': 2,\n",
    " 'tvec__ngram_range': (1, 1),\n",
    " 'tvec__stop_words': 'english'}"
   ]
  },
  {
   "cell_type": "code",
   "execution_count": 315,
   "id": "a08f824f",
   "metadata": {},
   "outputs": [
    {
     "name": "stderr",
     "output_type": "stream",
     "text": [
      "/opt/anaconda3/lib/python3.8/site-packages/sklearn/utils/validation.py:70: FutureWarning: Pass input={'tvec__max_df': 0.9, 'tvec__max_features': 2000, 'tvec__min_df': 2, 'tvec__ngram_range': (1, 1), 'tvec__stop_words': 'english'} as keyword args. From version 1.0 (renaming of 0.25) passing these as positional arguments will result in an error\n",
      "  warnings.warn(f\"Pass {args_msg} as keyword args. From version \"\n"
     ]
    }
   ],
   "source": [
    "# Instantiate TF-IDF Vectorizer\n",
    "tvec_final = TfidfVectorizer(tvec_param)"
   ]
  },
  {
   "cell_type": "code",
   "execution_count": 316,
   "id": "3a51e2d5",
   "metadata": {},
   "outputs": [],
   "source": [
    "# Fit/Transform Train and Test\n",
    "X_train_tvec = tvec_final.fit_transform(X_train)\n",
    "X_test_tvec = tvec_final.transform(X_test)"
   ]
  },
  {
   "cell_type": "code",
   "execution_count": 317,
   "id": "420b2903",
   "metadata": {},
   "outputs": [
    {
     "data": {
      "image/png": "[encoded data removed]",
      "text/plain": [
       "<Figure size 432x288 with 2 Axes>"
      ]
     },
     "metadata": {
      "needs_background": "light"
     },
     "output_type": "display_data"
    }
   ],
   "source": [
    "# Get Predictions\n",
    "preds = tvec_gs.predict(X_test)\n",
    "\n",
    "# Confusion Matrix Values\n",
    "tn, fp, fn, tp = confusion_matrix(y_test, preds).ravel()\n",
    "\n",
    "# Plot Confusion Matrix\n",
    "plot_confusion_matrix(tvec_gs, X_test, y_test, cmap='GnBu', values_format='d', display_labels=['The Sims', 'Animal Crossing']);"
   ]
  },
  {
   "cell_type": "code",
   "execution_count": 318,
   "id": "755be2d8",
   "metadata": {},
   "outputs": [
    {
     "name": "stdout",
     "output_type": "stream",
     "text": [
      "Multinomial Naive Bayes (TF-IDF Vectorizer) Specificity: 0.8421052631578947\n",
      "Multinomial Naive Bayes (TF-IDF Vectorizer) Sensitivity: 0.8614232209737828\n"
     ]
    }
   ],
   "source": [
    "print(f'Multinomial Naive Bayes (TF-IDF Vectorizer) Specificity: {tn / (tn + fp)}')\n",
    "print(f'Multinomial Naive Bayes (TF-IDF Vectorizer) Sensitivity: {tp / (tp + fn)}')"
   ]
  },
  {
   "cell_type": "markdown",
   "id": "39e8419e",
   "metadata": {},
   "source": [
    "##### Predictions vs. Actual"
   ]
  },
  {
   "cell_type": "code",
   "execution_count": 319,
   "id": "950d3607",
   "metadata": {},
   "outputs": [
    {
     "data": {
      "text/html": [
       "<div>\n",
       "<style scoped>\n",
       "    .dataframe tbody tr th:only-of-type {\n",
       "        vertical-align: middle;\n",
       "    }\n",
       "\n",
       "    .dataframe tbody tr th {\n",
       "        vertical-align: top;\n",
       "    }\n",
       "\n",
       "    .dataframe thead th {\n",
       "        text-align: right;\n",
       "    }\n",
       "</style>\n",
       "<table border=\"1\" class=\"dataframe\">\n",
       "  <thead>\n",
       "    <tr style=\"text-align: right;\">\n",
       "      <th></th>\n",
       "      <th>index</th>\n",
       "      <th>label</th>\n",
       "      <th>y_test_df_predicted</th>\n",
       "    </tr>\n",
       "  </thead>\n",
       "  <tbody>\n",
       "    <tr>\n",
       "      <th>0</th>\n",
       "      <td>1262</td>\n",
       "      <td>0</td>\n",
       "      <td>0</td>\n",
       "    </tr>\n",
       "    <tr>\n",
       "      <th>1</th>\n",
       "      <td>1510</td>\n",
       "      <td>0</td>\n",
       "      <td>0</td>\n",
       "    </tr>\n",
       "    <tr>\n",
       "      <th>2</th>\n",
       "      <td>184</td>\n",
       "      <td>1</td>\n",
       "      <td>1</td>\n",
       "    </tr>\n",
       "    <tr>\n",
       "      <th>3</th>\n",
       "      <td>491</td>\n",
       "      <td>1</td>\n",
       "      <td>0</td>\n",
       "    </tr>\n",
       "    <tr>\n",
       "      <th>4</th>\n",
       "      <td>922</td>\n",
       "      <td>1</td>\n",
       "      <td>1</td>\n",
       "    </tr>\n",
       "    <tr>\n",
       "      <th>...</th>\n",
       "      <td>...</td>\n",
       "      <td>...</td>\n",
       "      <td>...</td>\n",
       "    </tr>\n",
       "    <tr>\n",
       "      <th>509</th>\n",
       "      <td>914</td>\n",
       "      <td>1</td>\n",
       "      <td>1</td>\n",
       "    </tr>\n",
       "    <tr>\n",
       "      <th>510</th>\n",
       "      <td>1027</td>\n",
       "      <td>1</td>\n",
       "      <td>1</td>\n",
       "    </tr>\n",
       "    <tr>\n",
       "      <th>511</th>\n",
       "      <td>1671</td>\n",
       "      <td>0</td>\n",
       "      <td>0</td>\n",
       "    </tr>\n",
       "    <tr>\n",
       "      <th>512</th>\n",
       "      <td>1335</td>\n",
       "      <td>0</td>\n",
       "      <td>0</td>\n",
       "    </tr>\n",
       "    <tr>\n",
       "      <th>513</th>\n",
       "      <td>1205</td>\n",
       "      <td>0</td>\n",
       "      <td>0</td>\n",
       "    </tr>\n",
       "  </tbody>\n",
       "</table>\n",
       "<p>514 rows × 3 columns</p>\n",
       "</div>"
      ],
      "text/plain": [
       "     index  label  y_test_df_predicted\n",
       "0     1262      0                    0\n",
       "1     1510      0                    0\n",
       "2      184      1                    1\n",
       "3      491      1                    0\n",
       "4      922      1                    1\n",
       "..     ...    ...                  ...\n",
       "509    914      1                    1\n",
       "510   1027      1                    1\n",
       "511   1671      0                    0\n",
       "512   1335      0                    0\n",
       "513   1205      0                    0\n",
       "\n",
       "[514 rows x 3 columns]"
      ]
     },
     "execution_count": 319,
     "metadata": {},
     "output_type": "execute_result"
    }
   ],
   "source": [
    "y_test_mnb = pd.DataFrame(y_test.reset_index())\n",
    "y_test_mnb['y_test_df_predicted'] = preds\n",
    "y_test_mnb"
   ]
  },
  {
   "cell_type": "code",
   "execution_count": 320,
   "id": "efad2595",
   "metadata": {},
   "outputs": [
    {
     "data": {
      "text/html": [
       "<div>\n",
       "<style scoped>\n",
       "    .dataframe tbody tr th:only-of-type {\n",
       "        vertical-align: middle;\n",
       "    }\n",
       "\n",
       "    .dataframe tbody tr th {\n",
       "        vertical-align: top;\n",
       "    }\n",
       "\n",
       "    .dataframe thead th {\n",
       "        text-align: right;\n",
       "    }\n",
       "</style>\n",
       "<table border=\"1\" class=\"dataframe\">\n",
       "  <thead>\n",
       "    <tr style=\"text-align: right;\">\n",
       "      <th></th>\n",
       "      <th>index</th>\n",
       "      <th>label</th>\n",
       "      <th>y_test_df_predicted</th>\n",
       "    </tr>\n",
       "  </thead>\n",
       "  <tbody>\n",
       "    <tr>\n",
       "      <th>3</th>\n",
       "      <td>491</td>\n",
       "      <td>1</td>\n",
       "      <td>0</td>\n",
       "    </tr>\n",
       "    <tr>\n",
       "      <th>9</th>\n",
       "      <td>1391</td>\n",
       "      <td>0</td>\n",
       "      <td>1</td>\n",
       "    </tr>\n",
       "    <tr>\n",
       "      <th>10</th>\n",
       "      <td>907</td>\n",
       "      <td>1</td>\n",
       "      <td>0</td>\n",
       "    </tr>\n",
       "    <tr>\n",
       "      <th>16</th>\n",
       "      <td>10</td>\n",
       "      <td>1</td>\n",
       "      <td>0</td>\n",
       "    </tr>\n",
       "    <tr>\n",
       "      <th>22</th>\n",
       "      <td>2091</td>\n",
       "      <td>0</td>\n",
       "      <td>1</td>\n",
       "    </tr>\n",
       "    <tr>\n",
       "      <th>...</th>\n",
       "      <td>...</td>\n",
       "      <td>...</td>\n",
       "      <td>...</td>\n",
       "    </tr>\n",
       "    <tr>\n",
       "      <th>482</th>\n",
       "      <td>1905</td>\n",
       "      <td>0</td>\n",
       "      <td>1</td>\n",
       "    </tr>\n",
       "    <tr>\n",
       "      <th>489</th>\n",
       "      <td>472</td>\n",
       "      <td>1</td>\n",
       "      <td>0</td>\n",
       "    </tr>\n",
       "    <tr>\n",
       "      <th>495</th>\n",
       "      <td>1212</td>\n",
       "      <td>0</td>\n",
       "      <td>1</td>\n",
       "    </tr>\n",
       "    <tr>\n",
       "      <th>500</th>\n",
       "      <td>1790</td>\n",
       "      <td>0</td>\n",
       "      <td>1</td>\n",
       "    </tr>\n",
       "    <tr>\n",
       "      <th>504</th>\n",
       "      <td>1885</td>\n",
       "      <td>0</td>\n",
       "      <td>1</td>\n",
       "    </tr>\n",
       "  </tbody>\n",
       "</table>\n",
       "<p>76 rows × 3 columns</p>\n",
       "</div>"
      ],
      "text/plain": [
       "     index  label  y_test_df_predicted\n",
       "3      491      1                    0\n",
       "9     1391      0                    1\n",
       "10     907      1                    0\n",
       "16      10      1                    0\n",
       "22    2091      0                    1\n",
       "..     ...    ...                  ...\n",
       "482   1905      0                    1\n",
       "489    472      1                    0\n",
       "495   1212      0                    1\n",
       "500   1790      0                    1\n",
       "504   1885      0                    1\n",
       "\n",
       "[76 rows x 3 columns]"
      ]
     },
     "execution_count": 320,
     "metadata": {},
     "output_type": "execute_result"
    }
   ],
   "source": [
    "y_test_mnb[y_test_mnb['y_test_df_predicted'] != y_test_mnb['label']]"
   ]
  },
  {
   "cell_type": "code",
   "execution_count": 362,
   "id": "6e271683",
   "metadata": {},
   "outputs": [
    {
     "name": "stdout",
     "output_type": "stream",
     "text": [
      "A beach festival with Zucker and Octavian! \n",
      "Heres a few of my favorite homes I've made \n",
      "Made herringbone designs. If anyone else would like to use them, my code is MA-9511-4818-7469 \n",
      "I want a medieval expansion for TS4 sooo bad \n",
      "Yeah, you could say that... \n"
     ]
    }
   ],
   "source": [
    "print(subreddit['full_text'][491])\n",
    "print(subreddit['full_text'][907])\n",
    "print(subreddit['full_text'][10])\n",
    "print(subreddit['full_text'][1905])\n",
    "print(subreddit['full_text'][472])"
   ]
  },
  {
   "cell_type": "markdown",
   "id": "f5d10ac0",
   "metadata": {},
   "source": [
    "Looking at the first 5 posts that were misclassified, I see that some of the posts may be too vague for the model to classify. For example, the first post ([491]) was classified as The Sims, but is from Animal Crossing. Because there are so many characters in Animal Crossing, the model may not have picked up on \"Zucker\" and \"Octavian\", but perhaps beach and festival which could pertain to both Subreddits."
   ]
  },
  {
   "cell_type": "markdown",
   "id": "4ff6af28",
   "metadata": {},
   "source": [
    "#### Random Forest"
   ]
  },
  {
   "cell_type": "markdown",
   "id": "acacb941",
   "metadata": {},
   "source": [
    "##### Count Vectorizer"
   ]
  },
  {
   "cell_type": "code",
   "execution_count": 381,
   "id": "e5029adf",
   "metadata": {},
   "outputs": [
    {
     "name": "stdout",
     "output_type": "stream",
     "text": [
      "Random Forest Train Score: 0.9993502274204028\n",
      "Random Forest Test Score: 0.77431906614786\n",
      "Random Forest Accuracy Score: 0.7665369649805448\n"
     ]
    }
   ],
   "source": [
    "# Instantiate Random Forest\n",
    "rf_c = RandomForestClassifier()\n",
    "\n",
    "# Fit Random Forest\n",
    "rf_c.fit(X_train_cvec, y_train)\n",
    "\n",
    "# Random Forest Score\n",
    "print(f'Random Forest Train Score: {rf_c.score(X_train_cvec, y_train)}')\n",
    "print(f'Random Forest Test Score: {rf_c.score(X_test_cvec, y_test)}')\n",
    "print(f'Random Forest Accuracy Score: {accuracy_score(y_test, rf_c_preds)}')"
   ]
  },
  {
   "cell_type": "code",
   "execution_count": 323,
   "id": "1bc70e59",
   "metadata": {},
   "outputs": [
    {
     "data": {
      "image/png": "[encoded data removed]",
      "text/plain": [
       "<Figure size 432x288 with 2 Axes>"
      ]
     },
     "metadata": {
      "needs_background": "light"
     },
     "output_type": "display_data"
    }
   ],
   "source": [
    "# Random Forest (Count Vectorizer) Predictions\n",
    "rf_c_preds = rf_c.predict(X_test_cvec)\n",
    "\n",
    "# Confusion Matrix Values \n",
    "tn, fp, fn, tp = confusion_matrix(y_test, rf_c_preds).ravel()\n",
    "\n",
    "# Plot Confusion Matrix\n",
    "plot_confusion_matrix(rf_c, X_test_cvec, y_test, cmap='GnBu', values_format='d', display_labels=['The Sims', 'Animal Crossing']);"
   ]
  },
  {
   "cell_type": "code",
   "execution_count": 324,
   "id": "713f160e",
   "metadata": {},
   "outputs": [
    {
     "name": "stdout",
     "output_type": "stream",
     "text": [
      "Count Vectorizer Specificity: 0.6680161943319838\n",
      "Count Vectorizer Sensitivity: 0.8576779026217228\n"
     ]
    }
   ],
   "source": [
    "print(f'Count Vectorizer Specificity: {tn / (tn + fp)}')\n",
    "print(f'Count Vectorizer Sensitivity: {tp / (tp + fn)}')"
   ]
  },
  {
   "cell_type": "markdown",
   "id": "a0ab2766",
   "metadata": {},
   "source": [
    "#### Gridsearch Random Forest (Count Vectorizer)"
   ]
  },
  {
   "cell_type": "code",
   "execution_count": 366,
   "id": "29c446f4",
   "metadata": {},
   "outputs": [
    {
     "name": "stdout",
     "output_type": "stream",
     "text": [
      "0.8050509750835484\n"
     ]
    },
    {
     "data": {
      "text/plain": [
       "{'max_depth': None,\n",
       " 'max_features': 'auto',\n",
       " 'min_samples_leaf': 2,\n",
       " 'n_estimators': 100}"
      ]
     },
     "execution_count": 366,
     "metadata": {},
     "output_type": "execute_result"
    }
   ],
   "source": [
    "rf = RandomForestClassifier()\n",
    "\n",
    "rf_params = {\n",
    "    'n_estimators': [100, 150, 200, 250, 300],\n",
    "    'max_depth': [None, 1, 2, 3, 4, 5, 6, 7, 8, 9, 10],\n",
    "    'min_samples_leaf': [1,2,3,4,5],\n",
    "    'max_features': ['auto', 'sqrt']\n",
    "}\n",
    "\n",
    "rf_gs = GridSearchCV(rf, param_grid=rf_params, cv=5)\n",
    "rf_gs.fit(X_train_cvec, y_train)\n",
    "print(rf_gs.best_score_)\n",
    "rf_gs.best_params_"
   ]
  },
  {
   "cell_type": "code",
   "execution_count": 377,
   "id": "c40a0f7a",
   "metadata": {},
   "outputs": [
    {
     "name": "stdout",
     "output_type": "stream",
     "text": [
      "Random Forest (Count Vectorizer) Train Score: 0.9057829759584145\n",
      "Random Forest (Count Vectorizer) Test Score: 0.7782101167315175\n"
     ]
    }
   ],
   "source": [
    "print(f'Random Forest (Count Vectorizer) Train Score: {rf_gs.score(X_train_cvec, y_train)}')\n",
    "print(f'Random Forest (Count Vectorizer) Test Score: {rf_gs.score(X_test_cvec, y_test)}')"
   ]
  },
  {
   "cell_type": "code",
   "execution_count": 369,
   "id": "b09336ae",
   "metadata": {},
   "outputs": [
    {
     "data": {
      "image/png": "[encoded data removed]",
      "text/plain": [
       "<Figure size 432x288 with 2 Axes>"
      ]
     },
     "metadata": {
      "needs_background": "light"
     },
     "output_type": "display_data"
    }
   ],
   "source": [
    "# Random Forest (Count Vectorizer) Gridsearch Predictions\n",
    "rf_preds = rf_gs.predict(X_test_cvec)\n",
    "\n",
    "# Confusion Matrix Values \n",
    "tn, fp, fn, tp = confusion_matrix(y_test, rf_preds).ravel()\n",
    "\n",
    "# Plot Confusion Matrix\n",
    "plot_confusion_matrix(rf_gs, X_test_cvec, y_test, cmap='GnBu', values_format='d', display_labels=['The Sims', 'Animal Crossing']);"
   ]
  },
  {
   "cell_type": "code",
   "execution_count": 370,
   "id": "3dd90a28",
   "metadata": {},
   "outputs": [
    {
     "name": "stdout",
     "output_type": "stream",
     "text": [
      "Count Vectorizer Specificity: 0.6558704453441295\n",
      "Count Vectorizer Sensitivity: 0.8913857677902621\n"
     ]
    }
   ],
   "source": [
    "print(f'Count Vectorizer Specificity: {tn / (tn + fp)}')\n",
    "print(f'Count Vectorizer Sensitivity: {tp / (tp + fn)}')"
   ]
  },
  {
   "cell_type": "markdown",
   "id": "7913aafa",
   "metadata": {},
   "source": [
    "##### TF-IDF Vectorizer"
   ]
  },
  {
   "cell_type": "code",
   "execution_count": 380,
   "id": "0f175798",
   "metadata": {},
   "outputs": [
    {
     "name": "stdout",
     "output_type": "stream",
     "text": [
      "Random Forest Train Score: 0.9993502274204028\n",
      "Random Forest Test Score: 0.745136186770428\n",
      "Random Forest Accuracy Score: 0.7782101167315175\n"
     ]
    }
   ],
   "source": [
    "# Fit Random Forest\n",
    "rf_c.fit(X_train_tvec, y_train)\n",
    "\n",
    "# Random Forest Score\n",
    "print(f'Random Forest Train Score: {rf_c.score(X_train_tvec, y_train)}')\n",
    "print(f'Random Forest Test Score: {rf_c.score(X_test_tvec, y_test)}')\n",
    "print(f'Random Forest Accuracy Score: {accuracy_score(y_test, rf_preds)}')"
   ]
  },
  {
   "cell_type": "code",
   "execution_count": 326,
   "id": "1208a960",
   "metadata": {},
   "outputs": [
    {
     "data": {
      "image/png": "[encoded data removed]",
      "text/plain": [
       "<Figure size 432x288 with 2 Axes>"
      ]
     },
     "metadata": {
      "needs_background": "light"
     },
     "output_type": "display_data"
    }
   ],
   "source": [
    "rf_preds = rf_c.predict(X_test_tvec)\n",
    "\n",
    "# Confusion Matrix Values \n",
    "tn, fp, fn, tp = confusion_matrix(y_test, rf_preds).ravel()\n",
    "\n",
    "# Plot Confusion Matrix\n",
    "plot_confusion_matrix(rf_c, X_test_tvec, y_test, cmap='GnBu', values_format='d', display_labels=['The Sims', 'Animal Crossing']);"
   ]
  },
  {
   "cell_type": "code",
   "execution_count": 327,
   "id": "acda29a9",
   "metadata": {},
   "outputs": [
    {
     "name": "stdout",
     "output_type": "stream",
     "text": [
      "Count Vectorizer Specificity: 0.6923076923076923\n",
      "Count Vectorizer Sensitivity: 0.846441947565543\n"
     ]
    }
   ],
   "source": [
    "print(f'Count Vectorizer Specificity: {tn / (tn + fp)}')\n",
    "print(f'Count Vectorizer Sensitivity: {tp / (tp + fn)}')"
   ]
  },
  {
   "cell_type": "markdown",
   "id": "ea4dbb7d",
   "metadata": {},
   "source": [
    "#### Random Forest (TF-IDF Vectorizer) Gridsearch"
   ]
  },
  {
   "cell_type": "code",
   "execution_count": 371,
   "id": "df74efad",
   "metadata": {},
   "outputs": [
    {
     "name": "stdout",
     "output_type": "stream",
     "text": [
      "0.810903591522484\n"
     ]
    },
    {
     "data": {
      "text/plain": [
       "{'max_depth': None,\n",
       " 'max_features': 'sqrt',\n",
       " 'min_samples_leaf': 1,\n",
       " 'n_estimators': 300}"
      ]
     },
     "execution_count": 371,
     "metadata": {},
     "output_type": "execute_result"
    }
   ],
   "source": [
    "rf = RandomForestClassifier()\n",
    "\n",
    "rf_params = {\n",
    "    'n_estimators': [100, 150, 200, 250, 300],\n",
    "    'max_depth': [None, 1, 2, 3, 4, 5, 6, 7, 8, 9, 10],\n",
    "    'min_samples_leaf': [1,2,3,4,5],\n",
    "    'max_features': ['auto', 'sqrt']\n",
    "}\n",
    "\n",
    "rf_gs_tvec = GridSearchCV(rf, param_grid=rf_params, cv=5)\n",
    "rf_gs_tvec.fit(X_train_tvec, y_train)\n",
    "print(rf_gs_tvec.best_score_)\n",
    "rf_gs_tvec.best_params_"
   ]
  },
  {
   "cell_type": "code",
   "execution_count": 378,
   "id": "097e27f6",
   "metadata": {},
   "outputs": [
    {
     "name": "stdout",
     "output_type": "stream",
     "text": [
      "Random Forest (TF-IDF Vectorizer) Train Score: 0.9993502274204028\n",
      "Random Forest (TF-IDF Vectorizer) Test Score: 0.7645914396887159\n"
     ]
    }
   ],
   "source": [
    "print(f'Random Forest (TF-IDF Vectorizer) Train Score: {rf_gs_tvec.score(X_train_tvec, y_train)}')\n",
    "print(f'Random Forest (TF-IDF Vectorizer) Test Score: {rf_gs_tvec.score(X_test_tvec, y_test)}')"
   ]
  },
  {
   "cell_type": "code",
   "execution_count": 375,
   "id": "91b64b46",
   "metadata": {},
   "outputs": [
    {
     "data": {
      "image/png": "[encoded data removed]",
      "text/plain": [
       "<Figure size 432x288 with 2 Axes>"
      ]
     },
     "metadata": {
      "needs_background": "light"
     },
     "output_type": "display_data"
    }
   ],
   "source": [
    "# Random Forest (TF-IDF Vectorizer) Gridsearch Predictions\n",
    "rf_tvec_preds = rf_gs_tvec.predict(X_test_tvec)\n",
    "\n",
    "# Confusion Matrix Values \n",
    "tn, fp, fn, tp = confusion_matrix(y_test, rf_tvec_preds).ravel()\n",
    "\n",
    "# Plot Confusion Matrix\n",
    "plot_confusion_matrix(rf_gs_tvec, X_test_tvec, y_test, cmap='GnBu', values_format='d', display_labels=['The Sims', 'Animal Crossing']);"
   ]
  },
  {
   "cell_type": "code",
   "execution_count": 379,
   "id": "75c72763",
   "metadata": {},
   "outputs": [
    {
     "name": "stdout",
     "output_type": "stream",
     "text": [
      " Random Forest (TF-IDF Vectorizer) Specificity: 0.659919028340081\n",
      "Random Forest (TF-IDF Vectorizer) Sensitivity: 0.8614232209737828\n"
     ]
    }
   ],
   "source": [
    "print(f' Random Forest (TF-IDF Vectorizer) Specificity: {tn / (tn + fp)}')\n",
    "print(f'Random Forest (TF-IDF Vectorizer) Sensitivity: {tp / (tp + fn)}')"
   ]
  },
  {
   "cell_type": "markdown",
   "id": "26eca444",
   "metadata": {},
   "source": [
    "#### Logistic Regression"
   ]
  },
  {
   "cell_type": "markdown",
   "id": "fa8573bd",
   "metadata": {},
   "source": [
    "##### Count Vectorizer"
   ]
  },
  {
   "cell_type": "code",
   "execution_count": 328,
   "id": "504bb84e",
   "metadata": {},
   "outputs": [],
   "source": [
    "# Fit/Transform Train and Test\n",
    "X_train, X_test, y_train, y_test = train_test_split(X, y, stratify=y, random_state=42)"
   ]
  },
  {
   "cell_type": "code",
   "execution_count": 329,
   "id": "43555177",
   "metadata": {},
   "outputs": [
    {
     "data": {
      "text/plain": [
       "0.8226067092516605"
      ]
     },
     "execution_count": 329,
     "metadata": {},
     "output_type": "execute_result"
    }
   ],
   "source": [
    "# Instantiate Logistic Regression\n",
    "logreg = LogisticRegression()\n",
    "\n",
    "# Fit Logistic Regression\n",
    "logreg.fit(X_train_cvec, y_train)\n",
    "\n",
    "# Cross Validation Score\n",
    "cross_val_score(logreg, X_train_cvec, y_train).mean()"
   ]
  },
  {
   "cell_type": "code",
   "execution_count": 330,
   "id": "a1416cc9",
   "metadata": {},
   "outputs": [
    {
     "name": "stdout",
     "output_type": "stream",
     "text": [
      "Logistic Regression (Count Vectorizer) Train Score: 0.9798570500324886\n",
      "Logistic Regression (Count Vectorizer) Test Score: 0.8132295719844358\n"
     ]
    }
   ],
   "source": [
    "print(f'Logistic Regression (Count Vectorizer) Train Score: {logreg.score(X_train_cvec, y_train)}')\n",
    "print(f'Logistic Regression (Count Vectorizer) Test Score: {logreg.score(X_test_cvec, y_test)}')"
   ]
  },
  {
   "cell_type": "code",
   "execution_count": 331,
   "id": "d9529cae",
   "metadata": {},
   "outputs": [],
   "source": [
    "# Logistic Regression (Count Vectorizer Predictions)\n",
    "preds_log_cvec = logreg.predict(X_test_cvec)"
   ]
  },
  {
   "cell_type": "code",
   "execution_count": 332,
   "id": "6a829d52",
   "metadata": {},
   "outputs": [
    {
     "data": {
      "image/png": "[encoded data removed]",
      "text/plain": [
       "<Figure size 432x288 with 2 Axes>"
      ]
     },
     "metadata": {
      "needs_background": "light"
     },
     "output_type": "display_data"
    }
   ],
   "source": [
    "# Confusion Matrix Values \n",
    "tn, fp, fn, tp = confusion_matrix(y_test, preds_log_cvec).ravel()\n",
    "\n",
    "# Plot Confusion Matrix\n",
    "plot_confusion_matrix(logreg, X_test_cvec, y_test, cmap='GnBu', values_format='d', display_labels=['The Sims', 'Animal Crossing']);"
   ]
  },
  {
   "cell_type": "code",
   "execution_count": 333,
   "id": "08f2644f",
   "metadata": {},
   "outputs": [
    {
     "name": "stdout",
     "output_type": "stream",
     "text": [
      "Count Vectorizer Specificity: 0.6963562753036437\n",
      "Count Vectorizer Sensitivity: 0.9213483146067416\n"
     ]
    }
   ],
   "source": [
    "print(f'Count Vectorizer Specificity: {tn / (tn + fp)}')\n",
    "print(f'Count Vectorizer Sensitivity: {tp / (tp + fn)}')"
   ]
  },
  {
   "cell_type": "markdown",
   "id": "ef21b589",
   "metadata": {},
   "source": [
    "#### Logistic Regression (Count Vectorizer) Gridsearch:"
   ]
  },
  {
   "cell_type": "code",
   "execution_count": 334,
   "id": "e031427a",
   "metadata": {},
   "outputs": [
    {
     "name": "stdout",
     "output_type": "stream",
     "text": [
      "Fitting 5 folds for each of 200 candidates, totalling 1000 fits\n"
     ]
    },
    {
     "data": {
      "text/plain": [
       "GridSearchCV(estimator=Pipeline(steps=[('logreg',\n",
       "                                        LogisticRegression(solver='liblinear'))]),\n",
       "             param_grid={'logreg__C': array([1.00000000e-05, 1.14975700e-05, 1.32194115e-05, 1.51991108e-05,\n",
       "       1.74752840e-05, 2.00923300e-05, 2.31012970e-05, 2.65608778e-05,\n",
       "       3.05385551e-05, 3.51119173e-05, 4.03701726e-05, 4.64158883e-05,\n",
       "       5.33669923e-05, 6.13590727e-05, 7.05480231e-05, 8.1...\n",
       "       4.03701726e-01, 4.64158883e-01, 5.33669923e-01, 6.13590727e-01,\n",
       "       7.05480231e-01, 8.11130831e-01, 9.32603347e-01, 1.07226722e+00,\n",
       "       1.23284674e+00, 1.41747416e+00, 1.62975083e+00, 1.87381742e+00,\n",
       "       2.15443469e+00, 2.47707636e+00, 2.84803587e+00, 3.27454916e+00,\n",
       "       3.76493581e+00, 4.32876128e+00, 4.97702356e+00, 5.72236766e+00,\n",
       "       6.57933225e+00, 7.56463328e+00, 8.69749003e+00, 1.00000000e+01]),\n",
       "                         'logreg__penalty': ['l1', 'l2']},\n",
       "             verbose=1)"
      ]
     },
     "execution_count": 334,
     "metadata": {},
     "output_type": "execute_result"
    }
   ],
   "source": [
    "# Pipeline & Gridsearch Logisitc Regression (Count Vectorizer)\n",
    "logreg_pipe = Pipeline([\n",
    "    ('logreg', LogisticRegression(solver='liblinear'))\n",
    "])\n",
    "\n",
    "logreg_param = {\n",
    "    'logreg__C': np.logspace(-5, 1, 100),\n",
    "    'logreg__penalty': ['l1', 'l2']\n",
    "}\n",
    "\n",
    "logreg_gs = GridSearchCV(logreg_pipe, logreg_param, verbose=1)\n",
    "logreg_gs.fit(X_train_cvec, y_train)"
   ]
  },
  {
   "cell_type": "code",
   "execution_count": 335,
   "id": "a4eaa49a",
   "metadata": {},
   "outputs": [
    {
     "name": "stdout",
     "output_type": "stream",
     "text": [
      "Logisitc Regression Count Vectorizer Best Score: 0.825206226997758\n",
      "Logisitc Regression Count Vectorizer Train Score: 0.9948018193632229\n",
      "Logisitc Regression Count Vectorizer Test Score: 0.8132295719844358\n",
      "Logisitc Regression Count Vectorizer Best Parameters: {'logreg__C': 1.873817422860383, 'logreg__penalty': 'l2'}\n"
     ]
    }
   ],
   "source": [
    "print(f'Logisitc Regression Count Vectorizer Best Score: {logreg_gs.best_score_}')\n",
    "print(f'Logisitc Regression Count Vectorizer Train Score: {logreg_gs.score(X_train_cvec, y_train)}')\n",
    "print(f'Logisitc Regression Count Vectorizer Test Score: {logreg_gs.score(X_test_cvec, y_test)}')\n",
    "print(f'Logisitc Regression Count Vectorizer Best Parameters: {logreg_gs.best_params_}')"
   ]
  },
  {
   "cell_type": "code",
   "execution_count": 336,
   "id": "959fcb5d",
   "metadata": {},
   "outputs": [
    {
     "data": {
      "image/png": "[encoded data removed]",
      "text/plain": [
       "<Figure size 432x288 with 2 Axes>"
      ]
     },
     "metadata": {
      "needs_background": "light"
     },
     "output_type": "display_data"
    }
   ],
   "source": [
    "# Get Predictions\n",
    "preds_log_cvec = logreg_gs.predict(X_test_cvec)\n",
    "\n",
    "# Save Confusion Matrix Values\n",
    "tn, fp, fn, tp = confusion_matrix(y_test, preds_log_cvec).ravel()\n",
    "\n",
    "# Plot Confusion Matrix\n",
    "plot_confusion_matrix(logreg_gs, X_test_cvec, y_test, cmap='GnBu', values_format='d', display_labels=['The Sims', 'Animal Crossing']);"
   ]
  },
  {
   "cell_type": "code",
   "execution_count": 337,
   "id": "5c6a9a1b",
   "metadata": {},
   "outputs": [
    {
     "name": "stdout",
     "output_type": "stream",
     "text": [
      "Logistic Regression (Count Vectorizer Specificity): 0.7125506072874493\n",
      "Logistic Regression (Count Vectorizer Sensitivity): 0.9063670411985019\n"
     ]
    }
   ],
   "source": [
    "print(f'Logistic Regression (Count Vectorizer Specificity): {tn / (tn + fp)}')\n",
    "print(f'Logistic Regression (Count Vectorizer Sensitivity): {tp / (tp + fn)}')"
   ]
  },
  {
   "cell_type": "markdown",
   "id": "31256c6a",
   "metadata": {},
   "source": [
    "##### TF-IDF Vectorizer"
   ]
  },
  {
   "cell_type": "code",
   "execution_count": 358,
   "id": "91fbc1f0",
   "metadata": {},
   "outputs": [
    {
     "data": {
      "text/plain": [
       "0.8187000296120818"
      ]
     },
     "execution_count": 358,
     "metadata": {},
     "output_type": "execute_result"
    }
   ],
   "source": [
    "# Instantiate Logistic Regression with Gridsearch Parameters from CVEC\n",
    "logreg_tvec = LogisticRegression(C=1.873817422860383, penalty='l2', solver='liblinear')\n",
    "logreg_tvec.fit(X_train_tvec, y_train)\n",
    "\n",
    "cross_val_score(logreg, X_train_tvec, y_train).mean()"
   ]
  },
  {
   "cell_type": "code",
   "execution_count": 359,
   "id": "6f2eabd1",
   "metadata": {},
   "outputs": [
    {
     "name": "stdout",
     "output_type": "stream",
     "text": [
      "Logistic Regression TF-IDF Train Score: 0.7348927875243665\n",
      "Logistic Regression TF-IDF Test Score: 0.6673151750972762\n"
     ]
    }
   ],
   "source": [
    "print(f'Logistic Regression TF-IDF Train Score: {logreg.score(X_train_tvec, y_train)}')\n",
    "print(f'Logistic Regression TF-IDF Test Score: {logreg.score(X_test_tvec, y_test)}')"
   ]
  },
  {
   "cell_type": "code",
   "execution_count": 355,
   "id": "46a04f25",
   "metadata": {},
   "outputs": [
    {
     "data": {
      "image/png": "[encoded data removed]",
      "text/plain": [
       "<Figure size 432x288 with 2 Axes>"
      ]
     },
     "metadata": {
      "needs_background": "light"
     },
     "output_type": "display_data"
    }
   ],
   "source": [
    "# Confusion Matrix Values \n",
    "tn, fp, fn, tp = confusion_matrix(y_test, preds_log_tvec).ravel()\n",
    "\n",
    "# Plot Confusion Matrix\n",
    "plot_confusion_matrix(logreg, X_test_tvec, y_test, cmap='GnBu', values_format='d', display_labels=['The Sims', 'Animal Crossing']);"
   ]
  },
  {
   "cell_type": "code",
   "execution_count": 356,
   "id": "78640ee7",
   "metadata": {},
   "outputs": [
    {
     "name": "stdout",
     "output_type": "stream",
     "text": [
      "TF-IDF Vectorizer Specificity: 0.7408906882591093\n",
      "TF-IDF Vectorizer Sensitivity: 0.8689138576779026\n"
     ]
    }
   ],
   "source": [
    "print(f'TF-IDF Vectorizer Specificity: {tn / (tn + fp)}')\n",
    "print(f'TF-IDF Vectorizer Sensitivity: {tp / (tp + fn)}')"
   ]
  },
  {
   "cell_type": "markdown",
   "id": "df08c290",
   "metadata": {},
   "source": [
    "|Model|Train Score|Test Score|\n",
    "|---|---|---|\n",
    "|Multinomial Bayes (Count Vectorizer)|0.937|0.852|\n",
    "|Multinomial Bayes (TF-IDF Vectorizer)|0.959|0.881|\n",
    "|Random Forest (Count Vectorizer)|0.999|0.764|\n",
    "|Random Forest (TF-IDF Vectorizer|0.999|0.761|\n",
    "|Logistic Regression (Count Vectorizer)|0.995|0.813|\n",
    "|Logistic Regression (TF-IDF Vectorizer)|0.735|0.667|"
   ]
  },
  {
   "cell_type": "markdown",
   "id": "4dee1998",
   "metadata": {},
   "source": [
    "The above models in the table are models that were ran with Gridsearch. Baseline models for Multinomial Bayes, Random Forest, and Logistic Regression were ran, just not included in the final table."
   ]
  },
  {
   "cell_type": "markdown",
   "id": "ab45d43e",
   "metadata": {},
   "source": [
    "## Conclusion and Recommendations"
   ]
  },
  {
   "cell_type": "markdown",
   "id": "8aae366f",
   "metadata": {},
   "source": [
    "In conclusion, I found that my models were overfit. This may be due to words such as “sims” and “sim” that occured many times in posts and were included in the model.\n",
    "\n",
    "But, by utilizing Count Vectorizer and TF-IDF Vectorizer, I found that the best models were the Multinomial Naive Bayes Model. They were the least overfit models while also getting the highest specificity when compared to the Random Forest and Logistic Regression Models. I found specificity to be more important for this problem because between the two games, it would be best to classify Animal Crossing as the Sims rather than putting the Sims into Animal Crossing. This is because The Sims is rated more explicit when compared to Animal Crossing.\n",
    "\n",
    "I looked into the y-actual vs. y-predicted to compare the posts that were misclassified for Multinomial Naive Bayes (because it was the best model) and found that some of the posts may have been too vague for the model to classify. An example of this is, \"Heres a few of my favorite homes I've made\" from post subreddit['full_text'][907]. The word that sticks out the most is \"homes\" and is important in both games.\n",
    "\n",
    "Based on my findings of the Multinomial Naive Bayes model, as a Reddit employee I would say that parents should use Reddit as an informational tool and feel confident in using Subreddit pages to look into gaming information. However, I think that further fine-tuning of hyper-parameters is needed in order to get a better model.\n",
    "\n",
    "Next Steps: \n",
    "- Take out stop-words such as \"sims\" and \"sim\" and see how the model will run\n",
    "- Do more data cleaning such as looking at emojis, hyperlinks, videos, etc.\n",
    "- Create my own list of words that may be positive/negative that pertain more to the game and test on the sentiment analysis \n",
    "- Tune hyper-parameters carefully to avoid overfitting\n"
   ]
  },
  {
   "cell_type": "code",
   "execution_count": null,
   "id": "1df471a5",
   "metadata": {},
   "outputs": [],
   "source": []
  }
 ],
 "metadata": {
  "kernelspec": {
   "display_name": "Python 3",
   "language": "python",
   "name": "python3"
  },
  "language_info": {
   "codemirror_mode": {
    "name": "ipython",
    "version": 3
   },
   "file_extension": ".py",
   "mimetype": "text/x-python",
   "name": "python",
   "nbconvert_exporter": "python",
   "pygments_lexer": "ipython3",
   "version": "3.8.8"
  }
 },
 "nbformat": 4,
 "nbformat_minor": 5
}
