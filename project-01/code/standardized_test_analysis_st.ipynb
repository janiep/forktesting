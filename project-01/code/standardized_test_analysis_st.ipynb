{
 "cells": [
  {
   "cell_type": "markdown",
   "metadata": {},
   "source": [
    "<img src=\"http://imgur.com/1ZcRyrc.png\" style=\"float: left; margin: 20px; height: 55px\">\n",
    "\n",
    "# Project 1: Standardized Test Analysis"
   ]
  },
  {
   "cell_type": "markdown",
   "metadata": {},
   "source": [
    "## Problem Statement"
   ]
  },
  {
   "cell_type": "markdown",
   "metadata": {},
   "source": [
    "This project aims to explore trends in SAT participation from 2017-2019.\n",
    "\n",
    "Today, some states require students to take the SAT as a graduation requirement. \n",
    "The state of South Carolina is talking to an employee at the College Board and is wondering, if the state were to implement a requirement for SAT test participation, what effects would these requirements have on the school. Due to the increased participation, the state is worried that their scores will be dropped and is questioning if implementing this will be advantageous.\n",
    "\n",
    "South Carolina currently does not require the participation of the SAT or ACT, but provides both exams to juniors at no cost ([*source*](https://blog.collegevine.com/states-that-require-sat/#curve)).\n"
   ]
  },
  {
   "cell_type": "markdown",
   "metadata": {},
   "source": [
    "### Contents:\n",
    "- [Background](#Background)\n",
    "- [Data Import & Cleaning](#Data-Import-and-Cleaning)\n",
    "- [Exploratory Data Analysis](#Exploratory-Data-Analysis)\n",
    "- [Data Visualization](#Visualize-the-Data)\n",
    "- [Conclusions and Recommendations](#Conclusions-and-Recommendations)"
   ]
  },
  {
   "cell_type": "markdown",
   "metadata": {},
   "source": [
    "## Background"
   ]
  },
  {
   "cell_type": "markdown",
   "metadata": {},
   "source": [
    "The SAT and ACT are standardized tests that many colleges and universities in the United States require for their admissions process. This score is used along with other materials such as grade point average (GPA) and essay responses to determine whether or not a potential student will be accepted to the university.\n",
    "\n",
    "The SAT has two sections of the test: Evidence-Based Reading and Writing and Math ([*source*](https://www.princetonreview.com/college/sat-sections)). The ACT has 4 sections: English, Mathematics, Reading, and Science, with an additional optional writing section ([*source*](https://www.act.org/content/act/en/products-and-services/the-act/scores/understanding-your-scores.html)). They have different score ranges, which you can read more about on their websites or additional outside sources (a quick Google search will help you understand the scores for each test):\n",
    "* [SAT](https://collegereadiness.collegeboard.org/sat)\n",
    "* [ACT](https://www.act.org/content/act/en.html)\n",
    "\n",
    "Standardized tests have long been a controversial topic for students, administrators, and legislators. Since the 1940's, an increasing number of colleges have been using scores from sudents' performances on tests like the SAT and the ACT as a measure for college readiness and aptitude ([*source*](https://www.minotdailynews.com/news/local-news/2017/04/a-brief-history-of-the-sat-and-act/)). Supporters of these tests argue that these scores can be used as an objective measure to determine college admittance. Opponents of these tests claim that these tests are not accurate measures of students potential or ability and serve as an inequitable barrier to entry. Lately, more and more schools are opting to drop the SAT/ACT requirement for their Fall 2021 applications ([*read more about this here*](https://www.cnn.com/2020/04/14/us/coronavirus-colleges-sat-act-test-trnd/index.html))."
   ]
  },
  {
   "cell_type": "markdown",
   "metadata": {},
   "source": [
    "### Data Used:\n",
    "\n",
    "- [`sat_2017.csv`](./data/sat_2017.csv): 2017 SAT Scores by State\n",
    "- [`sat_2018.csv`](./data/sat_2018.csv): 2018 SAT Scores by State\n",
    "- [`sat_2019.csv`](./data/sat_2019.csv): 2019 SAT Scores by State"
   ]
  },
  {
   "cell_type": "markdown",
   "metadata": {},
   "source": [
    "### Outside Research"
   ]
  },
  {
   "cell_type": "markdown",
   "metadata": {},
   "source": [
    "With tests becoming more standardized, there has been a large debate on whether the federal government should incentivize school funding with state scores. There are pros and cons to this. Some benefits include standardization in the curriculum so that all students are getting equal education and accountability for teachers. A setback is that some believe this hinders and limits what and how teachers can teach in a classroom. Also, if funding is an incentive, this may push schools that aren't performing as well back.\n",
    "\n",
    "Although \"tests such as the ACT and SAT don't affect federal funding,\" schools that don't administer annual achievement tests may lose funding ([*source*](https://www.theclassroom.com/schools-motivate-students-state-testing-13290.html)). Note that this can have an impact on whether or not a state may want to replace their state's standardized test with the SATs. "
   ]
  },
  {
   "cell_type": "markdown",
   "metadata": {},
   "source": [
    "### Codes\n",
    "\n",
    "1. Manually calculate mean:\n",
    "\n",
    "    Write a function that takes in values and returns the mean of the values."
   ]
  },
  {
   "cell_type": "code",
   "execution_count": 41,
   "metadata": {},
   "outputs": [
    {
     "data": {
      "text/plain": [
       "6.5"
      ]
     },
     "execution_count": 41,
     "metadata": {},
     "output_type": "execute_result"
    }
   ],
   "source": [
    "# Code:\n",
    "def mean(numbers):\n",
    "    return sum(numbers)/len(numbers)\n",
    "\n",
    "# Example:\n",
    "numbers = [5,4,6,7,8,9]\n",
    "mean(numbers)"
   ]
  },
  {
   "cell_type": "markdown",
   "metadata": {},
   "source": [
    "2. Manually calculate standard deviation:\n",
    "\n",
    "    The formula for standard deviation is below:\n",
    "\n",
    "    $$\\sigma = \\sqrt{\\frac{1}{n}\\sum_{i=1}^n(x_i - \\mu)^2}$$\n",
    "\n",
    "    Where $x_i$ represents each value in the dataset, $\\mu$ represents the mean of all values in the dataset and $n$ represents the number of values in the dataset.\n",
    "\n",
    "    Write a function that takes in values and returns the standard deviation of the values using the formula above. "
   ]
  },
  {
   "cell_type": "code",
   "execution_count": 42,
   "metadata": {},
   "outputs": [
    {
     "data": {
      "text/plain": [
       "1.707825127659933"
      ]
     },
     "execution_count": 42,
     "metadata": {},
     "output_type": "execute_result"
    }
   ],
   "source": [
    "# Code:\n",
    "def variance(numbers):\n",
    "    mean_num = mean(numbers)\n",
    "    return mean([((i - mean_num) ** 2) for i in numbers])\n",
    "\n",
    "def standard_deviation(numbers):\n",
    "    return variance(numbers)**0.5\n",
    "\n",
    "# Example:\n",
    "numbers = [5,4,6,7,8,9]\n",
    "standard_deviation(numbers)"
   ]
  },
  {
   "cell_type": "markdown",
   "metadata": {},
   "source": [
    "3. Data cleaning function:\n",
    "    \n",
    "    Write a function that takes in a string that is a number and a percent symbol (ex. '50%', '30.5%', etc.) and converts this to a float that is the decimal approximation of the percent."
   ]
  },
  {
   "cell_type": "code",
   "execution_count": 43,
   "metadata": {},
   "outputs": [
    {
     "data": {
      "text/plain": [
       "0.305"
      ]
     },
     "execution_count": 43,
     "metadata": {},
     "output_type": "execute_result"
    }
   ],
   "source": [
    "# Code:\n",
    "def percentage_to_float(percent_num):\n",
    "    return float(percent_num.strip('%')) / 100\n",
    "\n",
    "# Example:\n",
    "percentage_to_float('30.5%')"
   ]
  },
  {
   "cell_type": "markdown",
   "metadata": {},
   "source": [
    "--- \n",
    "# Part 2\n",
    "\n",
    "Pandas, EDA, data cleaning, and data visualization.\n",
    "\n",
    "---"
   ]
  },
  {
   "cell_type": "markdown",
   "metadata": {},
   "source": [
    "*All libraries used*"
   ]
  },
  {
   "cell_type": "code",
   "execution_count": 44,
   "metadata": {},
   "outputs": [],
   "source": [
    "# Imports:\n",
    "\n",
    "import numpy as np\n",
    "import pandas as pd\n",
    "import matplotlib.pyplot as plt\n",
    "import seaborn as sns\n",
    "\n",
    "%matplotlib inline"
   ]
  },
  {
   "cell_type": "markdown",
   "metadata": {},
   "source": [
    "## Data Import and Cleaning"
   ]
  },
  {
   "cell_type": "markdown",
   "metadata": {},
   "source": [
    "#### Display the Data:"
   ]
  },
  {
   "cell_type": "code",
   "execution_count": 45,
   "metadata": {},
   "outputs": [
    {
     "data": {
      "text/html": [
       "<div>\n",
       "<style scoped>\n",
       "    .dataframe tbody tr th:only-of-type {\n",
       "        vertical-align: middle;\n",
       "    }\n",
       "\n",
       "    .dataframe tbody tr th {\n",
       "        vertical-align: top;\n",
       "    }\n",
       "\n",
       "    .dataframe thead th {\n",
       "        text-align: right;\n",
       "    }\n",
       "</style>\n",
       "<table border=\"1\" class=\"dataframe\">\n",
       "  <thead>\n",
       "    <tr style=\"text-align: right;\">\n",
       "      <th></th>\n",
       "      <th>State</th>\n",
       "      <th>Participation</th>\n",
       "      <th>Evidence-Based Reading and Writing</th>\n",
       "      <th>Math</th>\n",
       "      <th>Total</th>\n",
       "    </tr>\n",
       "  </thead>\n",
       "  <tbody>\n",
       "    <tr>\n",
       "      <th>0</th>\n",
       "      <td>Alabama</td>\n",
       "      <td>5%</td>\n",
       "      <td>593</td>\n",
       "      <td>572</td>\n",
       "      <td>1165</td>\n",
       "    </tr>\n",
       "    <tr>\n",
       "      <th>1</th>\n",
       "      <td>Alaska</td>\n",
       "      <td>38%</td>\n",
       "      <td>547</td>\n",
       "      <td>533</td>\n",
       "      <td>1080</td>\n",
       "    </tr>\n",
       "    <tr>\n",
       "      <th>2</th>\n",
       "      <td>Arizona</td>\n",
       "      <td>30%</td>\n",
       "      <td>563</td>\n",
       "      <td>553</td>\n",
       "      <td>1116</td>\n",
       "    </tr>\n",
       "    <tr>\n",
       "      <th>3</th>\n",
       "      <td>Arkansas</td>\n",
       "      <td>3%</td>\n",
       "      <td>614</td>\n",
       "      <td>594</td>\n",
       "      <td>1208</td>\n",
       "    </tr>\n",
       "    <tr>\n",
       "      <th>4</th>\n",
       "      <td>California</td>\n",
       "      <td>53%</td>\n",
       "      <td>531</td>\n",
       "      <td>524</td>\n",
       "      <td>1055</td>\n",
       "    </tr>\n",
       "  </tbody>\n",
       "</table>\n",
       "</div>"
      ],
      "text/plain": [
       "        State Participation  Evidence-Based Reading and Writing  Math  Total\n",
       "0     Alabama            5%                                 593   572   1165\n",
       "1      Alaska           38%                                 547   533   1080\n",
       "2     Arizona           30%                                 563   553   1116\n",
       "3    Arkansas            3%                                 614   594   1208\n",
       "4  California           53%                                 531   524   1055"
      ]
     },
     "execution_count": 45,
     "metadata": {},
     "output_type": "execute_result"
    }
   ],
   "source": [
    "# 2017 SAT Data\n",
    "sat_2017 = pd.read_csv('../data/sat_2017.csv')\n",
    "sat_2017.head()"
   ]
  },
  {
   "cell_type": "code",
   "execution_count": 46,
   "metadata": {},
   "outputs": [
    {
     "data": {
      "text/html": [
       "<div>\n",
       "<style scoped>\n",
       "    .dataframe tbody tr th:only-of-type {\n",
       "        vertical-align: middle;\n",
       "    }\n",
       "\n",
       "    .dataframe tbody tr th {\n",
       "        vertical-align: top;\n",
       "    }\n",
       "\n",
       "    .dataframe thead th {\n",
       "        text-align: right;\n",
       "    }\n",
       "</style>\n",
       "<table border=\"1\" class=\"dataframe\">\n",
       "  <thead>\n",
       "    <tr style=\"text-align: right;\">\n",
       "      <th></th>\n",
       "      <th>State</th>\n",
       "      <th>Participation</th>\n",
       "      <th>Evidence-Based Reading and Writing</th>\n",
       "      <th>Math</th>\n",
       "      <th>Total</th>\n",
       "    </tr>\n",
       "  </thead>\n",
       "  <tbody>\n",
       "    <tr>\n",
       "      <th>0</th>\n",
       "      <td>Alabama</td>\n",
       "      <td>6%</td>\n",
       "      <td>595</td>\n",
       "      <td>571</td>\n",
       "      <td>1166</td>\n",
       "    </tr>\n",
       "    <tr>\n",
       "      <th>1</th>\n",
       "      <td>Alaska</td>\n",
       "      <td>43%</td>\n",
       "      <td>562</td>\n",
       "      <td>544</td>\n",
       "      <td>1106</td>\n",
       "    </tr>\n",
       "    <tr>\n",
       "      <th>2</th>\n",
       "      <td>Arizona</td>\n",
       "      <td>29%</td>\n",
       "      <td>577</td>\n",
       "      <td>572</td>\n",
       "      <td>1149</td>\n",
       "    </tr>\n",
       "    <tr>\n",
       "      <th>3</th>\n",
       "      <td>Arkansas</td>\n",
       "      <td>5%</td>\n",
       "      <td>592</td>\n",
       "      <td>576</td>\n",
       "      <td>1169</td>\n",
       "    </tr>\n",
       "    <tr>\n",
       "      <th>4</th>\n",
       "      <td>California</td>\n",
       "      <td>60%</td>\n",
       "      <td>540</td>\n",
       "      <td>536</td>\n",
       "      <td>1076</td>\n",
       "    </tr>\n",
       "  </tbody>\n",
       "</table>\n",
       "</div>"
      ],
      "text/plain": [
       "        State Participation  Evidence-Based Reading and Writing  Math  Total\n",
       "0     Alabama            6%                                 595   571   1166\n",
       "1      Alaska           43%                                 562   544   1106\n",
       "2     Arizona           29%                                 577   572   1149\n",
       "3    Arkansas            5%                                 592   576   1169\n",
       "4  California           60%                                 540   536   1076"
      ]
     },
     "execution_count": 46,
     "metadata": {},
     "output_type": "execute_result"
    }
   ],
   "source": [
    "# 2018 SAT Data\n",
    "sat_2018 = pd.read_csv('../data/sat_2018.csv')\n",
    "sat_2018.head()"
   ]
  },
  {
   "cell_type": "code",
   "execution_count": 47,
   "metadata": {},
   "outputs": [
    {
     "data": {
      "text/html": [
       "<div>\n",
       "<style scoped>\n",
       "    .dataframe tbody tr th:only-of-type {\n",
       "        vertical-align: middle;\n",
       "    }\n",
       "\n",
       "    .dataframe tbody tr th {\n",
       "        vertical-align: top;\n",
       "    }\n",
       "\n",
       "    .dataframe thead th {\n",
       "        text-align: right;\n",
       "    }\n",
       "</style>\n",
       "<table border=\"1\" class=\"dataframe\">\n",
       "  <thead>\n",
       "    <tr style=\"text-align: right;\">\n",
       "      <th></th>\n",
       "      <th>State</th>\n",
       "      <th>Participation Rate</th>\n",
       "      <th>EBRW</th>\n",
       "      <th>Math</th>\n",
       "      <th>Total</th>\n",
       "    </tr>\n",
       "  </thead>\n",
       "  <tbody>\n",
       "    <tr>\n",
       "      <th>0</th>\n",
       "      <td>Alabama</td>\n",
       "      <td>7%</td>\n",
       "      <td>583</td>\n",
       "      <td>560</td>\n",
       "      <td>1143</td>\n",
       "    </tr>\n",
       "    <tr>\n",
       "      <th>1</th>\n",
       "      <td>Alaska</td>\n",
       "      <td>41%</td>\n",
       "      <td>556</td>\n",
       "      <td>541</td>\n",
       "      <td>1097</td>\n",
       "    </tr>\n",
       "    <tr>\n",
       "      <th>2</th>\n",
       "      <td>Arizona</td>\n",
       "      <td>31%</td>\n",
       "      <td>569</td>\n",
       "      <td>565</td>\n",
       "      <td>1134</td>\n",
       "    </tr>\n",
       "    <tr>\n",
       "      <th>3</th>\n",
       "      <td>Arkansas</td>\n",
       "      <td>6%</td>\n",
       "      <td>582</td>\n",
       "      <td>559</td>\n",
       "      <td>1141</td>\n",
       "    </tr>\n",
       "    <tr>\n",
       "      <th>4</th>\n",
       "      <td>California</td>\n",
       "      <td>63%</td>\n",
       "      <td>534</td>\n",
       "      <td>531</td>\n",
       "      <td>1065</td>\n",
       "    </tr>\n",
       "  </tbody>\n",
       "</table>\n",
       "</div>"
      ],
      "text/plain": [
       "        State Participation Rate  EBRW  Math  Total\n",
       "0     Alabama                 7%   583   560   1143\n",
       "1      Alaska                41%   556   541   1097\n",
       "2     Arizona                31%   569   565   1134\n",
       "3    Arkansas                 6%   582   559   1141\n",
       "4  California                63%   534   531   1065"
      ]
     },
     "execution_count": 47,
     "metadata": {},
     "output_type": "execute_result"
    }
   ],
   "source": [
    "# 2019 SAT Data\n",
    "sat_2019 = pd.read_csv('../data/sat_2019.csv')\n",
    "sat_2019.head()"
   ]
  },
  {
   "cell_type": "markdown",
   "metadata": {},
   "source": [
    "#### Check for Missing Values:"
   ]
  },
  {
   "cell_type": "code",
   "execution_count": 48,
   "metadata": {},
   "outputs": [
    {
     "data": {
      "text/plain": [
       "State                                 0\n",
       "Participation                         0\n",
       "Evidence-Based Reading and Writing    0\n",
       "Math                                  0\n",
       "Total                                 0\n",
       "dtype: int64"
      ]
     },
     "execution_count": 48,
     "metadata": {},
     "output_type": "execute_result"
    }
   ],
   "source": [
    "# 2017 SAT Data\n",
    "sat_2017.isnull().sum()"
   ]
  },
  {
   "cell_type": "code",
   "execution_count": 49,
   "metadata": {},
   "outputs": [
    {
     "data": {
      "text/plain": [
       "State                                 0\n",
       "Participation                         0\n",
       "Evidence-Based Reading and Writing    0\n",
       "Math                                  0\n",
       "Total                                 0\n",
       "dtype: int64"
      ]
     },
     "execution_count": 49,
     "metadata": {},
     "output_type": "execute_result"
    }
   ],
   "source": [
    "# 2018 SAT Data\n",
    "sat_2018.isnull().sum()"
   ]
  },
  {
   "cell_type": "code",
   "execution_count": 50,
   "metadata": {},
   "outputs": [
    {
     "data": {
      "text/plain": [
       "State                 0\n",
       "Participation Rate    0\n",
       "EBRW                  0\n",
       "Math                  0\n",
       "Total                 0\n",
       "dtype: int64"
      ]
     },
     "execution_count": 50,
     "metadata": {},
     "output_type": "execute_result"
    }
   ],
   "source": [
    "# 2019 SAT Data\n",
    "sat_2019.isnull().sum()"
   ]
  },
  {
   "cell_type": "markdown",
   "metadata": {},
   "source": [
    "There are no missing values."
   ]
  },
  {
   "cell_type": "markdown",
   "metadata": {},
   "source": [
    "#### Observations:"
   ]
  },
  {
   "cell_type": "code",
   "execution_count": 51,
   "metadata": {},
   "outputs": [
    {
     "data": {
      "text/html": [
       "<div>\n",
       "<style scoped>\n",
       "    .dataframe tbody tr th:only-of-type {\n",
       "        vertical-align: middle;\n",
       "    }\n",
       "\n",
       "    .dataframe tbody tr th {\n",
       "        vertical-align: top;\n",
       "    }\n",
       "\n",
       "    .dataframe thead th {\n",
       "        text-align: right;\n",
       "    }\n",
       "</style>\n",
       "<table border=\"1\" class=\"dataframe\">\n",
       "  <thead>\n",
       "    <tr style=\"text-align: right;\">\n",
       "      <th></th>\n",
       "      <th>Evidence-Based Reading and Writing</th>\n",
       "      <th>Math</th>\n",
       "      <th>Total</th>\n",
       "    </tr>\n",
       "  </thead>\n",
       "  <tbody>\n",
       "    <tr>\n",
       "      <th>count</th>\n",
       "      <td>51.000000</td>\n",
       "      <td>51.000000</td>\n",
       "      <td>51.000000</td>\n",
       "    </tr>\n",
       "    <tr>\n",
       "      <th>mean</th>\n",
       "      <td>569.117647</td>\n",
       "      <td>547.627451</td>\n",
       "      <td>1126.098039</td>\n",
       "    </tr>\n",
       "    <tr>\n",
       "      <th>std</th>\n",
       "      <td>45.666901</td>\n",
       "      <td>84.909119</td>\n",
       "      <td>92.494812</td>\n",
       "    </tr>\n",
       "    <tr>\n",
       "      <th>min</th>\n",
       "      <td>482.000000</td>\n",
       "      <td>52.000000</td>\n",
       "      <td>950.000000</td>\n",
       "    </tr>\n",
       "    <tr>\n",
       "      <th>25%</th>\n",
       "      <td>533.500000</td>\n",
       "      <td>522.000000</td>\n",
       "      <td>1055.500000</td>\n",
       "    </tr>\n",
       "    <tr>\n",
       "      <th>50%</th>\n",
       "      <td>559.000000</td>\n",
       "      <td>548.000000</td>\n",
       "      <td>1107.000000</td>\n",
       "    </tr>\n",
       "    <tr>\n",
       "      <th>75%</th>\n",
       "      <td>613.000000</td>\n",
       "      <td>599.000000</td>\n",
       "      <td>1212.000000</td>\n",
       "    </tr>\n",
       "    <tr>\n",
       "      <th>max</th>\n",
       "      <td>644.000000</td>\n",
       "      <td>651.000000</td>\n",
       "      <td>1295.000000</td>\n",
       "    </tr>\n",
       "  </tbody>\n",
       "</table>\n",
       "</div>"
      ],
      "text/plain": [
       "       Evidence-Based Reading and Writing        Math        Total\n",
       "count                           51.000000   51.000000    51.000000\n",
       "mean                           569.117647  547.627451  1126.098039\n",
       "std                             45.666901   84.909119    92.494812\n",
       "min                            482.000000   52.000000   950.000000\n",
       "25%                            533.500000  522.000000  1055.500000\n",
       "50%                            559.000000  548.000000  1107.000000\n",
       "75%                            613.000000  599.000000  1212.000000\n",
       "max                            644.000000  651.000000  1295.000000"
      ]
     },
     "execution_count": 51,
     "metadata": {},
     "output_type": "execute_result"
    }
   ],
   "source": [
    "sat_2017.describe()"
   ]
  },
  {
   "cell_type": "markdown",
   "metadata": {},
   "source": [
    "Looking above, we can see that the min value for \"math\" is 52 and is lower than the minimum score for the SAT (200) \n",
    "([*source*](https://www.khanacademy.org/test-prep/sat/new-sat-tips-planning/new-sat-about-sat/a/scoring-on-the-redesigned-sat)). Because the score is lower than the alotted minimum SAT score, we will add a 0 at the end to make the score 524."
   ]
  },
  {
   "cell_type": "code",
   "execution_count": 52,
   "metadata": {},
   "outputs": [
    {
     "data": {
      "text/html": [
       "<div>\n",
       "<style scoped>\n",
       "    .dataframe tbody tr th:only-of-type {\n",
       "        vertical-align: middle;\n",
       "    }\n",
       "\n",
       "    .dataframe tbody tr th {\n",
       "        vertical-align: top;\n",
       "    }\n",
       "\n",
       "    .dataframe thead th {\n",
       "        text-align: right;\n",
       "    }\n",
       "</style>\n",
       "<table border=\"1\" class=\"dataframe\">\n",
       "  <thead>\n",
       "    <tr style=\"text-align: right;\">\n",
       "      <th></th>\n",
       "      <th>State</th>\n",
       "      <th>Participation</th>\n",
       "      <th>Evidence-Based Reading and Writing</th>\n",
       "      <th>Math</th>\n",
       "      <th>Total</th>\n",
       "    </tr>\n",
       "  </thead>\n",
       "  <tbody>\n",
       "    <tr>\n",
       "      <th>20</th>\n",
       "      <td>Maryland</td>\n",
       "      <td>69%</td>\n",
       "      <td>536</td>\n",
       "      <td>52</td>\n",
       "      <td>1060</td>\n",
       "    </tr>\n",
       "  </tbody>\n",
       "</table>\n",
       "</div>"
      ],
      "text/plain": [
       "       State Participation  Evidence-Based Reading and Writing  Math  Total\n",
       "20  Maryland           69%                                 536    52   1060"
      ]
     },
     "execution_count": 52,
     "metadata": {},
     "output_type": "execute_result"
    }
   ],
   "source": [
    "# Utilizing the min value from above, we see that Maryland has a minimum value of 52, but with a total of 1060.\n",
    "sat_2017[sat_2017['Math']==52]"
   ]
  },
  {
   "cell_type": "code",
   "execution_count": 53,
   "metadata": {},
   "outputs": [
    {
     "data": {
      "text/plain": [
       "524"
      ]
     },
     "execution_count": 53,
     "metadata": {},
     "output_type": "execute_result"
    }
   ],
   "source": [
    "# Maryland's math value should be 524\n",
    "total = 1060\n",
    "evidence_based_reading_writing = 536\n",
    "math = total - evidence_based_reading_writing\n",
    "math"
   ]
  },
  {
   "cell_type": "code",
   "execution_count": 54,
   "metadata": {},
   "outputs": [
    {
     "data": {
      "text/html": [
       "<div>\n",
       "<style scoped>\n",
       "    .dataframe tbody tr th:only-of-type {\n",
       "        vertical-align: middle;\n",
       "    }\n",
       "\n",
       "    .dataframe tbody tr th {\n",
       "        vertical-align: top;\n",
       "    }\n",
       "\n",
       "    .dataframe thead th {\n",
       "        text-align: right;\n",
       "    }\n",
       "</style>\n",
       "<table border=\"1\" class=\"dataframe\">\n",
       "  <thead>\n",
       "    <tr style=\"text-align: right;\">\n",
       "      <th></th>\n",
       "      <th>State</th>\n",
       "      <th>Participation</th>\n",
       "      <th>Evidence-Based Reading and Writing</th>\n",
       "      <th>Math</th>\n",
       "      <th>Total</th>\n",
       "    </tr>\n",
       "  </thead>\n",
       "  <tbody>\n",
       "    <tr>\n",
       "      <th>0</th>\n",
       "      <td>Alabama</td>\n",
       "      <td>5%</td>\n",
       "      <td>593</td>\n",
       "      <td>572</td>\n",
       "      <td>1165</td>\n",
       "    </tr>\n",
       "    <tr>\n",
       "      <th>1</th>\n",
       "      <td>Alaska</td>\n",
       "      <td>38%</td>\n",
       "      <td>547</td>\n",
       "      <td>533</td>\n",
       "      <td>1080</td>\n",
       "    </tr>\n",
       "    <tr>\n",
       "      <th>2</th>\n",
       "      <td>Arizona</td>\n",
       "      <td>30%</td>\n",
       "      <td>563</td>\n",
       "      <td>553</td>\n",
       "      <td>1116</td>\n",
       "    </tr>\n",
       "    <tr>\n",
       "      <th>3</th>\n",
       "      <td>Arkansas</td>\n",
       "      <td>3%</td>\n",
       "      <td>614</td>\n",
       "      <td>594</td>\n",
       "      <td>1208</td>\n",
       "    </tr>\n",
       "    <tr>\n",
       "      <th>4</th>\n",
       "      <td>California</td>\n",
       "      <td>53%</td>\n",
       "      <td>531</td>\n",
       "      <td>524</td>\n",
       "      <td>1055</td>\n",
       "    </tr>\n",
       "    <tr>\n",
       "      <th>5</th>\n",
       "      <td>Colorado</td>\n",
       "      <td>11%</td>\n",
       "      <td>606</td>\n",
       "      <td>595</td>\n",
       "      <td>1201</td>\n",
       "    </tr>\n",
       "    <tr>\n",
       "      <th>6</th>\n",
       "      <td>Connecticut</td>\n",
       "      <td>100%</td>\n",
       "      <td>530</td>\n",
       "      <td>512</td>\n",
       "      <td>1041</td>\n",
       "    </tr>\n",
       "    <tr>\n",
       "      <th>7</th>\n",
       "      <td>Delaware</td>\n",
       "      <td>100%</td>\n",
       "      <td>503</td>\n",
       "      <td>492</td>\n",
       "      <td>996</td>\n",
       "    </tr>\n",
       "    <tr>\n",
       "      <th>8</th>\n",
       "      <td>District of Columbia</td>\n",
       "      <td>100%</td>\n",
       "      <td>482</td>\n",
       "      <td>468</td>\n",
       "      <td>950</td>\n",
       "    </tr>\n",
       "    <tr>\n",
       "      <th>9</th>\n",
       "      <td>Florida</td>\n",
       "      <td>83%</td>\n",
       "      <td>520</td>\n",
       "      <td>497</td>\n",
       "      <td>1017</td>\n",
       "    </tr>\n",
       "    <tr>\n",
       "      <th>10</th>\n",
       "      <td>Georgia</td>\n",
       "      <td>61%</td>\n",
       "      <td>535</td>\n",
       "      <td>515</td>\n",
       "      <td>1050</td>\n",
       "    </tr>\n",
       "    <tr>\n",
       "      <th>11</th>\n",
       "      <td>Hawaii</td>\n",
       "      <td>55%</td>\n",
       "      <td>544</td>\n",
       "      <td>541</td>\n",
       "      <td>1085</td>\n",
       "    </tr>\n",
       "    <tr>\n",
       "      <th>12</th>\n",
       "      <td>Idaho</td>\n",
       "      <td>93%</td>\n",
       "      <td>513</td>\n",
       "      <td>493</td>\n",
       "      <td>1005</td>\n",
       "    </tr>\n",
       "    <tr>\n",
       "      <th>13</th>\n",
       "      <td>Illinois</td>\n",
       "      <td>9%</td>\n",
       "      <td>559</td>\n",
       "      <td>556</td>\n",
       "      <td>1115</td>\n",
       "    </tr>\n",
       "    <tr>\n",
       "      <th>14</th>\n",
       "      <td>Indiana</td>\n",
       "      <td>63%</td>\n",
       "      <td>542</td>\n",
       "      <td>532</td>\n",
       "      <td>1074</td>\n",
       "    </tr>\n",
       "    <tr>\n",
       "      <th>15</th>\n",
       "      <td>Iowa</td>\n",
       "      <td>2%</td>\n",
       "      <td>641</td>\n",
       "      <td>635</td>\n",
       "      <td>1275</td>\n",
       "    </tr>\n",
       "    <tr>\n",
       "      <th>16</th>\n",
       "      <td>Kansas</td>\n",
       "      <td>4%</td>\n",
       "      <td>632</td>\n",
       "      <td>628</td>\n",
       "      <td>1260</td>\n",
       "    </tr>\n",
       "    <tr>\n",
       "      <th>17</th>\n",
       "      <td>Kentucky</td>\n",
       "      <td>4%</td>\n",
       "      <td>631</td>\n",
       "      <td>616</td>\n",
       "      <td>1247</td>\n",
       "    </tr>\n",
       "    <tr>\n",
       "      <th>18</th>\n",
       "      <td>Louisiana</td>\n",
       "      <td>4%</td>\n",
       "      <td>611</td>\n",
       "      <td>586</td>\n",
       "      <td>1198</td>\n",
       "    </tr>\n",
       "    <tr>\n",
       "      <th>19</th>\n",
       "      <td>Maine</td>\n",
       "      <td>95%</td>\n",
       "      <td>513</td>\n",
       "      <td>499</td>\n",
       "      <td>1012</td>\n",
       "    </tr>\n",
       "    <tr>\n",
       "      <th>20</th>\n",
       "      <td>Maryland</td>\n",
       "      <td>69%</td>\n",
       "      <td>536</td>\n",
       "      <td>524</td>\n",
       "      <td>1060</td>\n",
       "    </tr>\n",
       "    <tr>\n",
       "      <th>21</th>\n",
       "      <td>Massachusetts</td>\n",
       "      <td>76%</td>\n",
       "      <td>555</td>\n",
       "      <td>551</td>\n",
       "      <td>1107</td>\n",
       "    </tr>\n",
       "    <tr>\n",
       "      <th>22</th>\n",
       "      <td>Michigan</td>\n",
       "      <td>100%</td>\n",
       "      <td>509</td>\n",
       "      <td>495</td>\n",
       "      <td>1005</td>\n",
       "    </tr>\n",
       "    <tr>\n",
       "      <th>23</th>\n",
       "      <td>Minnesota</td>\n",
       "      <td>3%</td>\n",
       "      <td>644</td>\n",
       "      <td>651</td>\n",
       "      <td>1295</td>\n",
       "    </tr>\n",
       "    <tr>\n",
       "      <th>24</th>\n",
       "      <td>Mississippi</td>\n",
       "      <td>2%</td>\n",
       "      <td>634</td>\n",
       "      <td>607</td>\n",
       "      <td>1242</td>\n",
       "    </tr>\n",
       "  </tbody>\n",
       "</table>\n",
       "</div>"
      ],
      "text/plain": [
       "                   State Participation  Evidence-Based Reading and Writing  \\\n",
       "0                Alabama            5%                                 593   \n",
       "1                 Alaska           38%                                 547   \n",
       "2                Arizona           30%                                 563   \n",
       "3               Arkansas            3%                                 614   \n",
       "4             California           53%                                 531   \n",
       "5               Colorado           11%                                 606   \n",
       "6            Connecticut          100%                                 530   \n",
       "7               Delaware          100%                                 503   \n",
       "8   District of Columbia          100%                                 482   \n",
       "9                Florida           83%                                 520   \n",
       "10               Georgia           61%                                 535   \n",
       "11                Hawaii           55%                                 544   \n",
       "12                 Idaho           93%                                 513   \n",
       "13              Illinois            9%                                 559   \n",
       "14               Indiana           63%                                 542   \n",
       "15                  Iowa            2%                                 641   \n",
       "16                Kansas            4%                                 632   \n",
       "17              Kentucky            4%                                 631   \n",
       "18             Louisiana            4%                                 611   \n",
       "19                 Maine           95%                                 513   \n",
       "20              Maryland           69%                                 536   \n",
       "21         Massachusetts           76%                                 555   \n",
       "22              Michigan          100%                                 509   \n",
       "23             Minnesota            3%                                 644   \n",
       "24           Mississippi            2%                                 634   \n",
       "\n",
       "    Math  Total  \n",
       "0    572   1165  \n",
       "1    533   1080  \n",
       "2    553   1116  \n",
       "3    594   1208  \n",
       "4    524   1055  \n",
       "5    595   1201  \n",
       "6    512   1041  \n",
       "7    492    996  \n",
       "8    468    950  \n",
       "9    497   1017  \n",
       "10   515   1050  \n",
       "11   541   1085  \n",
       "12   493   1005  \n",
       "13   556   1115  \n",
       "14   532   1074  \n",
       "15   635   1275  \n",
       "16   628   1260  \n",
       "17   616   1247  \n",
       "18   586   1198  \n",
       "19   499   1012  \n",
       "20   524   1060  \n",
       "21   551   1107  \n",
       "22   495   1005  \n",
       "23   651   1295  \n",
       "24   607   1242  "
      ]
     },
     "execution_count": 54,
     "metadata": {},
     "output_type": "execute_result"
    }
   ],
   "source": [
    "# Changing Maryland's math value to 524 and utilizing .head to see if the change was made\n",
    "sat_2017.loc[sat_2017['State'] == 'Maryland', ['Math']] = 524\n",
    "sat_2017.head(25)"
   ]
  },
  {
   "cell_type": "code",
   "execution_count": 55,
   "metadata": {},
   "outputs": [
    {
     "data": {
      "text/html": [
       "<div>\n",
       "<style scoped>\n",
       "    .dataframe tbody tr th:only-of-type {\n",
       "        vertical-align: middle;\n",
       "    }\n",
       "\n",
       "    .dataframe tbody tr th {\n",
       "        vertical-align: top;\n",
       "    }\n",
       "\n",
       "    .dataframe thead th {\n",
       "        text-align: right;\n",
       "    }\n",
       "</style>\n",
       "<table border=\"1\" class=\"dataframe\">\n",
       "  <thead>\n",
       "    <tr style=\"text-align: right;\">\n",
       "      <th></th>\n",
       "      <th>Evidence-Based Reading and Writing</th>\n",
       "      <th>Math</th>\n",
       "      <th>Total</th>\n",
       "    </tr>\n",
       "  </thead>\n",
       "  <tbody>\n",
       "    <tr>\n",
       "      <th>count</th>\n",
       "      <td>51.000000</td>\n",
       "      <td>51.000000</td>\n",
       "      <td>51.000000</td>\n",
       "    </tr>\n",
       "    <tr>\n",
       "      <th>mean</th>\n",
       "      <td>563.686275</td>\n",
       "      <td>556.235294</td>\n",
       "      <td>1120.019608</td>\n",
       "    </tr>\n",
       "    <tr>\n",
       "      <th>std</th>\n",
       "      <td>47.502627</td>\n",
       "      <td>47.772623</td>\n",
       "      <td>94.155083</td>\n",
       "    </tr>\n",
       "    <tr>\n",
       "      <th>min</th>\n",
       "      <td>480.000000</td>\n",
       "      <td>480.000000</td>\n",
       "      <td>977.000000</td>\n",
       "    </tr>\n",
       "    <tr>\n",
       "      <th>25%</th>\n",
       "      <td>534.500000</td>\n",
       "      <td>522.500000</td>\n",
       "      <td>1057.500000</td>\n",
       "    </tr>\n",
       "    <tr>\n",
       "      <th>50%</th>\n",
       "      <td>552.000000</td>\n",
       "      <td>544.000000</td>\n",
       "      <td>1098.000000</td>\n",
       "    </tr>\n",
       "    <tr>\n",
       "      <th>75%</th>\n",
       "      <td>610.500000</td>\n",
       "      <td>593.500000</td>\n",
       "      <td>1204.000000</td>\n",
       "    </tr>\n",
       "    <tr>\n",
       "      <th>max</th>\n",
       "      <td>643.000000</td>\n",
       "      <td>655.000000</td>\n",
       "      <td>1298.000000</td>\n",
       "    </tr>\n",
       "  </tbody>\n",
       "</table>\n",
       "</div>"
      ],
      "text/plain": [
       "       Evidence-Based Reading and Writing        Math        Total\n",
       "count                           51.000000   51.000000    51.000000\n",
       "mean                           563.686275  556.235294  1120.019608\n",
       "std                             47.502627   47.772623    94.155083\n",
       "min                            480.000000  480.000000   977.000000\n",
       "25%                            534.500000  522.500000  1057.500000\n",
       "50%                            552.000000  544.000000  1098.000000\n",
       "75%                            610.500000  593.500000  1204.000000\n",
       "max                            643.000000  655.000000  1298.000000"
      ]
     },
     "execution_count": 55,
     "metadata": {},
     "output_type": "execute_result"
    }
   ],
   "source": [
    "sat_2018.describe()"
   ]
  },
  {
   "cell_type": "code",
   "execution_count": 56,
   "metadata": {},
   "outputs": [
    {
     "data": {
      "text/html": [
       "<div>\n",
       "<style scoped>\n",
       "    .dataframe tbody tr th:only-of-type {\n",
       "        vertical-align: middle;\n",
       "    }\n",
       "\n",
       "    .dataframe tbody tr th {\n",
       "        vertical-align: top;\n",
       "    }\n",
       "\n",
       "    .dataframe thead th {\n",
       "        text-align: right;\n",
       "    }\n",
       "</style>\n",
       "<table border=\"1\" class=\"dataframe\">\n",
       "  <thead>\n",
       "    <tr style=\"text-align: right;\">\n",
       "      <th></th>\n",
       "      <th>EBRW</th>\n",
       "      <th>Math</th>\n",
       "      <th>Total</th>\n",
       "    </tr>\n",
       "  </thead>\n",
       "  <tbody>\n",
       "    <tr>\n",
       "      <th>count</th>\n",
       "      <td>53.000000</td>\n",
       "      <td>53.000000</td>\n",
       "      <td>53.000000</td>\n",
       "    </tr>\n",
       "    <tr>\n",
       "      <th>mean</th>\n",
       "      <td>558.000000</td>\n",
       "      <td>548.471698</td>\n",
       "      <td>1106.528302</td>\n",
       "    </tr>\n",
       "    <tr>\n",
       "      <th>std</th>\n",
       "      <td>47.554422</td>\n",
       "      <td>53.785044</td>\n",
       "      <td>100.994784</td>\n",
       "    </tr>\n",
       "    <tr>\n",
       "      <th>min</th>\n",
       "      <td>483.000000</td>\n",
       "      <td>445.000000</td>\n",
       "      <td>935.000000</td>\n",
       "    </tr>\n",
       "    <tr>\n",
       "      <th>25%</th>\n",
       "      <td>518.000000</td>\n",
       "      <td>506.000000</td>\n",
       "      <td>1024.000000</td>\n",
       "    </tr>\n",
       "    <tr>\n",
       "      <th>50%</th>\n",
       "      <td>550.000000</td>\n",
       "      <td>545.000000</td>\n",
       "      <td>1097.000000</td>\n",
       "    </tr>\n",
       "    <tr>\n",
       "      <th>75%</th>\n",
       "      <td>610.000000</td>\n",
       "      <td>596.000000</td>\n",
       "      <td>1200.000000</td>\n",
       "    </tr>\n",
       "    <tr>\n",
       "      <th>max</th>\n",
       "      <td>636.000000</td>\n",
       "      <td>648.000000</td>\n",
       "      <td>1284.000000</td>\n",
       "    </tr>\n",
       "  </tbody>\n",
       "</table>\n",
       "</div>"
      ],
      "text/plain": [
       "             EBRW        Math        Total\n",
       "count   53.000000   53.000000    53.000000\n",
       "mean   558.000000  548.471698  1106.528302\n",
       "std     47.554422   53.785044   100.994784\n",
       "min    483.000000  445.000000   935.000000\n",
       "25%    518.000000  506.000000  1024.000000\n",
       "50%    550.000000  545.000000  1097.000000\n",
       "75%    610.000000  596.000000  1200.000000\n",
       "max    636.000000  648.000000  1284.000000"
      ]
     },
     "execution_count": 56,
     "metadata": {},
     "output_type": "execute_result"
    }
   ],
   "source": [
    "sat_2019.describe()"
   ]
  },
  {
   "cell_type": "markdown",
   "metadata": {},
   "source": [
    "Data from `sat_2018` and `sat_2019` don't seem to have any clear errors."
   ]
  },
  {
   "cell_type": "markdown",
   "metadata": {},
   "source": [
    "#### Data Types:"
   ]
  },
  {
   "cell_type": "code",
   "execution_count": 57,
   "metadata": {},
   "outputs": [
    {
     "data": {
      "text/plain": [
       "State                                 object\n",
       "Participation                         object\n",
       "Evidence-Based Reading and Writing     int64\n",
       "Math                                   int64\n",
       "Total                                  int64\n",
       "dtype: object"
      ]
     },
     "execution_count": 57,
     "metadata": {},
     "output_type": "execute_result"
    }
   ],
   "source": [
    "sat_2017.dtypes"
   ]
  },
  {
   "cell_type": "code",
   "execution_count": 58,
   "metadata": {},
   "outputs": [
    {
     "data": {
      "text/plain": [
       "State                                 object\n",
       "Participation                         object\n",
       "Evidence-Based Reading and Writing     int64\n",
       "Math                                   int64\n",
       "Total                                  int64\n",
       "dtype: object"
      ]
     },
     "execution_count": 58,
     "metadata": {},
     "output_type": "execute_result"
    }
   ],
   "source": [
    "sat_2018.dtypes"
   ]
  },
  {
   "cell_type": "code",
   "execution_count": 59,
   "metadata": {},
   "outputs": [
    {
     "data": {
      "text/plain": [
       "State                 object\n",
       "Participation Rate    object\n",
       "EBRW                   int64\n",
       "Math                   int64\n",
       "Total                  int64\n",
       "dtype: object"
      ]
     },
     "execution_count": 59,
     "metadata": {},
     "output_type": "execute_result"
    }
   ],
   "source": [
    "sat_2019.dtypes"
   ]
  },
  {
   "cell_type": "markdown",
   "metadata": {},
   "source": [
    "Observing these data types, I will change \"Participation\" and \"Participation Rate\" so that it is a float instead of object."
   ]
  },
  {
   "cell_type": "markdown",
   "metadata": {},
   "source": [
    "#### Shape of Array:"
   ]
  },
  {
   "cell_type": "code",
   "execution_count": 60,
   "metadata": {},
   "outputs": [
    {
     "data": {
      "text/plain": [
       "(51, 5)"
      ]
     },
     "execution_count": 60,
     "metadata": {},
     "output_type": "execute_result"
    }
   ],
   "source": [
    "sat_2017.shape"
   ]
  },
  {
   "cell_type": "code",
   "execution_count": 61,
   "metadata": {},
   "outputs": [
    {
     "data": {
      "text/plain": [
       "(51, 5)"
      ]
     },
     "execution_count": 61,
     "metadata": {},
     "output_type": "execute_result"
    }
   ],
   "source": [
    "sat_2018.shape"
   ]
  },
  {
   "cell_type": "code",
   "execution_count": 62,
   "metadata": {},
   "outputs": [
    {
     "data": {
      "text/plain": [
       "(53, 5)"
      ]
     },
     "execution_count": 62,
     "metadata": {},
     "output_type": "execute_result"
    }
   ],
   "source": [
    "sat_2019.shape"
   ]
  },
  {
   "cell_type": "markdown",
   "metadata": {},
   "source": [
    "Compared to `sat_2017` and `sat_2018`, `sat_2019` has 2 additional inputs."
   ]
  },
  {
   "cell_type": "code",
   "execution_count": 68,
   "metadata": {
    "scrolled": true
   },
   "outputs": [
    {
     "name": "stdout",
     "output_type": "stream",
     "text": [
      "0                  Alabama\n",
      "1                   Alaska\n",
      "2                  Arizona\n",
      "3                 Arkansas\n",
      "4               California\n",
      "5                 Colorado\n",
      "6              Connecticut\n",
      "7                 Delaware\n",
      "8     District of Columbia\n",
      "9                  Florida\n",
      "10                 Georgia\n",
      "11                  Hawaii\n",
      "12                   Idaho\n",
      "13                Illinois\n",
      "14                 Indiana\n",
      "15                    Iowa\n",
      "16                  Kansas\n",
      "17                Kentucky\n",
      "18               Louisiana\n",
      "19                   Maine\n",
      "20                Maryland\n",
      "21           Massachusetts\n",
      "22                Michigan\n",
      "23               Minnesota\n",
      "24             Mississippi\n",
      "25                Missouri\n",
      "26                 Montana\n",
      "27                Nebraska\n",
      "28                  Nevada\n",
      "29           New Hampshire\n",
      "30              New Jersey\n",
      "31              New Mexico\n",
      "32                New York\n",
      "33          North Carolina\n",
      "34            North Dakota\n",
      "35                    Ohio\n",
      "36                Oklahoma\n",
      "37                  Oregon\n",
      "38            Pennsylvania\n",
      "39            Rhode Island\n",
      "40          South Carolina\n",
      "41            South Dakota\n",
      "42               Tennessee\n",
      "43                   Texas\n",
      "44                    Utah\n",
      "45                 Vermont\n",
      "46                Virginia\n",
      "47              Washington\n",
      "48           West Virginia\n",
      "49               Wisconsin\n",
      "50                 Wyoming\n",
      "Name: State, dtype: object\n",
      "0                  Alabama\n",
      "1                   Alaska\n",
      "2                  Arizona\n",
      "3                 Arkansas\n",
      "4               California\n",
      "5                 Colorado\n",
      "6              Connecticut\n",
      "7                 Delaware\n",
      "8     District of Columbia\n",
      "9                  Florida\n",
      "10                 Georgia\n",
      "11                  Hawaii\n",
      "12                   Idaho\n",
      "13                Illinois\n",
      "14                 Indiana\n",
      "15                    Iowa\n",
      "16                  Kansas\n",
      "17                Kentucky\n",
      "18               Louisiana\n",
      "19                   Maine\n",
      "20                Maryland\n",
      "21           Massachusetts\n",
      "22                Michigan\n",
      "23               Minnesota\n",
      "24             Mississippi\n",
      "25                Missouri\n",
      "26                 Montana\n",
      "27                Nebraska\n",
      "28                  Nevada\n",
      "29           New Hampshire\n",
      "30              New Jersey\n",
      "31              New Mexico\n",
      "32                New York\n",
      "33          North Carolina\n",
      "34            North Dakota\n",
      "35                    Ohio\n",
      "36                Oklahoma\n",
      "37                  Oregon\n",
      "38            Pennsylvania\n",
      "39             Puerto Rico\n",
      "40            Rhode Island\n",
      "41          South Carolina\n",
      "42            South Dakota\n",
      "43               Tennessee\n",
      "44                   Texas\n",
      "45                    Utah\n",
      "46                 Vermont\n",
      "47          Virgin Islands\n",
      "48                Virginia\n",
      "49              Washington\n",
      "50           West Virginia\n",
      "51               Wisconsin\n",
      "52                 Wyoming\n",
      "Name: State, dtype: object\n"
     ]
    }
   ],
   "source": [
    "print(sat_2017['State'])\n",
    "print(sat_2019['State'])"
   ]
  },
  {
   "cell_type": "code",
   "execution_count": 69,
   "metadata": {},
   "outputs": [],
   "source": [
    "sat_2019_drop = sat_2019.drop(sat_2019.index[39])"
   ]
  },
  {
   "cell_type": "code",
   "execution_count": 70,
   "metadata": {},
   "outputs": [],
   "source": [
    "sat_2019_final = sat_2019_drop.drop(sat_2019_drop.index[46])"
   ]
  },
  {
   "cell_type": "code",
   "execution_count": 71,
   "metadata": {},
   "outputs": [
    {
     "data": {
      "text/plain": [
       "(51, 5)"
      ]
     },
     "execution_count": 71,
     "metadata": {},
     "output_type": "execute_result"
    }
   ],
   "source": [
    "sat_2019_final.shape"
   ]
  },
  {
   "cell_type": "code",
   "execution_count": 72,
   "metadata": {},
   "outputs": [
    {
     "data": {
      "text/plain": [
       "Index(['State', 'Participation', 'Evidence-Based Reading and Writing', 'Math',\n",
       "       'Total'],\n",
       "      dtype='object')"
      ]
     },
     "execution_count": 72,
     "metadata": {},
     "output_type": "execute_result"
    }
   ],
   "source": [
    "sat_2017.columns"
   ]
  },
  {
   "cell_type": "markdown",
   "metadata": {},
   "source": [
    "I dropped 'Puerto Rico' and 'Virgin Islands' from `sat_2019` because comparing the three datasets, I saw that the two states were added in 2019 but are not in\n",
    "the 2017 and 2018 datasets. Running the shape again, we can see that 2019 has the same shape as 2017 and 2018.\n",
    "\n",
    "Additionally, by dropping these states, this will help clean the 'Participation Rate' for 'Puerto Rico' and 'Virgin Islands' as the two values were '-'."
   ]
  },
  {
   "cell_type": "markdown",
   "metadata": {},
   "source": [
    "#### Renaming Columns:"
   ]
  },
  {
   "cell_type": "markdown",
   "metadata": {},
   "source": [
    "I renamed the column names to remove any spaces and uppercase lettering. I also included the year so that it will be\n",
    "easier to identify which column went with specified year when the database is later combined to one."
   ]
  },
  {
   "cell_type": "code",
   "execution_count": 73,
   "metadata": {},
   "outputs": [],
   "source": [
    "# sat_2017 dataset\n",
    "sat_2017 = sat_2017.rename(columns = {'State': 'state', 'Participation': 'participation_2017', \n",
    "                           'Evidence-Based Reading and Writing': 'evidence_based_reading_writing_2017', \n",
    "                           'Math': 'math_2017', 'Total': 'total_2017'})\n",
    "\n",
    "# sat_2018 dataset\n",
    "sat_2018 = sat_2018.rename(columns = {'State': 'state', 'Participation': 'participation_2018', \n",
    "                           'Evidence-Based Reading and Writing': 'evidence_based_reading_writing_2018', \n",
    "                           'Math': 'math_2018', 'Total': 'total_2018'})\n",
    "\n",
    "# sat_2019 dataset\n",
    "sat_2019_final = sat_2019_final.rename(columns = {'State': 'state', 'Participation Rate': 'participation_2019', \n",
    "                           'EBRW': 'evidence_based_reading_writing_2019', \n",
    "                           'Math': 'math_2019', 'Total': 'total_2019'})"
   ]
  },
  {
   "cell_type": "markdown",
   "metadata": {},
   "source": [
    "#### Fixing Data Types:"
   ]
  },
  {
   "cell_type": "code",
   "execution_count": 75,
   "metadata": {},
   "outputs": [],
   "source": [
    "# Helper function to change participation from object to float\n",
    "def percentage_to_float(percent_num):\n",
    "    return float(percent_num.strip('%')) / 100"
   ]
  },
  {
   "cell_type": "code",
   "execution_count": 76,
   "metadata": {},
   "outputs": [
    {
     "data": {
      "text/html": [
       "<div>\n",
       "<style scoped>\n",
       "    .dataframe tbody tr th:only-of-type {\n",
       "        vertical-align: middle;\n",
       "    }\n",
       "\n",
       "    .dataframe tbody tr th {\n",
       "        vertical-align: top;\n",
       "    }\n",
       "\n",
       "    .dataframe thead th {\n",
       "        text-align: right;\n",
       "    }\n",
       "</style>\n",
       "<table border=\"1\" class=\"dataframe\">\n",
       "  <thead>\n",
       "    <tr style=\"text-align: right;\">\n",
       "      <th></th>\n",
       "      <th>state</th>\n",
       "      <th>participation_2017</th>\n",
       "      <th>evidence_based_reading_writing_2017</th>\n",
       "      <th>math_2017</th>\n",
       "      <th>total_2017</th>\n",
       "    </tr>\n",
       "  </thead>\n",
       "  <tbody>\n",
       "    <tr>\n",
       "      <th>0</th>\n",
       "      <td>Alabama</td>\n",
       "      <td>0.05</td>\n",
       "      <td>593</td>\n",
       "      <td>572</td>\n",
       "      <td>1165</td>\n",
       "    </tr>\n",
       "    <tr>\n",
       "      <th>1</th>\n",
       "      <td>Alaska</td>\n",
       "      <td>0.38</td>\n",
       "      <td>547</td>\n",
       "      <td>533</td>\n",
       "      <td>1080</td>\n",
       "    </tr>\n",
       "    <tr>\n",
       "      <th>2</th>\n",
       "      <td>Arizona</td>\n",
       "      <td>0.30</td>\n",
       "      <td>563</td>\n",
       "      <td>553</td>\n",
       "      <td>1116</td>\n",
       "    </tr>\n",
       "    <tr>\n",
       "      <th>3</th>\n",
       "      <td>Arkansas</td>\n",
       "      <td>0.03</td>\n",
       "      <td>614</td>\n",
       "      <td>594</td>\n",
       "      <td>1208</td>\n",
       "    </tr>\n",
       "    <tr>\n",
       "      <th>4</th>\n",
       "      <td>California</td>\n",
       "      <td>0.53</td>\n",
       "      <td>531</td>\n",
       "      <td>524</td>\n",
       "      <td>1055</td>\n",
       "    </tr>\n",
       "  </tbody>\n",
       "</table>\n",
       "</div>"
      ],
      "text/plain": [
       "        state  participation_2017  evidence_based_reading_writing_2017  \\\n",
       "0     Alabama                0.05                                  593   \n",
       "1      Alaska                0.38                                  547   \n",
       "2     Arizona                0.30                                  563   \n",
       "3    Arkansas                0.03                                  614   \n",
       "4  California                0.53                                  531   \n",
       "\n",
       "   math_2017  total_2017  \n",
       "0        572        1165  \n",
       "1        533        1080  \n",
       "2        553        1116  \n",
       "3        594        1208  \n",
       "4        524        1055  "
      ]
     },
     "execution_count": 76,
     "metadata": {},
     "output_type": "execute_result"
    }
   ],
   "source": [
    "# 2017 SAT data\n",
    "sat_2017['participation_2017'] = sat_2017['participation_2017'].map(percentage_to_float)\n",
    "sat_2017.head()"
   ]
  },
  {
   "cell_type": "code",
   "execution_count": 77,
   "metadata": {},
   "outputs": [
    {
     "data": {
      "text/html": [
       "<div>\n",
       "<style scoped>\n",
       "    .dataframe tbody tr th:only-of-type {\n",
       "        vertical-align: middle;\n",
       "    }\n",
       "\n",
       "    .dataframe tbody tr th {\n",
       "        vertical-align: top;\n",
       "    }\n",
       "\n",
       "    .dataframe thead th {\n",
       "        text-align: right;\n",
       "    }\n",
       "</style>\n",
       "<table border=\"1\" class=\"dataframe\">\n",
       "  <thead>\n",
       "    <tr style=\"text-align: right;\">\n",
       "      <th></th>\n",
       "      <th>state</th>\n",
       "      <th>participation_2018</th>\n",
       "      <th>evidence_based_reading_writing_2018</th>\n",
       "      <th>math_2018</th>\n",
       "      <th>total_2018</th>\n",
       "    </tr>\n",
       "  </thead>\n",
       "  <tbody>\n",
       "    <tr>\n",
       "      <th>0</th>\n",
       "      <td>Alabama</td>\n",
       "      <td>0.06</td>\n",
       "      <td>595</td>\n",
       "      <td>571</td>\n",
       "      <td>1166</td>\n",
       "    </tr>\n",
       "    <tr>\n",
       "      <th>1</th>\n",
       "      <td>Alaska</td>\n",
       "      <td>0.43</td>\n",
       "      <td>562</td>\n",
       "      <td>544</td>\n",
       "      <td>1106</td>\n",
       "    </tr>\n",
       "    <tr>\n",
       "      <th>2</th>\n",
       "      <td>Arizona</td>\n",
       "      <td>0.29</td>\n",
       "      <td>577</td>\n",
       "      <td>572</td>\n",
       "      <td>1149</td>\n",
       "    </tr>\n",
       "    <tr>\n",
       "      <th>3</th>\n",
       "      <td>Arkansas</td>\n",
       "      <td>0.05</td>\n",
       "      <td>592</td>\n",
       "      <td>576</td>\n",
       "      <td>1169</td>\n",
       "    </tr>\n",
       "    <tr>\n",
       "      <th>4</th>\n",
       "      <td>California</td>\n",
       "      <td>0.60</td>\n",
       "      <td>540</td>\n",
       "      <td>536</td>\n",
       "      <td>1076</td>\n",
       "    </tr>\n",
       "  </tbody>\n",
       "</table>\n",
       "</div>"
      ],
      "text/plain": [
       "        state  participation_2018  evidence_based_reading_writing_2018  \\\n",
       "0     Alabama                0.06                                  595   \n",
       "1      Alaska                0.43                                  562   \n",
       "2     Arizona                0.29                                  577   \n",
       "3    Arkansas                0.05                                  592   \n",
       "4  California                0.60                                  540   \n",
       "\n",
       "   math_2018  total_2018  \n",
       "0        571        1166  \n",
       "1        544        1106  \n",
       "2        572        1149  \n",
       "3        576        1169  \n",
       "4        536        1076  "
      ]
     },
     "execution_count": 77,
     "metadata": {},
     "output_type": "execute_result"
    }
   ],
   "source": [
    "# 2018 SAT data\n",
    "sat_2018['participation_2018'] = sat_2018['participation_2018'].map(percentage_to_float)\n",
    "sat_2018.head()"
   ]
  },
  {
   "cell_type": "code",
   "execution_count": 78,
   "metadata": {},
   "outputs": [
    {
     "data": {
      "text/html": [
       "<div>\n",
       "<style scoped>\n",
       "    .dataframe tbody tr th:only-of-type {\n",
       "        vertical-align: middle;\n",
       "    }\n",
       "\n",
       "    .dataframe tbody tr th {\n",
       "        vertical-align: top;\n",
       "    }\n",
       "\n",
       "    .dataframe thead th {\n",
       "        text-align: right;\n",
       "    }\n",
       "</style>\n",
       "<table border=\"1\" class=\"dataframe\">\n",
       "  <thead>\n",
       "    <tr style=\"text-align: right;\">\n",
       "      <th></th>\n",
       "      <th>state</th>\n",
       "      <th>participation_2019</th>\n",
       "      <th>evidence_based_reading_writing_2019</th>\n",
       "      <th>math_2019</th>\n",
       "      <th>total_2019</th>\n",
       "    </tr>\n",
       "  </thead>\n",
       "  <tbody>\n",
       "    <tr>\n",
       "      <th>0</th>\n",
       "      <td>Alabama</td>\n",
       "      <td>0.07</td>\n",
       "      <td>583</td>\n",
       "      <td>560</td>\n",
       "      <td>1143</td>\n",
       "    </tr>\n",
       "    <tr>\n",
       "      <th>1</th>\n",
       "      <td>Alaska</td>\n",
       "      <td>0.41</td>\n",
       "      <td>556</td>\n",
       "      <td>541</td>\n",
       "      <td>1097</td>\n",
       "    </tr>\n",
       "    <tr>\n",
       "      <th>2</th>\n",
       "      <td>Arizona</td>\n",
       "      <td>0.31</td>\n",
       "      <td>569</td>\n",
       "      <td>565</td>\n",
       "      <td>1134</td>\n",
       "    </tr>\n",
       "    <tr>\n",
       "      <th>3</th>\n",
       "      <td>Arkansas</td>\n",
       "      <td>0.06</td>\n",
       "      <td>582</td>\n",
       "      <td>559</td>\n",
       "      <td>1141</td>\n",
       "    </tr>\n",
       "    <tr>\n",
       "      <th>4</th>\n",
       "      <td>California</td>\n",
       "      <td>0.63</td>\n",
       "      <td>534</td>\n",
       "      <td>531</td>\n",
       "      <td>1065</td>\n",
       "    </tr>\n",
       "  </tbody>\n",
       "</table>\n",
       "</div>"
      ],
      "text/plain": [
       "        state  participation_2019  evidence_based_reading_writing_2019  \\\n",
       "0     Alabama                0.07                                  583   \n",
       "1      Alaska                0.41                                  556   \n",
       "2     Arizona                0.31                                  569   \n",
       "3    Arkansas                0.06                                  582   \n",
       "4  California                0.63                                  534   \n",
       "\n",
       "   math_2019  total_2019  \n",
       "0        560        1143  \n",
       "1        541        1097  \n",
       "2        565        1134  \n",
       "3        559        1141  \n",
       "4        531        1065  "
      ]
     },
     "execution_count": 78,
     "metadata": {},
     "output_type": "execute_result"
    }
   ],
   "source": [
    "# 2019 SAT data\n",
    "sat_2019_final['participation_2019'] = sat_2019_final['participation_2019'].map(percentage_to_float)\n",
    "sat_2019_final.head()"
   ]
  },
  {
   "cell_type": "markdown",
   "metadata": {},
   "source": [
    "#### Merge Dataframes:"
   ]
  },
  {
   "cell_type": "code",
   "execution_count": 80,
   "metadata": {},
   "outputs": [
    {
     "data": {
      "text/html": [
       "<div>\n",
       "<style scoped>\n",
       "    .dataframe tbody tr th:only-of-type {\n",
       "        vertical-align: middle;\n",
       "    }\n",
       "\n",
       "    .dataframe tbody tr th {\n",
       "        vertical-align: top;\n",
       "    }\n",
       "\n",
       "    .dataframe thead th {\n",
       "        text-align: right;\n",
       "    }\n",
       "</style>\n",
       "<table border=\"1\" class=\"dataframe\">\n",
       "  <thead>\n",
       "    <tr style=\"text-align: right;\">\n",
       "      <th></th>\n",
       "      <th>state</th>\n",
       "      <th>participation_2017</th>\n",
       "      <th>evidence_based_reading_writing_2017</th>\n",
       "      <th>math_2017</th>\n",
       "      <th>total_2017</th>\n",
       "      <th>participation_2018</th>\n",
       "      <th>evidence_based_reading_writing_2018</th>\n",
       "      <th>math_2018</th>\n",
       "      <th>total_2018</th>\n",
       "      <th>participation_2019</th>\n",
       "      <th>evidence_based_reading_writing_2019</th>\n",
       "      <th>math_2019</th>\n",
       "      <th>total_2019</th>\n",
       "    </tr>\n",
       "  </thead>\n",
       "  <tbody>\n",
       "    <tr>\n",
       "      <th>0</th>\n",
       "      <td>Alabama</td>\n",
       "      <td>0.05</td>\n",
       "      <td>593</td>\n",
       "      <td>572</td>\n",
       "      <td>1165</td>\n",
       "      <td>0.06</td>\n",
       "      <td>595</td>\n",
       "      <td>571</td>\n",
       "      <td>1166</td>\n",
       "      <td>0.07</td>\n",
       "      <td>583</td>\n",
       "      <td>560</td>\n",
       "      <td>1143</td>\n",
       "    </tr>\n",
       "    <tr>\n",
       "      <th>1</th>\n",
       "      <td>Alaska</td>\n",
       "      <td>0.38</td>\n",
       "      <td>547</td>\n",
       "      <td>533</td>\n",
       "      <td>1080</td>\n",
       "      <td>0.43</td>\n",
       "      <td>562</td>\n",
       "      <td>544</td>\n",
       "      <td>1106</td>\n",
       "      <td>0.41</td>\n",
       "      <td>556</td>\n",
       "      <td>541</td>\n",
       "      <td>1097</td>\n",
       "    </tr>\n",
       "    <tr>\n",
       "      <th>2</th>\n",
       "      <td>Arizona</td>\n",
       "      <td>0.30</td>\n",
       "      <td>563</td>\n",
       "      <td>553</td>\n",
       "      <td>1116</td>\n",
       "      <td>0.29</td>\n",
       "      <td>577</td>\n",
       "      <td>572</td>\n",
       "      <td>1149</td>\n",
       "      <td>0.31</td>\n",
       "      <td>569</td>\n",
       "      <td>565</td>\n",
       "      <td>1134</td>\n",
       "    </tr>\n",
       "    <tr>\n",
       "      <th>3</th>\n",
       "      <td>Arkansas</td>\n",
       "      <td>0.03</td>\n",
       "      <td>614</td>\n",
       "      <td>594</td>\n",
       "      <td>1208</td>\n",
       "      <td>0.05</td>\n",
       "      <td>592</td>\n",
       "      <td>576</td>\n",
       "      <td>1169</td>\n",
       "      <td>0.06</td>\n",
       "      <td>582</td>\n",
       "      <td>559</td>\n",
       "      <td>1141</td>\n",
       "    </tr>\n",
       "    <tr>\n",
       "      <th>4</th>\n",
       "      <td>California</td>\n",
       "      <td>0.53</td>\n",
       "      <td>531</td>\n",
       "      <td>524</td>\n",
       "      <td>1055</td>\n",
       "      <td>0.60</td>\n",
       "      <td>540</td>\n",
       "      <td>536</td>\n",
       "      <td>1076</td>\n",
       "      <td>0.63</td>\n",
       "      <td>534</td>\n",
       "      <td>531</td>\n",
       "      <td>1065</td>\n",
       "    </tr>\n",
       "  </tbody>\n",
       "</table>\n",
       "</div>"
      ],
      "text/plain": [
       "        state  participation_2017  evidence_based_reading_writing_2017  \\\n",
       "0     Alabama                0.05                                  593   \n",
       "1      Alaska                0.38                                  547   \n",
       "2     Arizona                0.30                                  563   \n",
       "3    Arkansas                0.03                                  614   \n",
       "4  California                0.53                                  531   \n",
       "\n",
       "   math_2017  total_2017  participation_2018  \\\n",
       "0        572        1165                0.06   \n",
       "1        533        1080                0.43   \n",
       "2        553        1116                0.29   \n",
       "3        594        1208                0.05   \n",
       "4        524        1055                0.60   \n",
       "\n",
       "   evidence_based_reading_writing_2018  math_2018  total_2018  \\\n",
       "0                                  595        571        1166   \n",
       "1                                  562        544        1106   \n",
       "2                                  577        572        1149   \n",
       "3                                  592        576        1169   \n",
       "4                                  540        536        1076   \n",
       "\n",
       "   participation_2019  evidence_based_reading_writing_2019  math_2019  \\\n",
       "0                0.07                                  583        560   \n",
       "1                0.41                                  556        541   \n",
       "2                0.31                                  569        565   \n",
       "3                0.06                                  582        559   \n",
       "4                0.63                                  534        531   \n",
       "\n",
       "   total_2019  \n",
       "0        1143  \n",
       "1        1097  \n",
       "2        1134  \n",
       "3        1141  \n",
       "4        1065  "
      ]
     },
     "execution_count": 80,
     "metadata": {},
     "output_type": "execute_result"
    }
   ],
   "source": [
    "combined_sat_years = sat_2017.merge(sat_2018, on = ['state']).merge(sat_2019_final, on = ['state'])\n",
    "combined_sat_years.head()"
   ]
  },
  {
   "cell_type": "code",
   "execution_count": 81,
   "metadata": {},
   "outputs": [
    {
     "data": {
      "text/plain": [
       "(51, 13)"
      ]
     },
     "execution_count": 81,
     "metadata": {},
     "output_type": "execute_result"
    }
   ],
   "source": [
    "# Size of rows and columns of merged dataset\n",
    "combined_sat_years.shape"
   ]
  },
  {
   "cell_type": "markdown",
   "metadata": {},
   "source": [
    "I merged all 3 dataframes into 1 dataframe called `combined_sat_years`. I used 'state' to join all dataframes together\n",
    "because 'state' is the intersection of all dataframes ([*source*](https://stackoverflow.com/questions/23668427/pandas-three-way-joining-multiple-dataframes-on-columns))."
   ]
  },
  {
   "cell_type": "markdown",
   "metadata": {},
   "source": [
    "#### Dataframe to CSV:"
   ]
  },
  {
   "cell_type": "code",
   "execution_count": 82,
   "metadata": {},
   "outputs": [],
   "source": [
    "combined_sat_years.to_csv('../data/combined_sat_years.csv')"
   ]
  },
  {
   "cell_type": "markdown",
   "metadata": {},
   "source": [
    "### Data Dictionary"
   ]
  },
  {
   "cell_type": "markdown",
   "metadata": {},
   "source": [
    "\n",
    "|Feature|Type|Dataset|Description|\n",
    "|---|---|---|---|\n",
    "|state|object|sat_2017, sat_2018, sat_2019|Name of states participating in the SATs.|\n",
    "|participation_2017|float|sat_2017|Participation rate of test takers from each state in 2017. (unit is converted to a decimal)|\n",
    "|evidence_based_reading_writing_2017|integer|sat_2017|Mean number scored on the evidence-based reading and writing portion of SAT per state in 2017.|\n",
    "|math_2017|integer|sat_2017|Mean number scored on the math portion of SAT per state in 2017.|\n",
    "|total_2017|integer|sat_2017|Total score from evidence_based_reading_writing and math in 2017.|\n",
    "|participation_2018|float|sat_2018|Participation rate of test takers from each state in 2018. (unit is converted to a decimal)|\n",
    "|evidence_based_reading_writing_2018|integer|sat_2018|Mean number scored on the evidence-based reading and writing portion of SAT per state in 2018.|\n",
    "|math_2018|integer|sat_2018|Mean number scored on the math portion of SAT per state in 2018.|\n",
    "|total_2018|integer|sat_2018|Total score from evidence_based_reading_writing and math in 2018.|\n",
    "|participation_2019|float|sat_2019|Participation rate of test takers from each state in 2019. (unit is converted to a decimal)|\n",
    "|evidence_based_reading_writing_2019|integer|sat_2019|Mean number scored on the evidence-based reading and writing portion of SAT per state in 2019.|\n",
    "|math_2019|integer|sat_2019|Mean number scored on the math portion of SAT per state in 2019.|\n",
    "|total_2019|integer|sat_2019|Total score from evidence_based_reading_writing and math in 2019.|\n",
    "\n"
   ]
  },
  {
   "cell_type": "markdown",
   "metadata": {},
   "source": [
    "## Exploratory Data Analysis"
   ]
  },
  {
   "cell_type": "markdown",
   "metadata": {},
   "source": [
    "#### Summary Statistics:"
   ]
  },
  {
   "cell_type": "code",
   "execution_count": 83,
   "metadata": {},
   "outputs": [
    {
     "data": {
      "text/html": [
       "<div>\n",
       "<style scoped>\n",
       "    .dataframe tbody tr th:only-of-type {\n",
       "        vertical-align: middle;\n",
       "    }\n",
       "\n",
       "    .dataframe tbody tr th {\n",
       "        vertical-align: top;\n",
       "    }\n",
       "\n",
       "    .dataframe thead th {\n",
       "        text-align: right;\n",
       "    }\n",
       "</style>\n",
       "<table border=\"1\" class=\"dataframe\">\n",
       "  <thead>\n",
       "    <tr style=\"text-align: right;\">\n",
       "      <th></th>\n",
       "      <th>count</th>\n",
       "      <th>mean</th>\n",
       "      <th>std</th>\n",
       "      <th>min</th>\n",
       "      <th>25%</th>\n",
       "      <th>50%</th>\n",
       "      <th>75%</th>\n",
       "      <th>max</th>\n",
       "    </tr>\n",
       "  </thead>\n",
       "  <tbody>\n",
       "    <tr>\n",
       "      <th>participation_2017</th>\n",
       "      <td>51.0</td>\n",
       "      <td>0.398039</td>\n",
       "      <td>0.352766</td>\n",
       "      <td>0.02</td>\n",
       "      <td>0.040</td>\n",
       "      <td>0.38</td>\n",
       "      <td>0.660</td>\n",
       "      <td>1.0</td>\n",
       "    </tr>\n",
       "    <tr>\n",
       "      <th>evidence_based_reading_writing_2017</th>\n",
       "      <td>51.0</td>\n",
       "      <td>569.117647</td>\n",
       "      <td>45.666901</td>\n",
       "      <td>482.00</td>\n",
       "      <td>533.500</td>\n",
       "      <td>559.00</td>\n",
       "      <td>613.000</td>\n",
       "      <td>644.0</td>\n",
       "    </tr>\n",
       "    <tr>\n",
       "      <th>math_2017</th>\n",
       "      <td>51.0</td>\n",
       "      <td>556.882353</td>\n",
       "      <td>47.121395</td>\n",
       "      <td>468.00</td>\n",
       "      <td>523.500</td>\n",
       "      <td>548.00</td>\n",
       "      <td>599.000</td>\n",
       "      <td>651.0</td>\n",
       "    </tr>\n",
       "    <tr>\n",
       "      <th>total_2017</th>\n",
       "      <td>51.0</td>\n",
       "      <td>1126.098039</td>\n",
       "      <td>92.494812</td>\n",
       "      <td>950.00</td>\n",
       "      <td>1055.500</td>\n",
       "      <td>1107.00</td>\n",
       "      <td>1212.000</td>\n",
       "      <td>1295.0</td>\n",
       "    </tr>\n",
       "    <tr>\n",
       "      <th>participation_2018</th>\n",
       "      <td>51.0</td>\n",
       "      <td>0.457451</td>\n",
       "      <td>0.373143</td>\n",
       "      <td>0.02</td>\n",
       "      <td>0.045</td>\n",
       "      <td>0.52</td>\n",
       "      <td>0.775</td>\n",
       "      <td>1.0</td>\n",
       "    </tr>\n",
       "    <tr>\n",
       "      <th>evidence_based_reading_writing_2018</th>\n",
       "      <td>51.0</td>\n",
       "      <td>563.686275</td>\n",
       "      <td>47.502627</td>\n",
       "      <td>480.00</td>\n",
       "      <td>534.500</td>\n",
       "      <td>552.00</td>\n",
       "      <td>610.500</td>\n",
       "      <td>643.0</td>\n",
       "    </tr>\n",
       "    <tr>\n",
       "      <th>math_2018</th>\n",
       "      <td>51.0</td>\n",
       "      <td>556.235294</td>\n",
       "      <td>47.772623</td>\n",
       "      <td>480.00</td>\n",
       "      <td>522.500</td>\n",
       "      <td>544.00</td>\n",
       "      <td>593.500</td>\n",
       "      <td>655.0</td>\n",
       "    </tr>\n",
       "    <tr>\n",
       "      <th>total_2018</th>\n",
       "      <td>51.0</td>\n",
       "      <td>1120.019608</td>\n",
       "      <td>94.155083</td>\n",
       "      <td>977.00</td>\n",
       "      <td>1057.500</td>\n",
       "      <td>1098.00</td>\n",
       "      <td>1204.000</td>\n",
       "      <td>1298.0</td>\n",
       "    </tr>\n",
       "    <tr>\n",
       "      <th>participation_2019</th>\n",
       "      <td>51.0</td>\n",
       "      <td>0.490588</td>\n",
       "      <td>0.387476</td>\n",
       "      <td>0.02</td>\n",
       "      <td>0.055</td>\n",
       "      <td>0.54</td>\n",
       "      <td>0.820</td>\n",
       "      <td>1.0</td>\n",
       "    </tr>\n",
       "    <tr>\n",
       "      <th>evidence_based_reading_writing_2019</th>\n",
       "      <td>51.0</td>\n",
       "      <td>560.803922</td>\n",
       "      <td>46.248035</td>\n",
       "      <td>483.00</td>\n",
       "      <td>527.500</td>\n",
       "      <td>550.00</td>\n",
       "      <td>612.000</td>\n",
       "      <td>636.0</td>\n",
       "    </tr>\n",
       "    <tr>\n",
       "      <th>math_2019</th>\n",
       "      <td>51.0</td>\n",
       "      <td>552.196078</td>\n",
       "      <td>51.290553</td>\n",
       "      <td>460.00</td>\n",
       "      <td>511.500</td>\n",
       "      <td>546.00</td>\n",
       "      <td>599.000</td>\n",
       "      <td>648.0</td>\n",
       "    </tr>\n",
       "    <tr>\n",
       "      <th>total_2019</th>\n",
       "      <td>51.0</td>\n",
       "      <td>1113.078431</td>\n",
       "      <td>97.197910</td>\n",
       "      <td>943.00</td>\n",
       "      <td>1038.000</td>\n",
       "      <td>1097.00</td>\n",
       "      <td>1210.000</td>\n",
       "      <td>1284.0</td>\n",
       "    </tr>\n",
       "  </tbody>\n",
       "</table>\n",
       "</div>"
      ],
      "text/plain": [
       "                                     count         mean        std     min  \\\n",
       "participation_2017                    51.0     0.398039   0.352766    0.02   \n",
       "evidence_based_reading_writing_2017   51.0   569.117647  45.666901  482.00   \n",
       "math_2017                             51.0   556.882353  47.121395  468.00   \n",
       "total_2017                            51.0  1126.098039  92.494812  950.00   \n",
       "participation_2018                    51.0     0.457451   0.373143    0.02   \n",
       "evidence_based_reading_writing_2018   51.0   563.686275  47.502627  480.00   \n",
       "math_2018                             51.0   556.235294  47.772623  480.00   \n",
       "total_2018                            51.0  1120.019608  94.155083  977.00   \n",
       "participation_2019                    51.0     0.490588   0.387476    0.02   \n",
       "evidence_based_reading_writing_2019   51.0   560.803922  46.248035  483.00   \n",
       "math_2019                             51.0   552.196078  51.290553  460.00   \n",
       "total_2019                            51.0  1113.078431  97.197910  943.00   \n",
       "\n",
       "                                          25%      50%       75%     max  \n",
       "participation_2017                      0.040     0.38     0.660     1.0  \n",
       "evidence_based_reading_writing_2017   533.500   559.00   613.000   644.0  \n",
       "math_2017                             523.500   548.00   599.000   651.0  \n",
       "total_2017                           1055.500  1107.00  1212.000  1295.0  \n",
       "participation_2018                      0.045     0.52     0.775     1.0  \n",
       "evidence_based_reading_writing_2018   534.500   552.00   610.500   643.0  \n",
       "math_2018                             522.500   544.00   593.500   655.0  \n",
       "total_2018                           1057.500  1098.00  1204.000  1298.0  \n",
       "participation_2019                      0.055     0.54     0.820     1.0  \n",
       "evidence_based_reading_writing_2019   527.500   550.00   612.000   636.0  \n",
       "math_2019                             511.500   546.00   599.000   648.0  \n",
       "total_2019                           1038.000  1097.00  1210.000  1284.0  "
      ]
     },
     "execution_count": 83,
     "metadata": {},
     "output_type": "execute_result"
    }
   ],
   "source": [
    "combined_sat_years.describe().T"
   ]
  },
  {
   "cell_type": "markdown",
   "metadata": {},
   "source": [
    "#### Use Dictionary Comprehension to Apply Standard Deviation:"
   ]
  },
  {
   "cell_type": "code",
   "execution_count": 84,
   "metadata": {},
   "outputs": [],
   "source": [
    "# List for the numbered columns in combined_sat_years\n",
    "num_columns = ['participation_2017', 'evidence_based_reading_writing_2017', 'math_2017', 'total_2017',\n",
    "               'participation_2018', 'evidence_based_reading_writing_2018', 'math_2018', 'total_2018',\n",
    "               'participation_2019', 'evidence_based_reading_writing_2019', 'math_2019', 'total_2019',    \n",
    "]"
   ]
  },
  {
   "cell_type": "code",
   "execution_count": 85,
   "metadata": {},
   "outputs": [
    {
     "data": {
      "text/plain": [
       "{'participation_2017': 0.3492907076664507,\n",
       " 'evidence_based_reading_writing_2017': 45.21697020437866,\n",
       " 'math_2017': 46.65713364485503,\n",
       " 'total_2017': 91.58351056778743,\n",
       " 'participation_2018': 0.3694661922353942,\n",
       " 'evidence_based_reading_writing_2018': 47.03460978357609,\n",
       " 'math_2018': 47.30194550378352,\n",
       " 'total_2018': 93.22742384464433,\n",
       " 'participation_2019': 0.3836584048685726,\n",
       " 'evidence_based_reading_writing_2019': 45.792378682545134,\n",
       " 'math_2019': 50.78521461840036,\n",
       " 'total_2019': 96.24027185617864}"
      ]
     },
     "execution_count": 85,
     "metadata": {},
     "output_type": "execute_result"
    }
   ],
   "source": [
    "# Dictionary Comprehension\n",
    "sd = {key: standard_deviation(combined_sat_years[key]) for key in num_columns}\n",
    "sd"
   ]
  },
  {
   "cell_type": "markdown",
   "metadata": {},
   "source": [
    "Assigning `sd` as the variable name, I have made a dictionary where the columns are now keys and the values are the standard deviation.\n",
    "\n",
    "We can see that the calculated standard deviation from the helper function is slightly different than the standard deviation provided by using pandas's .describe(), but are very close."
   ]
  },
  {
   "cell_type": "markdown",
   "metadata": {},
   "source": [
    "#### Investigating Trends:"
   ]
  },
  {
   "cell_type": "markdown",
   "metadata": {},
   "source": [
    "###### Which states have the highest participation rates for the 2017, 2018, and 2019 SAT?"
   ]
  },
  {
   "cell_type": "code",
   "execution_count": 86,
   "metadata": {},
   "outputs": [
    {
     "data": {
      "text/html": [
       "<div>\n",
       "<style scoped>\n",
       "    .dataframe tbody tr th:only-of-type {\n",
       "        vertical-align: middle;\n",
       "    }\n",
       "\n",
       "    .dataframe tbody tr th {\n",
       "        vertical-align: top;\n",
       "    }\n",
       "\n",
       "    .dataframe thead th {\n",
       "        text-align: right;\n",
       "    }\n",
       "</style>\n",
       "<table border=\"1\" class=\"dataframe\">\n",
       "  <thead>\n",
       "    <tr style=\"text-align: right;\">\n",
       "      <th></th>\n",
       "      <th>state</th>\n",
       "      <th>participation_2017</th>\n",
       "    </tr>\n",
       "  </thead>\n",
       "  <tbody>\n",
       "    <tr>\n",
       "      <th>8</th>\n",
       "      <td>District of Columbia</td>\n",
       "      <td>1.00</td>\n",
       "    </tr>\n",
       "    <tr>\n",
       "      <th>22</th>\n",
       "      <td>Michigan</td>\n",
       "      <td>1.00</td>\n",
       "    </tr>\n",
       "    <tr>\n",
       "      <th>6</th>\n",
       "      <td>Connecticut</td>\n",
       "      <td>1.00</td>\n",
       "    </tr>\n",
       "    <tr>\n",
       "      <th>7</th>\n",
       "      <td>Delaware</td>\n",
       "      <td>1.00</td>\n",
       "    </tr>\n",
       "    <tr>\n",
       "      <th>29</th>\n",
       "      <td>New Hampshire</td>\n",
       "      <td>0.96</td>\n",
       "    </tr>\n",
       "  </tbody>\n",
       "</table>\n",
       "</div>"
      ],
      "text/plain": [
       "                   state  participation_2017\n",
       "8   District of Columbia                1.00\n",
       "22              Michigan                1.00\n",
       "6            Connecticut                1.00\n",
       "7               Delaware                1.00\n",
       "29         New Hampshire                0.96"
      ]
     },
     "execution_count": 86,
     "metadata": {},
     "output_type": "execute_result"
    }
   ],
   "source": [
    "# Highest participation rate in 2017\n",
    "high_par_2017 = combined_sat_years[['state', 'participation_2017']].sort_values(by = ['participation_2017'], ascending = False)\n",
    "high_par_2017.head()"
   ]
  },
  {
   "cell_type": "markdown",
   "metadata": {},
   "source": [
    "Highest participation rates in 2017 were in states: District of Columbia, Michigan, Connecticut, and Delaware with participation rates of 100%."
   ]
  },
  {
   "cell_type": "code",
   "execution_count": 87,
   "metadata": {},
   "outputs": [
    {
     "data": {
      "text/html": [
       "<div>\n",
       "<style scoped>\n",
       "    .dataframe tbody tr th:only-of-type {\n",
       "        vertical-align: middle;\n",
       "    }\n",
       "\n",
       "    .dataframe tbody tr th {\n",
       "        vertical-align: top;\n",
       "    }\n",
       "\n",
       "    .dataframe thead th {\n",
       "        text-align: right;\n",
       "    }\n",
       "</style>\n",
       "<table border=\"1\" class=\"dataframe\">\n",
       "  <thead>\n",
       "    <tr style=\"text-align: right;\">\n",
       "      <th></th>\n",
       "      <th>state</th>\n",
       "      <th>participation_2018</th>\n",
       "    </tr>\n",
       "  </thead>\n",
       "  <tbody>\n",
       "    <tr>\n",
       "      <th>5</th>\n",
       "      <td>Colorado</td>\n",
       "      <td>1.0</td>\n",
       "    </tr>\n",
       "    <tr>\n",
       "      <th>6</th>\n",
       "      <td>Connecticut</td>\n",
       "      <td>1.0</td>\n",
       "    </tr>\n",
       "    <tr>\n",
       "      <th>7</th>\n",
       "      <td>Delaware</td>\n",
       "      <td>1.0</td>\n",
       "    </tr>\n",
       "    <tr>\n",
       "      <th>22</th>\n",
       "      <td>Michigan</td>\n",
       "      <td>1.0</td>\n",
       "    </tr>\n",
       "    <tr>\n",
       "      <th>12</th>\n",
       "      <td>Idaho</td>\n",
       "      <td>1.0</td>\n",
       "    </tr>\n",
       "  </tbody>\n",
       "</table>\n",
       "</div>"
      ],
      "text/plain": [
       "          state  participation_2018\n",
       "5      Colorado                 1.0\n",
       "6   Connecticut                 1.0\n",
       "7      Delaware                 1.0\n",
       "22     Michigan                 1.0\n",
       "12        Idaho                 1.0"
      ]
     },
     "execution_count": 87,
     "metadata": {},
     "output_type": "execute_result"
    }
   ],
   "source": [
    "# Highest participation rate in 2018\n",
    "high_par_2018 = combined_sat_years[['state', 'participation_2018']].sort_values(by = ['participation_2018'], ascending = False)\n",
    "high_par_2018.head()"
   ]
  },
  {
   "cell_type": "markdown",
   "metadata": {},
   "source": [
    "Highest participation rates in 2018 were in states: Colorado, Connecticut, Delaware, Michigan and Idaho with participation rates of 100%."
   ]
  },
  {
   "cell_type": "code",
   "execution_count": 114,
   "metadata": {},
   "outputs": [
    {
     "data": {
      "text/html": [
       "<div>\n",
       "<style scoped>\n",
       "    .dataframe tbody tr th:only-of-type {\n",
       "        vertical-align: middle;\n",
       "    }\n",
       "\n",
       "    .dataframe tbody tr th {\n",
       "        vertical-align: top;\n",
       "    }\n",
       "\n",
       "    .dataframe thead th {\n",
       "        text-align: right;\n",
       "    }\n",
       "</style>\n",
       "<table border=\"1\" class=\"dataframe\">\n",
       "  <thead>\n",
       "    <tr style=\"text-align: right;\">\n",
       "      <th></th>\n",
       "      <th>state</th>\n",
       "      <th>participation_2019</th>\n",
       "    </tr>\n",
       "  </thead>\n",
       "  <tbody>\n",
       "    <tr>\n",
       "      <th>39</th>\n",
       "      <td>Rhode Island</td>\n",
       "      <td>1.0</td>\n",
       "    </tr>\n",
       "    <tr>\n",
       "      <th>13</th>\n",
       "      <td>Illinois</td>\n",
       "      <td>1.0</td>\n",
       "    </tr>\n",
       "    <tr>\n",
       "      <th>22</th>\n",
       "      <td>Michigan</td>\n",
       "      <td>1.0</td>\n",
       "    </tr>\n",
       "    <tr>\n",
       "      <th>5</th>\n",
       "      <td>Colorado</td>\n",
       "      <td>1.0</td>\n",
       "    </tr>\n",
       "    <tr>\n",
       "      <th>6</th>\n",
       "      <td>Connecticut</td>\n",
       "      <td>1.0</td>\n",
       "    </tr>\n",
       "  </tbody>\n",
       "</table>\n",
       "</div>"
      ],
      "text/plain": [
       "           state  participation_2019\n",
       "39  Rhode Island                 1.0\n",
       "13      Illinois                 1.0\n",
       "22      Michigan                 1.0\n",
       "5       Colorado                 1.0\n",
       "6    Connecticut                 1.0"
      ]
     },
     "execution_count": 114,
     "metadata": {},
     "output_type": "execute_result"
    }
   ],
   "source": [
    "# Highest participation rate in 2019\n",
    "high_par_2019 = combined_sat_years[['state', 'participation_2019']].sort_values(by = ['participation_2019'], ascending = False)\n",
    "high_par_2019.head(5)"
   ]
  },
  {
   "cell_type": "markdown",
   "metadata": {},
   "source": [
    "Highest participation rates in 2019 were in states: Rhode Island, Illinois, Michigan, Colorado, Conneticut, Delaware, Florida, and Idaho with participation rates of 100%."
   ]
  },
  {
   "cell_type": "markdown",
   "metadata": {},
   "source": [
    "Throughout the years, states with 100% participation rate has gone up. In 2017, District of Columbia, Michigan, Conneticut, and Delaware had 100% participation. In 2018, Colorado and Idaho were included and District of Columbia declined to 92%. In 2019, Rhode Island, Illinois, and Florida were added to the list of 100% participation."
   ]
  },
  {
   "cell_type": "code",
   "execution_count": 89,
   "metadata": {},
   "outputs": [
    {
     "data": {
      "text/html": [
       "<div>\n",
       "<style scoped>\n",
       "    .dataframe tbody tr th:only-of-type {\n",
       "        vertical-align: middle;\n",
       "    }\n",
       "\n",
       "    .dataframe tbody tr th {\n",
       "        vertical-align: top;\n",
       "    }\n",
       "\n",
       "    .dataframe thead th {\n",
       "        text-align: right;\n",
       "    }\n",
       "</style>\n",
       "<table border=\"1\" class=\"dataframe\">\n",
       "  <thead>\n",
       "    <tr style=\"text-align: right;\">\n",
       "      <th></th>\n",
       "      <th>state</th>\n",
       "      <th>participation_2019</th>\n",
       "    </tr>\n",
       "  </thead>\n",
       "  <tbody>\n",
       "    <tr>\n",
       "      <th>39</th>\n",
       "      <td>Rhode Island</td>\n",
       "      <td>1.00</td>\n",
       "    </tr>\n",
       "    <tr>\n",
       "      <th>13</th>\n",
       "      <td>Illinois</td>\n",
       "      <td>1.00</td>\n",
       "    </tr>\n",
       "    <tr>\n",
       "      <th>22</th>\n",
       "      <td>Michigan</td>\n",
       "      <td>1.00</td>\n",
       "    </tr>\n",
       "    <tr>\n",
       "      <th>5</th>\n",
       "      <td>Colorado</td>\n",
       "      <td>1.00</td>\n",
       "    </tr>\n",
       "    <tr>\n",
       "      <th>6</th>\n",
       "      <td>Connecticut</td>\n",
       "      <td>1.00</td>\n",
       "    </tr>\n",
       "    <tr>\n",
       "      <th>7</th>\n",
       "      <td>Delaware</td>\n",
       "      <td>1.00</td>\n",
       "    </tr>\n",
       "    <tr>\n",
       "      <th>9</th>\n",
       "      <td>Florida</td>\n",
       "      <td>1.00</td>\n",
       "    </tr>\n",
       "    <tr>\n",
       "      <th>12</th>\n",
       "      <td>Idaho</td>\n",
       "      <td>1.00</td>\n",
       "    </tr>\n",
       "    <tr>\n",
       "      <th>19</th>\n",
       "      <td>Maine</td>\n",
       "      <td>0.99</td>\n",
       "    </tr>\n",
       "    <tr>\n",
       "      <th>48</th>\n",
       "      <td>West Virginia</td>\n",
       "      <td>0.99</td>\n",
       "    </tr>\n",
       "  </tbody>\n",
       "</table>\n",
       "</div>"
      ],
      "text/plain": [
       "            state  participation_2019\n",
       "39   Rhode Island                1.00\n",
       "13       Illinois                1.00\n",
       "22       Michigan                1.00\n",
       "5        Colorado                1.00\n",
       "6     Connecticut                1.00\n",
       "7        Delaware                1.00\n",
       "9         Florida                1.00\n",
       "12          Idaho                1.00\n",
       "19          Maine                0.99\n",
       "48  West Virginia                0.99"
      ]
     },
     "execution_count": 89,
     "metadata": {},
     "output_type": "execute_result"
    }
   ],
   "source": [
    "# Shows combined states that are 100% participation (2017-2019)\n",
    "combined_high_par = high_par_2019[high_par_2019['state'].isin(high_par_2018['state'])]\n",
    "combined_high_par.head(10)"
   ]
  },
  {
   "cell_type": "markdown",
   "metadata": {},
   "source": [
    "All states from 2017-2019 that had 100% participation rates."
   ]
  },
  {
   "cell_type": "markdown",
   "metadata": {},
   "source": [
    "###### Which states have the lowest participation rates for the 2017, 2018, and 2019 SAT?"
   ]
  },
  {
   "cell_type": "code",
   "execution_count": 90,
   "metadata": {},
   "outputs": [
    {
     "data": {
      "text/html": [
       "<div>\n",
       "<style scoped>\n",
       "    .dataframe tbody tr th:only-of-type {\n",
       "        vertical-align: middle;\n",
       "    }\n",
       "\n",
       "    .dataframe tbody tr th {\n",
       "        vertical-align: top;\n",
       "    }\n",
       "\n",
       "    .dataframe thead th {\n",
       "        text-align: right;\n",
       "    }\n",
       "</style>\n",
       "<table border=\"1\" class=\"dataframe\">\n",
       "  <thead>\n",
       "    <tr style=\"text-align: right;\">\n",
       "      <th></th>\n",
       "      <th>state</th>\n",
       "      <th>participation_2017</th>\n",
       "    </tr>\n",
       "  </thead>\n",
       "  <tbody>\n",
       "    <tr>\n",
       "      <th>34</th>\n",
       "      <td>North Dakota</td>\n",
       "      <td>0.02</td>\n",
       "    </tr>\n",
       "    <tr>\n",
       "      <th>24</th>\n",
       "      <td>Mississippi</td>\n",
       "      <td>0.02</td>\n",
       "    </tr>\n",
       "    <tr>\n",
       "      <th>15</th>\n",
       "      <td>Iowa</td>\n",
       "      <td>0.02</td>\n",
       "    </tr>\n",
       "    <tr>\n",
       "      <th>25</th>\n",
       "      <td>Missouri</td>\n",
       "      <td>0.03</td>\n",
       "    </tr>\n",
       "    <tr>\n",
       "      <th>44</th>\n",
       "      <td>Utah</td>\n",
       "      <td>0.03</td>\n",
       "    </tr>\n",
       "  </tbody>\n",
       "</table>\n",
       "</div>"
      ],
      "text/plain": [
       "           state  participation_2017\n",
       "34  North Dakota                0.02\n",
       "24   Mississippi                0.02\n",
       "15          Iowa                0.02\n",
       "25      Missouri                0.03\n",
       "44          Utah                0.03"
      ]
     },
     "execution_count": 90,
     "metadata": {},
     "output_type": "execute_result"
    }
   ],
   "source": [
    "# Lowest participation rates in 2017\n",
    "low_par_2017 = combined_sat_years[['state', 'participation_2017']].sort_values(by = ['participation_2017'])\n",
    "low_par_2017.head()"
   ]
  },
  {
   "cell_type": "markdown",
   "metadata": {},
   "source": [
    "Lowest participation rates in 2017 were in states: North Dakota, Mississippi, and Iowa with participation rates of 2%."
   ]
  },
  {
   "cell_type": "code",
   "execution_count": 91,
   "metadata": {},
   "outputs": [
    {
     "data": {
      "text/html": [
       "<div>\n",
       "<style scoped>\n",
       "    .dataframe tbody tr th:only-of-type {\n",
       "        vertical-align: middle;\n",
       "    }\n",
       "\n",
       "    .dataframe tbody tr th {\n",
       "        vertical-align: top;\n",
       "    }\n",
       "\n",
       "    .dataframe thead th {\n",
       "        text-align: right;\n",
       "    }\n",
       "</style>\n",
       "<table border=\"1\" class=\"dataframe\">\n",
       "  <thead>\n",
       "    <tr style=\"text-align: right;\">\n",
       "      <th></th>\n",
       "      <th>state</th>\n",
       "      <th>participation_2018</th>\n",
       "    </tr>\n",
       "  </thead>\n",
       "  <tbody>\n",
       "    <tr>\n",
       "      <th>34</th>\n",
       "      <td>North Dakota</td>\n",
       "      <td>0.02</td>\n",
       "    </tr>\n",
       "    <tr>\n",
       "      <th>50</th>\n",
       "      <td>Wyoming</td>\n",
       "      <td>0.03</td>\n",
       "    </tr>\n",
       "    <tr>\n",
       "      <th>41</th>\n",
       "      <td>South Dakota</td>\n",
       "      <td>0.03</td>\n",
       "    </tr>\n",
       "    <tr>\n",
       "      <th>27</th>\n",
       "      <td>Nebraska</td>\n",
       "      <td>0.03</td>\n",
       "    </tr>\n",
       "    <tr>\n",
       "      <th>49</th>\n",
       "      <td>Wisconsin</td>\n",
       "      <td>0.03</td>\n",
       "    </tr>\n",
       "    <tr>\n",
       "      <th>24</th>\n",
       "      <td>Mississippi</td>\n",
       "      <td>0.03</td>\n",
       "    </tr>\n",
       "    <tr>\n",
       "      <th>15</th>\n",
       "      <td>Iowa</td>\n",
       "      <td>0.03</td>\n",
       "    </tr>\n",
       "    <tr>\n",
       "      <th>44</th>\n",
       "      <td>Utah</td>\n",
       "      <td>0.04</td>\n",
       "    </tr>\n",
       "    <tr>\n",
       "      <th>23</th>\n",
       "      <td>Minnesota</td>\n",
       "      <td>0.04</td>\n",
       "    </tr>\n",
       "    <tr>\n",
       "      <th>18</th>\n",
       "      <td>Louisiana</td>\n",
       "      <td>0.04</td>\n",
       "    </tr>\n",
       "  </tbody>\n",
       "</table>\n",
       "</div>"
      ],
      "text/plain": [
       "           state  participation_2018\n",
       "34  North Dakota                0.02\n",
       "50       Wyoming                0.03\n",
       "41  South Dakota                0.03\n",
       "27      Nebraska                0.03\n",
       "49     Wisconsin                0.03\n",
       "24   Mississippi                0.03\n",
       "15          Iowa                0.03\n",
       "44          Utah                0.04\n",
       "23     Minnesota                0.04\n",
       "18     Louisiana                0.04"
      ]
     },
     "execution_count": 91,
     "metadata": {},
     "output_type": "execute_result"
    }
   ],
   "source": [
    "# Lowest participation rates in 2018\n",
    "low_par_2018 = combined_sat_years[['state', 'participation_2018']].sort_values(by = ['participation_2018'])\n",
    "low_par_2018.head(10)"
   ]
  },
  {
   "cell_type": "markdown",
   "metadata": {},
   "source": [
    "Lowest participation rates in 2018 were in states: North Dakota (2%), Wyoming, South Dakota, Nebraska, Wisconsin, Mississippi, and Iowa with participation rates of 3%."
   ]
  },
  {
   "cell_type": "code",
   "execution_count": 92,
   "metadata": {},
   "outputs": [
    {
     "data": {
      "text/html": [
       "<div>\n",
       "<style scoped>\n",
       "    .dataframe tbody tr th:only-of-type {\n",
       "        vertical-align: middle;\n",
       "    }\n",
       "\n",
       "    .dataframe tbody tr th {\n",
       "        vertical-align: top;\n",
       "    }\n",
       "\n",
       "    .dataframe thead th {\n",
       "        text-align: right;\n",
       "    }\n",
       "</style>\n",
       "<table border=\"1\" class=\"dataframe\">\n",
       "  <thead>\n",
       "    <tr style=\"text-align: right;\">\n",
       "      <th></th>\n",
       "      <th>state</th>\n",
       "      <th>participation_2019</th>\n",
       "    </tr>\n",
       "  </thead>\n",
       "  <tbody>\n",
       "    <tr>\n",
       "      <th>34</th>\n",
       "      <td>North Dakota</td>\n",
       "      <td>0.02</td>\n",
       "    </tr>\n",
       "    <tr>\n",
       "      <th>50</th>\n",
       "      <td>Wyoming</td>\n",
       "      <td>0.03</td>\n",
       "    </tr>\n",
       "    <tr>\n",
       "      <th>41</th>\n",
       "      <td>South Dakota</td>\n",
       "      <td>0.03</td>\n",
       "    </tr>\n",
       "    <tr>\n",
       "      <th>27</th>\n",
       "      <td>Nebraska</td>\n",
       "      <td>0.03</td>\n",
       "    </tr>\n",
       "    <tr>\n",
       "      <th>49</th>\n",
       "      <td>Wisconsin</td>\n",
       "      <td>0.03</td>\n",
       "    </tr>\n",
       "    <tr>\n",
       "      <th>24</th>\n",
       "      <td>Mississippi</td>\n",
       "      <td>0.03</td>\n",
       "    </tr>\n",
       "    <tr>\n",
       "      <th>15</th>\n",
       "      <td>Iowa</td>\n",
       "      <td>0.03</td>\n",
       "    </tr>\n",
       "    <tr>\n",
       "      <th>44</th>\n",
       "      <td>Utah</td>\n",
       "      <td>0.04</td>\n",
       "    </tr>\n",
       "    <tr>\n",
       "      <th>23</th>\n",
       "      <td>Minnesota</td>\n",
       "      <td>0.04</td>\n",
       "    </tr>\n",
       "    <tr>\n",
       "      <th>17</th>\n",
       "      <td>Kentucky</td>\n",
       "      <td>0.04</td>\n",
       "    </tr>\n",
       "  </tbody>\n",
       "</table>\n",
       "</div>"
      ],
      "text/plain": [
       "           state  participation_2019\n",
       "34  North Dakota                0.02\n",
       "50       Wyoming                0.03\n",
       "41  South Dakota                0.03\n",
       "27      Nebraska                0.03\n",
       "49     Wisconsin                0.03\n",
       "24   Mississippi                0.03\n",
       "15          Iowa                0.03\n",
       "44          Utah                0.04\n",
       "23     Minnesota                0.04\n",
       "17      Kentucky                0.04"
      ]
     },
     "execution_count": 92,
     "metadata": {},
     "output_type": "execute_result"
    }
   ],
   "source": [
    "# Lowest participation rates in 2019\n",
    "low_par_2019 = combined_sat_years[['state', 'participation_2019']].sort_values(by = ['participation_2019'])\n",
    "low_par_2019.head(10)"
   ]
  },
  {
   "cell_type": "markdown",
   "metadata": {},
   "source": [
    "Lowest participation rates in 2019 stayed the same as the lowest participation rates stated above for 2018."
   ]
  },
  {
   "cell_type": "markdown",
   "metadata": {},
   "source": [
    "Looking at the 5 lowest states, the states with the lowest participation rates in 2017, 2018, and 2019 vary within the year. North Dakota shows the lowest participation in all 3 years while Mississippi, Iowa, Missouri, Utah, Wyoming, South Dakota, Nebraska, and Wisconsin all rank 4% or lower within the 3 years."
   ]
  },
  {
   "cell_type": "markdown",
   "metadata": {},
   "source": [
    "###### Which states have the highest mean total scores for the 2017, 2018, and 2019 SAT?"
   ]
  },
  {
   "cell_type": "code",
   "execution_count": 93,
   "metadata": {},
   "outputs": [
    {
     "data": {
      "text/html": [
       "<div>\n",
       "<style scoped>\n",
       "    .dataframe tbody tr th:only-of-type {\n",
       "        vertical-align: middle;\n",
       "    }\n",
       "\n",
       "    .dataframe tbody tr th {\n",
       "        vertical-align: top;\n",
       "    }\n",
       "\n",
       "    .dataframe thead th {\n",
       "        text-align: right;\n",
       "    }\n",
       "</style>\n",
       "<table border=\"1\" class=\"dataframe\">\n",
       "  <thead>\n",
       "    <tr style=\"text-align: right;\">\n",
       "      <th></th>\n",
       "      <th>state</th>\n",
       "      <th>total_2017</th>\n",
       "    </tr>\n",
       "  </thead>\n",
       "  <tbody>\n",
       "    <tr>\n",
       "      <th>23</th>\n",
       "      <td>Minnesota</td>\n",
       "      <td>1295</td>\n",
       "    </tr>\n",
       "    <tr>\n",
       "      <th>49</th>\n",
       "      <td>Wisconsin</td>\n",
       "      <td>1291</td>\n",
       "    </tr>\n",
       "    <tr>\n",
       "      <th>15</th>\n",
       "      <td>Iowa</td>\n",
       "      <td>1275</td>\n",
       "    </tr>\n",
       "    <tr>\n",
       "      <th>25</th>\n",
       "      <td>Missouri</td>\n",
       "      <td>1271</td>\n",
       "    </tr>\n",
       "    <tr>\n",
       "      <th>16</th>\n",
       "      <td>Kansas</td>\n",
       "      <td>1260</td>\n",
       "    </tr>\n",
       "    <tr>\n",
       "      <th>34</th>\n",
       "      <td>North Dakota</td>\n",
       "      <td>1256</td>\n",
       "    </tr>\n",
       "    <tr>\n",
       "      <th>27</th>\n",
       "      <td>Nebraska</td>\n",
       "      <td>1253</td>\n",
       "    </tr>\n",
       "    <tr>\n",
       "      <th>17</th>\n",
       "      <td>Kentucky</td>\n",
       "      <td>1247</td>\n",
       "    </tr>\n",
       "    <tr>\n",
       "      <th>24</th>\n",
       "      <td>Mississippi</td>\n",
       "      <td>1242</td>\n",
       "    </tr>\n",
       "    <tr>\n",
       "      <th>44</th>\n",
       "      <td>Utah</td>\n",
       "      <td>1238</td>\n",
       "    </tr>\n",
       "    <tr>\n",
       "      <th>50</th>\n",
       "      <td>Wyoming</td>\n",
       "      <td>1230</td>\n",
       "    </tr>\n",
       "    <tr>\n",
       "      <th>42</th>\n",
       "      <td>Tennessee</td>\n",
       "      <td>1228</td>\n",
       "    </tr>\n",
       "    <tr>\n",
       "      <th>41</th>\n",
       "      <td>South Dakota</td>\n",
       "      <td>1216</td>\n",
       "    </tr>\n",
       "    <tr>\n",
       "      <th>3</th>\n",
       "      <td>Arkansas</td>\n",
       "      <td>1208</td>\n",
       "    </tr>\n",
       "    <tr>\n",
       "      <th>5</th>\n",
       "      <td>Colorado</td>\n",
       "      <td>1201</td>\n",
       "    </tr>\n",
       "  </tbody>\n",
       "</table>\n",
       "</div>"
      ],
      "text/plain": [
       "           state  total_2017\n",
       "23     Minnesota        1295\n",
       "49     Wisconsin        1291\n",
       "15          Iowa        1275\n",
       "25      Missouri        1271\n",
       "16        Kansas        1260\n",
       "34  North Dakota        1256\n",
       "27      Nebraska        1253\n",
       "17      Kentucky        1247\n",
       "24   Mississippi        1242\n",
       "44          Utah        1238\n",
       "50       Wyoming        1230\n",
       "42     Tennessee        1228\n",
       "41  South Dakota        1216\n",
       "3       Arkansas        1208\n",
       "5       Colorado        1201"
      ]
     },
     "execution_count": 93,
     "metadata": {},
     "output_type": "execute_result"
    }
   ],
   "source": [
    "# Highest mean total score for 2017\n",
    "high_mtotal_2017 = combined_sat_years[['state', 'total_2017']].sort_values(by = ['total_2017'], ascending = False)\n",
    "high_mtotal_2017.head(15)"
   ]
  },
  {
   "cell_type": "markdown",
   "metadata": {},
   "source": [
    "Highest mean total score for 2017 was 1295 in Minnesota."
   ]
  },
  {
   "cell_type": "code",
   "execution_count": 94,
   "metadata": {},
   "outputs": [
    {
     "data": {
      "text/html": [
       "<div>\n",
       "<style scoped>\n",
       "    .dataframe tbody tr th:only-of-type {\n",
       "        vertical-align: middle;\n",
       "    }\n",
       "\n",
       "    .dataframe tbody tr th {\n",
       "        vertical-align: top;\n",
       "    }\n",
       "\n",
       "    .dataframe thead th {\n",
       "        text-align: right;\n",
       "    }\n",
       "</style>\n",
       "<table border=\"1\" class=\"dataframe\">\n",
       "  <thead>\n",
       "    <tr style=\"text-align: right;\">\n",
       "      <th></th>\n",
       "      <th>state</th>\n",
       "      <th>total_2018</th>\n",
       "    </tr>\n",
       "  </thead>\n",
       "  <tbody>\n",
       "    <tr>\n",
       "      <th>23</th>\n",
       "      <td>Minnesota</td>\n",
       "      <td>1298</td>\n",
       "    </tr>\n",
       "    <tr>\n",
       "      <th>49</th>\n",
       "      <td>Wisconsin</td>\n",
       "      <td>1294</td>\n",
       "    </tr>\n",
       "    <tr>\n",
       "      <th>34</th>\n",
       "      <td>North Dakota</td>\n",
       "      <td>1283</td>\n",
       "    </tr>\n",
       "    <tr>\n",
       "      <th>15</th>\n",
       "      <td>Iowa</td>\n",
       "      <td>1265</td>\n",
       "    </tr>\n",
       "    <tr>\n",
       "      <th>16</th>\n",
       "      <td>Kansas</td>\n",
       "      <td>1265</td>\n",
       "    </tr>\n",
       "  </tbody>\n",
       "</table>\n",
       "</div>"
      ],
      "text/plain": [
       "           state  total_2018\n",
       "23     Minnesota        1298\n",
       "49     Wisconsin        1294\n",
       "34  North Dakota        1283\n",
       "15          Iowa        1265\n",
       "16        Kansas        1265"
      ]
     },
     "execution_count": 94,
     "metadata": {},
     "output_type": "execute_result"
    }
   ],
   "source": [
    "# Highest mean total score for 2018\n",
    "high_mtotal_2018 = combined_sat_years[['state', 'total_2018']].sort_values(by = ['total_2018'], ascending = False)\n",
    "high_mtotal_2018.head()"
   ]
  },
  {
   "cell_type": "markdown",
   "metadata": {},
   "source": [
    "Highest mean total score for 2018 was 1298 in Minnesota."
   ]
  },
  {
   "cell_type": "code",
   "execution_count": 95,
   "metadata": {},
   "outputs": [
    {
     "data": {
      "text/html": [
       "<div>\n",
       "<style scoped>\n",
       "    .dataframe tbody tr th:only-of-type {\n",
       "        vertical-align: middle;\n",
       "    }\n",
       "\n",
       "    .dataframe tbody tr th {\n",
       "        vertical-align: top;\n",
       "    }\n",
       "\n",
       "    .dataframe thead th {\n",
       "        text-align: right;\n",
       "    }\n",
       "</style>\n",
       "<table border=\"1\" class=\"dataframe\">\n",
       "  <thead>\n",
       "    <tr style=\"text-align: right;\">\n",
       "      <th></th>\n",
       "      <th>state</th>\n",
       "      <th>total_2019</th>\n",
       "    </tr>\n",
       "  </thead>\n",
       "  <tbody>\n",
       "    <tr>\n",
       "      <th>23</th>\n",
       "      <td>Minnesota</td>\n",
       "      <td>1284</td>\n",
       "    </tr>\n",
       "    <tr>\n",
       "      <th>49</th>\n",
       "      <td>Wisconsin</td>\n",
       "      <td>1283</td>\n",
       "    </tr>\n",
       "    <tr>\n",
       "      <th>41</th>\n",
       "      <td>South Dakota</td>\n",
       "      <td>1268</td>\n",
       "    </tr>\n",
       "    <tr>\n",
       "      <th>34</th>\n",
       "      <td>North Dakota</td>\n",
       "      <td>1263</td>\n",
       "    </tr>\n",
       "    <tr>\n",
       "      <th>27</th>\n",
       "      <td>Nebraska</td>\n",
       "      <td>1260</td>\n",
       "    </tr>\n",
       "  </tbody>\n",
       "</table>\n",
       "</div>"
      ],
      "text/plain": [
       "           state  total_2019\n",
       "23     Minnesota        1284\n",
       "49     Wisconsin        1283\n",
       "41  South Dakota        1268\n",
       "34  North Dakota        1263\n",
       "27      Nebraska        1260"
      ]
     },
     "execution_count": 95,
     "metadata": {},
     "output_type": "execute_result"
    }
   ],
   "source": [
    "# Highest mean total score for 2019\n",
    "high_mtotal_2019 = combined_sat_years[['state', 'total_2019']].sort_values(by = ['total_2019'], ascending = False)\n",
    "high_mtotal_2019.head()"
   ]
  },
  {
   "cell_type": "markdown",
   "metadata": {},
   "source": [
    "Highest mean total score for 2018 was 1284 in Minnesota."
   ]
  },
  {
   "cell_type": "markdown",
   "metadata": {},
   "source": [
    "Highest mean total score for all 3 years is Minnesota. The 2017 mean total score is 1242, 1298 in 2018, and 1284 in 2019."
   ]
  },
  {
   "cell_type": "markdown",
   "metadata": {},
   "source": [
    "###### Which states have the lowest mean total scores for the 2017, 2018, and 2019 SAT?"
   ]
  },
  {
   "cell_type": "code",
   "execution_count": 96,
   "metadata": {},
   "outputs": [
    {
     "data": {
      "text/html": [
       "<div>\n",
       "<style scoped>\n",
       "    .dataframe tbody tr th:only-of-type {\n",
       "        vertical-align: middle;\n",
       "    }\n",
       "\n",
       "    .dataframe tbody tr th {\n",
       "        vertical-align: top;\n",
       "    }\n",
       "\n",
       "    .dataframe thead th {\n",
       "        text-align: right;\n",
       "    }\n",
       "</style>\n",
       "<table border=\"1\" class=\"dataframe\">\n",
       "  <thead>\n",
       "    <tr style=\"text-align: right;\">\n",
       "      <th></th>\n",
       "      <th>state</th>\n",
       "      <th>total_2017</th>\n",
       "    </tr>\n",
       "  </thead>\n",
       "  <tbody>\n",
       "    <tr>\n",
       "      <th>8</th>\n",
       "      <td>District of Columbia</td>\n",
       "      <td>950</td>\n",
       "    </tr>\n",
       "    <tr>\n",
       "      <th>7</th>\n",
       "      <td>Delaware</td>\n",
       "      <td>996</td>\n",
       "    </tr>\n",
       "    <tr>\n",
       "      <th>12</th>\n",
       "      <td>Idaho</td>\n",
       "      <td>1005</td>\n",
       "    </tr>\n",
       "    <tr>\n",
       "      <th>22</th>\n",
       "      <td>Michigan</td>\n",
       "      <td>1005</td>\n",
       "    </tr>\n",
       "    <tr>\n",
       "      <th>19</th>\n",
       "      <td>Maine</td>\n",
       "      <td>1012</td>\n",
       "    </tr>\n",
       "    <tr>\n",
       "      <th>9</th>\n",
       "      <td>Florida</td>\n",
       "      <td>1017</td>\n",
       "    </tr>\n",
       "    <tr>\n",
       "      <th>43</th>\n",
       "      <td>Texas</td>\n",
       "      <td>1020</td>\n",
       "    </tr>\n",
       "    <tr>\n",
       "      <th>6</th>\n",
       "      <td>Connecticut</td>\n",
       "      <td>1041</td>\n",
       "    </tr>\n",
       "    <tr>\n",
       "      <th>36</th>\n",
       "      <td>Oklahoma</td>\n",
       "      <td>1047</td>\n",
       "    </tr>\n",
       "    <tr>\n",
       "      <th>10</th>\n",
       "      <td>Georgia</td>\n",
       "      <td>1050</td>\n",
       "    </tr>\n",
       "  </tbody>\n",
       "</table>\n",
       "</div>"
      ],
      "text/plain": [
       "                   state  total_2017\n",
       "8   District of Columbia         950\n",
       "7               Delaware         996\n",
       "12                 Idaho        1005\n",
       "22              Michigan        1005\n",
       "19                 Maine        1012\n",
       "9                Florida        1017\n",
       "43                 Texas        1020\n",
       "6            Connecticut        1041\n",
       "36              Oklahoma        1047\n",
       "10               Georgia        1050"
      ]
     },
     "execution_count": 96,
     "metadata": {},
     "output_type": "execute_result"
    }
   ],
   "source": [
    "# Lowest mean total score for 2017\n",
    "low_mtotal_2017 = combined_sat_years[['state', 'total_2017']].sort_values(by = ['total_2017'])\n",
    "low_mtotal_2017.head(10)"
   ]
  },
  {
   "cell_type": "markdown",
   "metadata": {},
   "source": [
    "Lowest mean total score for 2017 was 950 in District of Columbia."
   ]
  },
  {
   "cell_type": "code",
   "execution_count": 97,
   "metadata": {},
   "outputs": [
    {
     "data": {
      "text/html": [
       "<div>\n",
       "<style scoped>\n",
       "    .dataframe tbody tr th:only-of-type {\n",
       "        vertical-align: middle;\n",
       "    }\n",
       "\n",
       "    .dataframe tbody tr th {\n",
       "        vertical-align: top;\n",
       "    }\n",
       "\n",
       "    .dataframe thead th {\n",
       "        text-align: right;\n",
       "    }\n",
       "</style>\n",
       "<table border=\"1\" class=\"dataframe\">\n",
       "  <thead>\n",
       "    <tr style=\"text-align: right;\">\n",
       "      <th></th>\n",
       "      <th>state</th>\n",
       "      <th>total_2018</th>\n",
       "    </tr>\n",
       "  </thead>\n",
       "  <tbody>\n",
       "    <tr>\n",
       "      <th>8</th>\n",
       "      <td>District of Columbia</td>\n",
       "      <td>977</td>\n",
       "    </tr>\n",
       "    <tr>\n",
       "      <th>7</th>\n",
       "      <td>Delaware</td>\n",
       "      <td>998</td>\n",
       "    </tr>\n",
       "    <tr>\n",
       "      <th>48</th>\n",
       "      <td>West Virginia</td>\n",
       "      <td>999</td>\n",
       "    </tr>\n",
       "    <tr>\n",
       "      <th>12</th>\n",
       "      <td>Idaho</td>\n",
       "      <td>1001</td>\n",
       "    </tr>\n",
       "    <tr>\n",
       "      <th>44</th>\n",
       "      <td>Utah</td>\n",
       "      <td>1010</td>\n",
       "    </tr>\n",
       "    <tr>\n",
       "      <th>11</th>\n",
       "      <td>Hawaii</td>\n",
       "      <td>1010</td>\n",
       "    </tr>\n",
       "    <tr>\n",
       "      <th>22</th>\n",
       "      <td>Michigan</td>\n",
       "      <td>1011</td>\n",
       "    </tr>\n",
       "    <tr>\n",
       "      <th>19</th>\n",
       "      <td>Maine</td>\n",
       "      <td>1013</td>\n",
       "    </tr>\n",
       "    <tr>\n",
       "      <th>39</th>\n",
       "      <td>Rhode Island</td>\n",
       "      <td>1018</td>\n",
       "    </tr>\n",
       "    <tr>\n",
       "      <th>13</th>\n",
       "      <td>Illinois</td>\n",
       "      <td>1019</td>\n",
       "    </tr>\n",
       "    <tr>\n",
       "      <th>5</th>\n",
       "      <td>Colorado</td>\n",
       "      <td>1025</td>\n",
       "    </tr>\n",
       "    <tr>\n",
       "      <th>43</th>\n",
       "      <td>Texas</td>\n",
       "      <td>1032</td>\n",
       "    </tr>\n",
       "    <tr>\n",
       "      <th>6</th>\n",
       "      <td>Connecticut</td>\n",
       "      <td>1053</td>\n",
       "    </tr>\n",
       "    <tr>\n",
       "      <th>36</th>\n",
       "      <td>Oklahoma</td>\n",
       "      <td>1062</td>\n",
       "    </tr>\n",
       "    <tr>\n",
       "      <th>29</th>\n",
       "      <td>New Hampshire</td>\n",
       "      <td>1063</td>\n",
       "    </tr>\n",
       "  </tbody>\n",
       "</table>\n",
       "</div>"
      ],
      "text/plain": [
       "                   state  total_2018\n",
       "8   District of Columbia         977\n",
       "7               Delaware         998\n",
       "48         West Virginia         999\n",
       "12                 Idaho        1001\n",
       "44                  Utah        1010\n",
       "11                Hawaii        1010\n",
       "22              Michigan        1011\n",
       "19                 Maine        1013\n",
       "39          Rhode Island        1018\n",
       "13              Illinois        1019\n",
       "5               Colorado        1025\n",
       "43                 Texas        1032\n",
       "6            Connecticut        1053\n",
       "36              Oklahoma        1062\n",
       "29         New Hampshire        1063"
      ]
     },
     "execution_count": 97,
     "metadata": {},
     "output_type": "execute_result"
    }
   ],
   "source": [
    "# Lowest mean total score for 2018\n",
    "low_mtotal_2018 = combined_sat_years[['state', 'total_2018']].sort_values(by = ['total_2018'])\n",
    "low_mtotal_2018.head(15)"
   ]
  },
  {
   "cell_type": "markdown",
   "metadata": {},
   "source": [
    "Lowest mean total score for 2018 was 977 in District of Columbia."
   ]
  },
  {
   "cell_type": "code",
   "execution_count": 98,
   "metadata": {},
   "outputs": [
    {
     "data": {
      "text/html": [
       "<div>\n",
       "<style scoped>\n",
       "    .dataframe tbody tr th:only-of-type {\n",
       "        vertical-align: middle;\n",
       "    }\n",
       "\n",
       "    .dataframe tbody tr th {\n",
       "        vertical-align: top;\n",
       "    }\n",
       "\n",
       "    .dataframe thead th {\n",
       "        text-align: right;\n",
       "    }\n",
       "</style>\n",
       "<table border=\"1\" class=\"dataframe\">\n",
       "  <thead>\n",
       "    <tr style=\"text-align: right;\">\n",
       "      <th></th>\n",
       "      <th>state</th>\n",
       "      <th>total_2019</th>\n",
       "    </tr>\n",
       "  </thead>\n",
       "  <tbody>\n",
       "    <tr>\n",
       "      <th>48</th>\n",
       "      <td>West Virginia</td>\n",
       "      <td>943</td>\n",
       "    </tr>\n",
       "    <tr>\n",
       "      <th>36</th>\n",
       "      <td>Oklahoma</td>\n",
       "      <td>963</td>\n",
       "    </tr>\n",
       "    <tr>\n",
       "      <th>8</th>\n",
       "      <td>District of Columbia</td>\n",
       "      <td>975</td>\n",
       "    </tr>\n",
       "    <tr>\n",
       "      <th>7</th>\n",
       "      <td>Delaware</td>\n",
       "      <td>985</td>\n",
       "    </tr>\n",
       "    <tr>\n",
       "      <th>12</th>\n",
       "      <td>Idaho</td>\n",
       "      <td>993</td>\n",
       "    </tr>\n",
       "    <tr>\n",
       "      <th>39</th>\n",
       "      <td>Rhode Island</td>\n",
       "      <td>995</td>\n",
       "    </tr>\n",
       "    <tr>\n",
       "      <th>9</th>\n",
       "      <td>Florida</td>\n",
       "      <td>999</td>\n",
       "    </tr>\n",
       "    <tr>\n",
       "      <th>22</th>\n",
       "      <td>Michigan</td>\n",
       "      <td>1003</td>\n",
       "    </tr>\n",
       "    <tr>\n",
       "      <th>19</th>\n",
       "      <td>Maine</td>\n",
       "      <td>1013</td>\n",
       "    </tr>\n",
       "    <tr>\n",
       "      <th>13</th>\n",
       "      <td>Illinois</td>\n",
       "      <td>1013</td>\n",
       "    </tr>\n",
       "    <tr>\n",
       "      <th>43</th>\n",
       "      <td>Texas</td>\n",
       "      <td>1022</td>\n",
       "    </tr>\n",
       "    <tr>\n",
       "      <th>5</th>\n",
       "      <td>Colorado</td>\n",
       "      <td>1024</td>\n",
       "    </tr>\n",
       "    <tr>\n",
       "      <th>40</th>\n",
       "      <td>South Carolina</td>\n",
       "      <td>1030</td>\n",
       "    </tr>\n",
       "    <tr>\n",
       "      <th>6</th>\n",
       "      <td>Connecticut</td>\n",
       "      <td>1046</td>\n",
       "    </tr>\n",
       "    <tr>\n",
       "      <th>20</th>\n",
       "      <td>Maryland</td>\n",
       "      <td>1058</td>\n",
       "    </tr>\n",
       "  </tbody>\n",
       "</table>\n",
       "</div>"
      ],
      "text/plain": [
       "                   state  total_2019\n",
       "48         West Virginia         943\n",
       "36              Oklahoma         963\n",
       "8   District of Columbia         975\n",
       "7               Delaware         985\n",
       "12                 Idaho         993\n",
       "39          Rhode Island         995\n",
       "9                Florida         999\n",
       "22              Michigan        1003\n",
       "19                 Maine        1013\n",
       "13              Illinois        1013\n",
       "43                 Texas        1022\n",
       "5               Colorado        1024\n",
       "40        South Carolina        1030\n",
       "6            Connecticut        1046\n",
       "20              Maryland        1058"
      ]
     },
     "execution_count": 98,
     "metadata": {},
     "output_type": "execute_result"
    }
   ],
   "source": [
    "# Lowest mean total score for 2019\n",
    "low_mtotal_2019 = combined_sat_years[['state', 'total_2019']].sort_values(by = ['total_2019'])\n",
    "low_mtotal_2019.head(15)"
   ]
  },
  {
   "cell_type": "markdown",
   "metadata": {},
   "source": [
    "Lowest mean total score for 2019 was 943 in District of Columbia."
   ]
  },
  {
   "cell_type": "markdown",
   "metadata": {},
   "source": [
    "In 2017 and 2018, District of Columbia and Delaware had the lowest mean total score. In 2019, West Virgina and Oklahoma ranked the 2 lowest total mean score."
   ]
  },
  {
   "cell_type": "code",
   "execution_count": 99,
   "metadata": {},
   "outputs": [
    {
     "data": {
      "text/html": [
       "<div>\n",
       "<style scoped>\n",
       "    .dataframe tbody tr th:only-of-type {\n",
       "        vertical-align: middle;\n",
       "    }\n",
       "\n",
       "    .dataframe tbody tr th {\n",
       "        vertical-align: top;\n",
       "    }\n",
       "\n",
       "    .dataframe thead th {\n",
       "        text-align: right;\n",
       "    }\n",
       "</style>\n",
       "<table border=\"1\" class=\"dataframe\">\n",
       "  <thead>\n",
       "    <tr style=\"text-align: right;\">\n",
       "      <th></th>\n",
       "      <th>state</th>\n",
       "      <th>participation_2017</th>\n",
       "      <th>participation_2018</th>\n",
       "      <th>participation_2019</th>\n",
       "      <th>total_2017</th>\n",
       "      <th>total_2018</th>\n",
       "      <th>total_2019</th>\n",
       "    </tr>\n",
       "  </thead>\n",
       "  <tbody>\n",
       "    <tr>\n",
       "      <th>5</th>\n",
       "      <td>Colorado</td>\n",
       "      <td>0.11</td>\n",
       "      <td>1.00</td>\n",
       "      <td>1.00</td>\n",
       "      <td>1201</td>\n",
       "      <td>1025</td>\n",
       "      <td>1024</td>\n",
       "    </tr>\n",
       "    <tr>\n",
       "      <th>6</th>\n",
       "      <td>Connecticut</td>\n",
       "      <td>1.00</td>\n",
       "      <td>1.00</td>\n",
       "      <td>1.00</td>\n",
       "      <td>1041</td>\n",
       "      <td>1053</td>\n",
       "      <td>1046</td>\n",
       "    </tr>\n",
       "    <tr>\n",
       "      <th>7</th>\n",
       "      <td>Delaware</td>\n",
       "      <td>1.00</td>\n",
       "      <td>1.00</td>\n",
       "      <td>1.00</td>\n",
       "      <td>996</td>\n",
       "      <td>998</td>\n",
       "      <td>985</td>\n",
       "    </tr>\n",
       "    <tr>\n",
       "      <th>8</th>\n",
       "      <td>District of Columbia</td>\n",
       "      <td>1.00</td>\n",
       "      <td>0.92</td>\n",
       "      <td>0.94</td>\n",
       "      <td>950</td>\n",
       "      <td>977</td>\n",
       "      <td>975</td>\n",
       "    </tr>\n",
       "    <tr>\n",
       "      <th>9</th>\n",
       "      <td>Florida</td>\n",
       "      <td>0.83</td>\n",
       "      <td>0.56</td>\n",
       "      <td>1.00</td>\n",
       "      <td>1017</td>\n",
       "      <td>1099</td>\n",
       "      <td>999</td>\n",
       "    </tr>\n",
       "    <tr>\n",
       "      <th>12</th>\n",
       "      <td>Idaho</td>\n",
       "      <td>0.93</td>\n",
       "      <td>1.00</td>\n",
       "      <td>1.00</td>\n",
       "      <td>1005</td>\n",
       "      <td>1001</td>\n",
       "      <td>993</td>\n",
       "    </tr>\n",
       "    <tr>\n",
       "      <th>13</th>\n",
       "      <td>Illinois</td>\n",
       "      <td>0.09</td>\n",
       "      <td>0.99</td>\n",
       "      <td>1.00</td>\n",
       "      <td>1115</td>\n",
       "      <td>1019</td>\n",
       "      <td>1013</td>\n",
       "    </tr>\n",
       "    <tr>\n",
       "      <th>22</th>\n",
       "      <td>Michigan</td>\n",
       "      <td>1.00</td>\n",
       "      <td>1.00</td>\n",
       "      <td>1.00</td>\n",
       "      <td>1005</td>\n",
       "      <td>1011</td>\n",
       "      <td>1003</td>\n",
       "    </tr>\n",
       "    <tr>\n",
       "      <th>39</th>\n",
       "      <td>Rhode Island</td>\n",
       "      <td>0.71</td>\n",
       "      <td>0.97</td>\n",
       "      <td>1.00</td>\n",
       "      <td>1062</td>\n",
       "      <td>1018</td>\n",
       "      <td>995</td>\n",
       "    </tr>\n",
       "  </tbody>\n",
       "</table>\n",
       "</div>"
      ],
      "text/plain": [
       "                   state  participation_2017  participation_2018  \\\n",
       "5               Colorado                0.11                1.00   \n",
       "6            Connecticut                1.00                1.00   \n",
       "7               Delaware                1.00                1.00   \n",
       "8   District of Columbia                1.00                0.92   \n",
       "9                Florida                0.83                0.56   \n",
       "12                 Idaho                0.93                1.00   \n",
       "13              Illinois                0.09                0.99   \n",
       "22              Michigan                1.00                1.00   \n",
       "39          Rhode Island                0.71                0.97   \n",
       "\n",
       "    participation_2019  total_2017  total_2018  total_2019  \n",
       "5                 1.00        1201        1025        1024  \n",
       "6                 1.00        1041        1053        1046  \n",
       "7                 1.00         996         998         985  \n",
       "8                 0.94         950         977         975  \n",
       "9                 1.00        1017        1099         999  \n",
       "12                1.00        1005        1001         993  \n",
       "13                1.00        1115        1019        1013  \n",
       "22                1.00        1005        1011        1003  \n",
       "39                1.00        1062        1018         995  "
      ]
     },
     "execution_count": 99,
     "metadata": {},
     "output_type": "execute_result"
    }
   ],
   "source": [
    "# All states with 100% participation rate and their totals throughout the 3 years\n",
    "par_total = combined_sat_years[['state','participation_2017', 'participation_2018', 'participation_2019', 'total_2017', 'total_2018', 'total_2019']]\n",
    "all_par_total = par_total[par_total['state'].isin(['District of Columbia', 'Michigan', 'Connecticut', 'Delaware', 'Colorado', 'Idaho', 'Rhode Island', 'Illinois', 'Florida'])]\n",
    "all_par_total"
   ]
  },
  {
   "cell_type": "code",
   "execution_count": 100,
   "metadata": {},
   "outputs": [
    {
     "data": {
      "text/html": [
       "<div>\n",
       "<style scoped>\n",
       "    .dataframe tbody tr th:only-of-type {\n",
       "        vertical-align: middle;\n",
       "    }\n",
       "\n",
       "    .dataframe tbody tr th {\n",
       "        vertical-align: top;\n",
       "    }\n",
       "\n",
       "    .dataframe thead th {\n",
       "        text-align: right;\n",
       "    }\n",
       "</style>\n",
       "<table border=\"1\" class=\"dataframe\">\n",
       "  <thead>\n",
       "    <tr style=\"text-align: right;\">\n",
       "      <th></th>\n",
       "      <th>state</th>\n",
       "      <th>participation_2017</th>\n",
       "      <th>participation_2018</th>\n",
       "      <th>participation_2019</th>\n",
       "      <th>total_2017</th>\n",
       "      <th>total_2018</th>\n",
       "      <th>total_2019</th>\n",
       "    </tr>\n",
       "  </thead>\n",
       "  <tbody>\n",
       "    <tr>\n",
       "      <th>6</th>\n",
       "      <td>Connecticut</td>\n",
       "      <td>1.0</td>\n",
       "      <td>1.0</td>\n",
       "      <td>1.0</td>\n",
       "      <td>1041</td>\n",
       "      <td>1053</td>\n",
       "      <td>1046</td>\n",
       "    </tr>\n",
       "    <tr>\n",
       "      <th>7</th>\n",
       "      <td>Delaware</td>\n",
       "      <td>1.0</td>\n",
       "      <td>1.0</td>\n",
       "      <td>1.0</td>\n",
       "      <td>996</td>\n",
       "      <td>998</td>\n",
       "      <td>985</td>\n",
       "    </tr>\n",
       "    <tr>\n",
       "      <th>22</th>\n",
       "      <td>Michigan</td>\n",
       "      <td>1.0</td>\n",
       "      <td>1.0</td>\n",
       "      <td>1.0</td>\n",
       "      <td>1005</td>\n",
       "      <td>1011</td>\n",
       "      <td>1003</td>\n",
       "    </tr>\n",
       "  </tbody>\n",
       "</table>\n",
       "</div>"
      ],
      "text/plain": [
       "          state  participation_2017  participation_2018  participation_2019  \\\n",
       "6   Connecticut                 1.0                 1.0                 1.0   \n",
       "7      Delaware                 1.0                 1.0                 1.0   \n",
       "22     Michigan                 1.0                 1.0                 1.0   \n",
       "\n",
       "    total_2017  total_2018  total_2019  \n",
       "6         1041        1053        1046  \n",
       "7          996         998         985  \n",
       "22        1005        1011        1003  "
      ]
     },
     "execution_count": 100,
     "metadata": {},
     "output_type": "execute_result"
    }
   ],
   "source": [
    "# States that had 100% participation rates all 3 years\n",
    "cdm = par_total[par_total['state'].isin(['Connecticut', 'Delaware', 'Michigan'])]\n",
    "cdm "
   ]
  },
  {
   "cell_type": "markdown",
   "metadata": {},
   "source": [
    "As stated above, District of Columbia, Michigan, Connecticut, Delaware had 100% participation rates in 2017.\n",
    "These states ranked in the bottom 15 lowest scores throughout all 3 years.\n",
    "\n",
    "In 2018, Colorado and Idaho were added to the list and Idaho ranked 4th worst while Colorado ranked 11th worst.\n",
    "This is interesting because in 2017 when participation rates were 11% for Colorado, they ranked 15th highest score.\n",
    "\n",
    "In 2019, Rhode Island got added to the 100% Participation list. We see that within the years, as participation increased, mean total scores decreased.\n",
    "\n",
    "Illinois: We see that within the years, as participation increased, mean total scores decreased.\n",
    "\n",
    "Florida: We see that within the years, as participation increased, mean total scores decreased."
   ]
  },
  {
   "cell_type": "markdown",
   "metadata": {},
   "source": [
    "##### Do any states with 100% participation on a given test have a rate change year-to-year?"
   ]
  },
  {
   "cell_type": "code",
   "execution_count": 101,
   "metadata": {},
   "outputs": [
    {
     "data": {
      "text/html": [
       "<div>\n",
       "<style scoped>\n",
       "    .dataframe tbody tr th:only-of-type {\n",
       "        vertical-align: middle;\n",
       "    }\n",
       "\n",
       "    .dataframe tbody tr th {\n",
       "        vertical-align: top;\n",
       "    }\n",
       "\n",
       "    .dataframe thead th {\n",
       "        text-align: right;\n",
       "    }\n",
       "</style>\n",
       "<table border=\"1\" class=\"dataframe\">\n",
       "  <thead>\n",
       "    <tr style=\"text-align: right;\">\n",
       "      <th></th>\n",
       "      <th>state</th>\n",
       "      <th>participation_2017</th>\n",
       "      <th>participation_2018</th>\n",
       "      <th>participation_2019</th>\n",
       "    </tr>\n",
       "  </thead>\n",
       "  <tbody>\n",
       "    <tr>\n",
       "      <th>8</th>\n",
       "      <td>District of Columbia</td>\n",
       "      <td>1.0</td>\n",
       "      <td>0.92</td>\n",
       "      <td>0.94</td>\n",
       "    </tr>\n",
       "  </tbody>\n",
       "</table>\n",
       "</div>"
      ],
      "text/plain": [
       "                  state  participation_2017  participation_2018  \\\n",
       "8  District of Columbia                 1.0                0.92   \n",
       "\n",
       "   participation_2019  \n",
       "8                0.94  "
      ]
     },
     "execution_count": 101,
     "metadata": {},
     "output_type": "execute_result"
    }
   ],
   "source": [
    "# District of Columbia's participation rate from 2017-2019\n",
    "combined_sat_years[['state', 'participation_2017', 'participation_2018', 'participation_2019']].loc[combined_sat_years['state']== 'District of Columbia']"
   ]
  },
  {
   "cell_type": "markdown",
   "metadata": {},
   "source": [
    "As shown above, District of Columbia had a decline from 100% to 92% in the years 2017 to 2018 and 94% in 2019.\n",
    "This may not be a significant change as the District of Columbia offers the SAT for free, but does not require it, which may fluctuate the participation rates ([*source*](https://blog.collegevine.com/states-that-require-sat/#curve))."
   ]
  },
  {
   "cell_type": "markdown",
   "metadata": {},
   "source": [
    "###### Which states have >= 50% participation each year?"
   ]
  },
  {
   "cell_type": "code",
   "execution_count": 102,
   "metadata": {},
   "outputs": [
    {
     "data": {
      "text/html": [
       "<div>\n",
       "<style scoped>\n",
       "    .dataframe tbody tr th:only-of-type {\n",
       "        vertical-align: middle;\n",
       "    }\n",
       "\n",
       "    .dataframe tbody tr th {\n",
       "        vertical-align: top;\n",
       "    }\n",
       "\n",
       "    .dataframe thead th {\n",
       "        text-align: right;\n",
       "    }\n",
       "</style>\n",
       "<table border=\"1\" class=\"dataframe\">\n",
       "  <thead>\n",
       "    <tr style=\"text-align: right;\">\n",
       "      <th></th>\n",
       "      <th>state</th>\n",
       "      <th>participation_2017</th>\n",
       "      <th>participation_2018</th>\n",
       "      <th>participation_2019</th>\n",
       "    </tr>\n",
       "  </thead>\n",
       "  <tbody>\n",
       "    <tr>\n",
       "      <th>4</th>\n",
       "      <td>California</td>\n",
       "      <td>0.53</td>\n",
       "      <td>0.60</td>\n",
       "      <td>0.63</td>\n",
       "    </tr>\n",
       "    <tr>\n",
       "      <th>6</th>\n",
       "      <td>Connecticut</td>\n",
       "      <td>1.00</td>\n",
       "      <td>1.00</td>\n",
       "      <td>1.00</td>\n",
       "    </tr>\n",
       "    <tr>\n",
       "      <th>7</th>\n",
       "      <td>Delaware</td>\n",
       "      <td>1.00</td>\n",
       "      <td>1.00</td>\n",
       "      <td>1.00</td>\n",
       "    </tr>\n",
       "    <tr>\n",
       "      <th>8</th>\n",
       "      <td>District of Columbia</td>\n",
       "      <td>1.00</td>\n",
       "      <td>0.92</td>\n",
       "      <td>0.94</td>\n",
       "    </tr>\n",
       "    <tr>\n",
       "      <th>9</th>\n",
       "      <td>Florida</td>\n",
       "      <td>0.83</td>\n",
       "      <td>0.56</td>\n",
       "      <td>1.00</td>\n",
       "    </tr>\n",
       "    <tr>\n",
       "      <th>10</th>\n",
       "      <td>Georgia</td>\n",
       "      <td>0.61</td>\n",
       "      <td>0.70</td>\n",
       "      <td>0.71</td>\n",
       "    </tr>\n",
       "    <tr>\n",
       "      <th>11</th>\n",
       "      <td>Hawaii</td>\n",
       "      <td>0.55</td>\n",
       "      <td>0.56</td>\n",
       "      <td>0.54</td>\n",
       "    </tr>\n",
       "    <tr>\n",
       "      <th>12</th>\n",
       "      <td>Idaho</td>\n",
       "      <td>0.93</td>\n",
       "      <td>1.00</td>\n",
       "      <td>1.00</td>\n",
       "    </tr>\n",
       "    <tr>\n",
       "      <th>14</th>\n",
       "      <td>Indiana</td>\n",
       "      <td>0.63</td>\n",
       "      <td>0.63</td>\n",
       "      <td>0.66</td>\n",
       "    </tr>\n",
       "    <tr>\n",
       "      <th>19</th>\n",
       "      <td>Maine</td>\n",
       "      <td>0.95</td>\n",
       "      <td>0.99</td>\n",
       "      <td>0.99</td>\n",
       "    </tr>\n",
       "    <tr>\n",
       "      <th>20</th>\n",
       "      <td>Maryland</td>\n",
       "      <td>0.69</td>\n",
       "      <td>0.76</td>\n",
       "      <td>0.82</td>\n",
       "    </tr>\n",
       "    <tr>\n",
       "      <th>21</th>\n",
       "      <td>Massachusetts</td>\n",
       "      <td>0.76</td>\n",
       "      <td>0.80</td>\n",
       "      <td>0.81</td>\n",
       "    </tr>\n",
       "    <tr>\n",
       "      <th>22</th>\n",
       "      <td>Michigan</td>\n",
       "      <td>1.00</td>\n",
       "      <td>1.00</td>\n",
       "      <td>1.00</td>\n",
       "    </tr>\n",
       "    <tr>\n",
       "      <th>29</th>\n",
       "      <td>New Hampshire</td>\n",
       "      <td>0.96</td>\n",
       "      <td>0.96</td>\n",
       "      <td>0.95</td>\n",
       "    </tr>\n",
       "    <tr>\n",
       "      <th>30</th>\n",
       "      <td>New Jersey</td>\n",
       "      <td>0.70</td>\n",
       "      <td>0.82</td>\n",
       "      <td>0.82</td>\n",
       "    </tr>\n",
       "    <tr>\n",
       "      <th>32</th>\n",
       "      <td>New York</td>\n",
       "      <td>0.67</td>\n",
       "      <td>0.79</td>\n",
       "      <td>0.79</td>\n",
       "    </tr>\n",
       "    <tr>\n",
       "      <th>38</th>\n",
       "      <td>Pennsylvania</td>\n",
       "      <td>0.65</td>\n",
       "      <td>0.70</td>\n",
       "      <td>0.70</td>\n",
       "    </tr>\n",
       "    <tr>\n",
       "      <th>39</th>\n",
       "      <td>Rhode Island</td>\n",
       "      <td>0.71</td>\n",
       "      <td>0.97</td>\n",
       "      <td>1.00</td>\n",
       "    </tr>\n",
       "    <tr>\n",
       "      <th>40</th>\n",
       "      <td>South Carolina</td>\n",
       "      <td>0.50</td>\n",
       "      <td>0.55</td>\n",
       "      <td>0.68</td>\n",
       "    </tr>\n",
       "    <tr>\n",
       "      <th>43</th>\n",
       "      <td>Texas</td>\n",
       "      <td>0.62</td>\n",
       "      <td>0.66</td>\n",
       "      <td>0.68</td>\n",
       "    </tr>\n",
       "    <tr>\n",
       "      <th>45</th>\n",
       "      <td>Vermont</td>\n",
       "      <td>0.60</td>\n",
       "      <td>0.64</td>\n",
       "      <td>0.66</td>\n",
       "    </tr>\n",
       "    <tr>\n",
       "      <th>46</th>\n",
       "      <td>Virginia</td>\n",
       "      <td>0.65</td>\n",
       "      <td>0.68</td>\n",
       "      <td>0.68</td>\n",
       "    </tr>\n",
       "    <tr>\n",
       "      <th>47</th>\n",
       "      <td>Washington</td>\n",
       "      <td>0.64</td>\n",
       "      <td>0.69</td>\n",
       "      <td>0.70</td>\n",
       "    </tr>\n",
       "  </tbody>\n",
       "</table>\n",
       "</div>"
      ],
      "text/plain": [
       "                   state  participation_2017  participation_2018  \\\n",
       "4             California                0.53                0.60   \n",
       "6            Connecticut                1.00                1.00   \n",
       "7               Delaware                1.00                1.00   \n",
       "8   District of Columbia                1.00                0.92   \n",
       "9                Florida                0.83                0.56   \n",
       "10               Georgia                0.61                0.70   \n",
       "11                Hawaii                0.55                0.56   \n",
       "12                 Idaho                0.93                1.00   \n",
       "14               Indiana                0.63                0.63   \n",
       "19                 Maine                0.95                0.99   \n",
       "20              Maryland                0.69                0.76   \n",
       "21         Massachusetts                0.76                0.80   \n",
       "22              Michigan                1.00                1.00   \n",
       "29         New Hampshire                0.96                0.96   \n",
       "30            New Jersey                0.70                0.82   \n",
       "32              New York                0.67                0.79   \n",
       "38          Pennsylvania                0.65                0.70   \n",
       "39          Rhode Island                0.71                0.97   \n",
       "40        South Carolina                0.50                0.55   \n",
       "43                 Texas                0.62                0.66   \n",
       "45               Vermont                0.60                0.64   \n",
       "46              Virginia                0.65                0.68   \n",
       "47            Washington                0.64                0.69   \n",
       "\n",
       "    participation_2019  \n",
       "4                 0.63  \n",
       "6                 1.00  \n",
       "7                 1.00  \n",
       "8                 0.94  \n",
       "9                 1.00  \n",
       "10                0.71  \n",
       "11                0.54  \n",
       "12                1.00  \n",
       "14                0.66  \n",
       "19                0.99  \n",
       "20                0.82  \n",
       "21                0.81  \n",
       "22                1.00  \n",
       "29                0.95  \n",
       "30                0.82  \n",
       "32                0.79  \n",
       "38                0.70  \n",
       "39                1.00  \n",
       "40                0.68  \n",
       "43                0.68  \n",
       "45                0.66  \n",
       "46                0.68  \n",
       "47                0.70  "
      ]
     },
     "execution_count": 102,
     "metadata": {},
     "output_type": "execute_result"
    }
   ],
   "source": [
    "above_50 = (combined_sat_years['participation_2017']>=0.5) & (combined_sat_years['participation_2018']>=0.5) & (combined_sat_years['participation_2019']>=0.5)\n",
    "combined_sat_years[['state', 'participation_2017', 'participation_2018', 'participation_2019']].loc[above_50]"
   ]
  },
  {
   "cell_type": "markdown",
   "metadata": {},
   "source": [
    "23/51 states have 50% or above participation rates from 2017-2019"
   ]
  },
  {
   "cell_type": "markdown",
   "metadata": {},
   "source": [
    "## Visualize the Data"
   ]
  },
  {
   "cell_type": "code",
   "execution_count": 103,
   "metadata": {},
   "outputs": [
    {
     "data": {
      "text/html": [
       "<div>\n",
       "<style scoped>\n",
       "    .dataframe tbody tr th:only-of-type {\n",
       "        vertical-align: middle;\n",
       "    }\n",
       "\n",
       "    .dataframe tbody tr th {\n",
       "        vertical-align: top;\n",
       "    }\n",
       "\n",
       "    .dataframe thead th {\n",
       "        text-align: right;\n",
       "    }\n",
       "</style>\n",
       "<table border=\"1\" class=\"dataframe\">\n",
       "  <thead>\n",
       "    <tr style=\"text-align: right;\">\n",
       "      <th></th>\n",
       "      <th>participation_2017</th>\n",
       "      <th>evidence_based_reading_writing_2017</th>\n",
       "      <th>math_2017</th>\n",
       "      <th>total_2017</th>\n",
       "      <th>participation_2018</th>\n",
       "      <th>evidence_based_reading_writing_2018</th>\n",
       "      <th>math_2018</th>\n",
       "      <th>total_2018</th>\n",
       "      <th>participation_2019</th>\n",
       "      <th>evidence_based_reading_writing_2019</th>\n",
       "      <th>math_2019</th>\n",
       "      <th>total_2019</th>\n",
       "    </tr>\n",
       "  </thead>\n",
       "  <tbody>\n",
       "    <tr>\n",
       "      <th>participation_2017</th>\n",
       "      <td>1.000000</td>\n",
       "      <td>-0.874326</td>\n",
       "      <td>-0.855091</td>\n",
       "      <td>-0.867540</td>\n",
       "      <td>0.874763</td>\n",
       "      <td>-0.666313</td>\n",
       "      <td>-0.686941</td>\n",
       "      <td>-0.684556</td>\n",
       "      <td>0.844118</td>\n",
       "      <td>-0.700507</td>\n",
       "      <td>-0.673190</td>\n",
       "      <td>-0.688327</td>\n",
       "    </tr>\n",
       "    <tr>\n",
       "      <th>evidence_based_reading_writing_2017</th>\n",
       "      <td>-0.874326</td>\n",
       "      <td>1.000000</td>\n",
       "      <td>0.987056</td>\n",
       "      <td>0.996661</td>\n",
       "      <td>-0.818925</td>\n",
       "      <td>0.814096</td>\n",
       "      <td>0.865909</td>\n",
       "      <td>0.849798</td>\n",
       "      <td>-0.838622</td>\n",
       "      <td>0.898352</td>\n",
       "      <td>0.876606</td>\n",
       "      <td>0.889820</td>\n",
       "    </tr>\n",
       "    <tr>\n",
       "      <th>math_2017</th>\n",
       "      <td>-0.855091</td>\n",
       "      <td>0.987056</td>\n",
       "      <td>1.000000</td>\n",
       "      <td>0.996822</td>\n",
       "      <td>-0.789166</td>\n",
       "      <td>0.800380</td>\n",
       "      <td>0.878982</td>\n",
       "      <td>0.849583</td>\n",
       "      <td>-0.829083</td>\n",
       "      <td>0.901134</td>\n",
       "      <td>0.902478</td>\n",
       "      <td>0.904755</td>\n",
       "    </tr>\n",
       "    <tr>\n",
       "      <th>total_2017</th>\n",
       "      <td>-0.867540</td>\n",
       "      <td>0.996661</td>\n",
       "      <td>0.996822</td>\n",
       "      <td>1.000000</td>\n",
       "      <td>-0.806796</td>\n",
       "      <td>0.810068</td>\n",
       "      <td>0.875601</td>\n",
       "      <td>0.852727</td>\n",
       "      <td>-0.836916</td>\n",
       "      <td>0.903106</td>\n",
       "      <td>0.892973</td>\n",
       "      <td>0.900690</td>\n",
       "    </tr>\n",
       "    <tr>\n",
       "      <th>participation_2018</th>\n",
       "      <td>0.874763</td>\n",
       "      <td>-0.818925</td>\n",
       "      <td>-0.789166</td>\n",
       "      <td>-0.806796</td>\n",
       "      <td>1.000000</td>\n",
       "      <td>-0.762055</td>\n",
       "      <td>-0.791338</td>\n",
       "      <td>-0.785926</td>\n",
       "      <td>0.952967</td>\n",
       "      <td>-0.795342</td>\n",
       "      <td>-0.751634</td>\n",
       "      <td>-0.774900</td>\n",
       "    </tr>\n",
       "    <tr>\n",
       "      <th>evidence_based_reading_writing_2018</th>\n",
       "      <td>-0.666313</td>\n",
       "      <td>0.814096</td>\n",
       "      <td>0.800380</td>\n",
       "      <td>0.810068</td>\n",
       "      <td>-0.762055</td>\n",
       "      <td>1.000000</td>\n",
       "      <td>0.954661</td>\n",
       "      <td>0.988560</td>\n",
       "      <td>-0.789814</td>\n",
       "      <td>0.865572</td>\n",
       "      <td>0.831921</td>\n",
       "      <td>0.850434</td>\n",
       "    </tr>\n",
       "    <tr>\n",
       "      <th>math_2018</th>\n",
       "      <td>-0.686941</td>\n",
       "      <td>0.865909</td>\n",
       "      <td>0.878982</td>\n",
       "      <td>0.875601</td>\n",
       "      <td>-0.791338</td>\n",
       "      <td>0.954661</td>\n",
       "      <td>1.000000</td>\n",
       "      <td>0.988622</td>\n",
       "      <td>-0.835846</td>\n",
       "      <td>0.940199</td>\n",
       "      <td>0.933717</td>\n",
       "      <td>0.939734</td>\n",
       "    </tr>\n",
       "    <tr>\n",
       "      <th>total_2018</th>\n",
       "      <td>-0.684556</td>\n",
       "      <td>0.849798</td>\n",
       "      <td>0.849583</td>\n",
       "      <td>0.852727</td>\n",
       "      <td>-0.785926</td>\n",
       "      <td>0.988560</td>\n",
       "      <td>0.988622</td>\n",
       "      <td>1.000000</td>\n",
       "      <td>-0.822584</td>\n",
       "      <td>0.913307</td>\n",
       "      <td>0.893029</td>\n",
       "      <td>0.905423</td>\n",
       "    </tr>\n",
       "    <tr>\n",
       "      <th>participation_2019</th>\n",
       "      <td>0.844118</td>\n",
       "      <td>-0.838622</td>\n",
       "      <td>-0.829083</td>\n",
       "      <td>-0.836916</td>\n",
       "      <td>0.952967</td>\n",
       "      <td>-0.789814</td>\n",
       "      <td>-0.835846</td>\n",
       "      <td>-0.822584</td>\n",
       "      <td>1.000000</td>\n",
       "      <td>-0.873453</td>\n",
       "      <td>-0.845841</td>\n",
       "      <td>-0.861786</td>\n",
       "    </tr>\n",
       "    <tr>\n",
       "      <th>evidence_based_reading_writing_2019</th>\n",
       "      <td>-0.700507</td>\n",
       "      <td>0.898352</td>\n",
       "      <td>0.901134</td>\n",
       "      <td>0.903106</td>\n",
       "      <td>-0.795342</td>\n",
       "      <td>0.865572</td>\n",
       "      <td>0.940199</td>\n",
       "      <td>0.913307</td>\n",
       "      <td>-0.873453</td>\n",
       "      <td>1.000000</td>\n",
       "      <td>0.986026</td>\n",
       "      <td>0.996134</td>\n",
       "    </tr>\n",
       "    <tr>\n",
       "      <th>math_2019</th>\n",
       "      <td>-0.673190</td>\n",
       "      <td>0.876606</td>\n",
       "      <td>0.902478</td>\n",
       "      <td>0.892973</td>\n",
       "      <td>-0.751634</td>\n",
       "      <td>0.831921</td>\n",
       "      <td>0.933717</td>\n",
       "      <td>0.893029</td>\n",
       "      <td>-0.845841</td>\n",
       "      <td>0.986026</td>\n",
       "      <td>1.000000</td>\n",
       "      <td>0.996825</td>\n",
       "    </tr>\n",
       "    <tr>\n",
       "      <th>total_2019</th>\n",
       "      <td>-0.688327</td>\n",
       "      <td>0.889820</td>\n",
       "      <td>0.904755</td>\n",
       "      <td>0.900690</td>\n",
       "      <td>-0.774900</td>\n",
       "      <td>0.850434</td>\n",
       "      <td>0.939734</td>\n",
       "      <td>0.905423</td>\n",
       "      <td>-0.861786</td>\n",
       "      <td>0.996134</td>\n",
       "      <td>0.996825</td>\n",
       "      <td>1.000000</td>\n",
       "    </tr>\n",
       "  </tbody>\n",
       "</table>\n",
       "</div>"
      ],
      "text/plain": [
       "                                     participation_2017  \\\n",
       "participation_2017                             1.000000   \n",
       "evidence_based_reading_writing_2017           -0.874326   \n",
       "math_2017                                     -0.855091   \n",
       "total_2017                                    -0.867540   \n",
       "participation_2018                             0.874763   \n",
       "evidence_based_reading_writing_2018           -0.666313   \n",
       "math_2018                                     -0.686941   \n",
       "total_2018                                    -0.684556   \n",
       "participation_2019                             0.844118   \n",
       "evidence_based_reading_writing_2019           -0.700507   \n",
       "math_2019                                     -0.673190   \n",
       "total_2019                                    -0.688327   \n",
       "\n",
       "                                     evidence_based_reading_writing_2017  \\\n",
       "participation_2017                                             -0.874326   \n",
       "evidence_based_reading_writing_2017                             1.000000   \n",
       "math_2017                                                       0.987056   \n",
       "total_2017                                                      0.996661   \n",
       "participation_2018                                             -0.818925   \n",
       "evidence_based_reading_writing_2018                             0.814096   \n",
       "math_2018                                                       0.865909   \n",
       "total_2018                                                      0.849798   \n",
       "participation_2019                                             -0.838622   \n",
       "evidence_based_reading_writing_2019                             0.898352   \n",
       "math_2019                                                       0.876606   \n",
       "total_2019                                                      0.889820   \n",
       "\n",
       "                                     math_2017  total_2017  \\\n",
       "participation_2017                   -0.855091   -0.867540   \n",
       "evidence_based_reading_writing_2017   0.987056    0.996661   \n",
       "math_2017                             1.000000    0.996822   \n",
       "total_2017                            0.996822    1.000000   \n",
       "participation_2018                   -0.789166   -0.806796   \n",
       "evidence_based_reading_writing_2018   0.800380    0.810068   \n",
       "math_2018                             0.878982    0.875601   \n",
       "total_2018                            0.849583    0.852727   \n",
       "participation_2019                   -0.829083   -0.836916   \n",
       "evidence_based_reading_writing_2019   0.901134    0.903106   \n",
       "math_2019                             0.902478    0.892973   \n",
       "total_2019                            0.904755    0.900690   \n",
       "\n",
       "                                     participation_2018  \\\n",
       "participation_2017                             0.874763   \n",
       "evidence_based_reading_writing_2017           -0.818925   \n",
       "math_2017                                     -0.789166   \n",
       "total_2017                                    -0.806796   \n",
       "participation_2018                             1.000000   \n",
       "evidence_based_reading_writing_2018           -0.762055   \n",
       "math_2018                                     -0.791338   \n",
       "total_2018                                    -0.785926   \n",
       "participation_2019                             0.952967   \n",
       "evidence_based_reading_writing_2019           -0.795342   \n",
       "math_2019                                     -0.751634   \n",
       "total_2019                                    -0.774900   \n",
       "\n",
       "                                     evidence_based_reading_writing_2018  \\\n",
       "participation_2017                                             -0.666313   \n",
       "evidence_based_reading_writing_2017                             0.814096   \n",
       "math_2017                                                       0.800380   \n",
       "total_2017                                                      0.810068   \n",
       "participation_2018                                             -0.762055   \n",
       "evidence_based_reading_writing_2018                             1.000000   \n",
       "math_2018                                                       0.954661   \n",
       "total_2018                                                      0.988560   \n",
       "participation_2019                                             -0.789814   \n",
       "evidence_based_reading_writing_2019                             0.865572   \n",
       "math_2019                                                       0.831921   \n",
       "total_2019                                                      0.850434   \n",
       "\n",
       "                                     math_2018  total_2018  \\\n",
       "participation_2017                   -0.686941   -0.684556   \n",
       "evidence_based_reading_writing_2017   0.865909    0.849798   \n",
       "math_2017                             0.878982    0.849583   \n",
       "total_2017                            0.875601    0.852727   \n",
       "participation_2018                   -0.791338   -0.785926   \n",
       "evidence_based_reading_writing_2018   0.954661    0.988560   \n",
       "math_2018                             1.000000    0.988622   \n",
       "total_2018                            0.988622    1.000000   \n",
       "participation_2019                   -0.835846   -0.822584   \n",
       "evidence_based_reading_writing_2019   0.940199    0.913307   \n",
       "math_2019                             0.933717    0.893029   \n",
       "total_2019                            0.939734    0.905423   \n",
       "\n",
       "                                     participation_2019  \\\n",
       "participation_2017                             0.844118   \n",
       "evidence_based_reading_writing_2017           -0.838622   \n",
       "math_2017                                     -0.829083   \n",
       "total_2017                                    -0.836916   \n",
       "participation_2018                             0.952967   \n",
       "evidence_based_reading_writing_2018           -0.789814   \n",
       "math_2018                                     -0.835846   \n",
       "total_2018                                    -0.822584   \n",
       "participation_2019                             1.000000   \n",
       "evidence_based_reading_writing_2019           -0.873453   \n",
       "math_2019                                     -0.845841   \n",
       "total_2019                                    -0.861786   \n",
       "\n",
       "                                     evidence_based_reading_writing_2019  \\\n",
       "participation_2017                                             -0.700507   \n",
       "evidence_based_reading_writing_2017                             0.898352   \n",
       "math_2017                                                       0.901134   \n",
       "total_2017                                                      0.903106   \n",
       "participation_2018                                             -0.795342   \n",
       "evidence_based_reading_writing_2018                             0.865572   \n",
       "math_2018                                                       0.940199   \n",
       "total_2018                                                      0.913307   \n",
       "participation_2019                                             -0.873453   \n",
       "evidence_based_reading_writing_2019                             1.000000   \n",
       "math_2019                                                       0.986026   \n",
       "total_2019                                                      0.996134   \n",
       "\n",
       "                                     math_2019  total_2019  \n",
       "participation_2017                   -0.673190   -0.688327  \n",
       "evidence_based_reading_writing_2017   0.876606    0.889820  \n",
       "math_2017                             0.902478    0.904755  \n",
       "total_2017                            0.892973    0.900690  \n",
       "participation_2018                   -0.751634   -0.774900  \n",
       "evidence_based_reading_writing_2018   0.831921    0.850434  \n",
       "math_2018                             0.933717    0.939734  \n",
       "total_2018                            0.893029    0.905423  \n",
       "participation_2019                   -0.845841   -0.861786  \n",
       "evidence_based_reading_writing_2019   0.986026    0.996134  \n",
       "math_2019                             1.000000    0.996825  \n",
       "total_2019                            0.996825    1.000000  "
      ]
     },
     "execution_count": 103,
     "metadata": {},
     "output_type": "execute_result"
    }
   ],
   "source": [
    "# Correlation between SAT data in 2017-2019\n",
    "combined_sat_years.corr()"
   ]
  },
  {
   "cell_type": "markdown",
   "metadata": {},
   "source": [
    "#### Heatmap:"
   ]
  },
  {
   "cell_type": "code",
   "execution_count": 104,
   "metadata": {},
   "outputs": [
    {
     "data": {
      "image/png": "[encoded data removed]",
      "text/plain": [
       "<Figure size 1080x720 with 2 Axes>"
      ]
     },
     "metadata": {
      "needs_background": "light"
     },
     "output_type": "display_data"
    }
   ],
   "source": [
    "# Correlation between SAT data in 2017-2019 in a heatmap\n",
    "# The higher the correlation, the lighter the color (whites/blues)\n",
    "# The lower the correlation, the darker the color (greens/dark blue\n",
    "\n",
    "plt.figure(figsize = (15,10))\n",
    "\n",
    "plt.title('Correlation Between SAT Data (2017-2019)', fontsize = 22)\n",
    "sns.heatmap(combined_sat_years.corr(), annot = True, cmap = 'ocean');"
   ]
  },
  {
   "cell_type": "markdown",
   "metadata": {},
   "source": [
    "Participation in 2017 is positively correlated to participation in 2018 (+0.87) and 2019 (+0.84). This correlation is expected because we would not expect participation rates to drastically change within each year.\n",
    "\n",
    "Total SAT scores in 2017 are positively correlated to total scores in 2018 (+0.85) and 2019 (+0.90). This correlation is also expected because we are looking at only a change in one year and scores would not drastically change.\n",
    "\n",
    "For participation in 2017 and total mean score in 2017, there is a strong negative correlation (-0.87).\n",
    "For participation in 2018 and total mean score in 2018, there is a strong negative correlation (-0.79).\n",
    "For participation in 2019 and total mean score in 2019, there is a strong negative correlation (-0.86).\n",
    "We will go into further detail on the negative correlation between participation and total mean score when looking at scatter plots."
   ]
  },
  {
   "cell_type": "markdown",
   "metadata": {},
   "source": [
    "#### Visualize Distributions Using Histograms:"
   ]
  },
  {
   "cell_type": "code",
   "execution_count": 105,
   "metadata": {
    "scrolled": true
   },
   "outputs": [
    {
     "data": {
      "image/png": "[encoded data removed]",
      "text/plain": [
       "<Figure size 1080x576 with 3 Axes>"
      ]
     },
     "metadata": {
      "needs_background": "light"
     },
     "output_type": "display_data"
    }
   ],
   "source": [
    "# Create histograms for participation rate 2017-2019\n",
    "# For Sub Plots: https://stackoverflow.com/questions/57612918/subplot-with-pandas-graphs\n",
    "# For commmon labels: https://stackoverflow.com/questions/6963035/pyplot-axes-labels-for-subplots\n",
    "\n",
    "fig, axes = plt.subplots(nrows=1, ncols=3, sharex = True, sharey = True, figsize =(15, 8))\n",
    "fig.suptitle('State Participation Rate', size=20)\n",
    "combined_sat_years['participation_2017'].hist(ax=axes[0])\n",
    "combined_sat_years['participation_2018'].hist(ax=axes[1])\n",
    "combined_sat_years['participation_2019'].hist(ax=axes[2])\n",
    "fig.text(0.5, 0.04, 'Participation Rate (In Decimals) From 2017-2019', ha='center', va='center')\n",
    "fig.text(0.06, 0.5, 'Number of States', ha='center', va='center', rotation='vertical');"
   ]
  },
  {
   "cell_type": "markdown",
   "metadata": {},
   "source": [
    "Throughout the years, the pattern in participation rate does not change significantly. The amount of states that don't participate (approximately 0.1 (10%) or less) in the SATs are very high. States that have moderate participation are very low in percentage and states that have high participation rates (approximately 0.9-1.0 (90-100%)) are also very high in the number of states.\n",
    "The above histograms have an inverted bell shaped curve suggesting that participation is either really low or really high."
   ]
  },
  {
   "cell_type": "markdown",
   "metadata": {},
   "source": [
    "#### Scatter Plots:"
   ]
  },
  {
   "cell_type": "code",
   "execution_count": 119,
   "metadata": {},
   "outputs": [],
   "source": [
    "# Function for creating scatter plots\n",
    "def create_scatterplot(x_var, y_var, title = '', ylabel = '', xlabel = ''):\n",
    "    # Establish the size of the figure.\n",
    "    plt.figure(figsize=(10, 6))\n",
    "\n",
    "    # Create scatterplot of participation and total mean score in 2017.\n",
    "    plt.scatter(x_var,\n",
    "            y_var, color = 'green');\n",
    "    \n",
    "    # Customizations\n",
    "    plt.title(title, fontsize = 20)\n",
    "    plt.ylabel(ylabel, fontsize = 20)\n",
    "    plt.xlabel(xlabel, fontsize = 20);\n",
    "    "
   ]
  },
  {
   "cell_type": "code",
   "execution_count": 120,
   "metadata": {},
   "outputs": [
    {
     "data": {
      "image/png": "[encoded data removed]",
      "text/plain": [
       "<Figure size 720x432 with 1 Axes>"
      ]
     },
     "metadata": {
      "needs_background": "light"
     },
     "output_type": "display_data"
    }
   ],
   "source": [
    "# 2017 Participation Rate vs. Total Score Scatter plot\n",
    "create_scatterplot(combined_sat_years['participation_2017'],\n",
    "combined_sat_years['total_2017'], \"2017 Participation Rate vs. Total Score\", \"SAT Mean Total\", \"Participation\" )"
   ]
  },
  {
   "cell_type": "code",
   "execution_count": 121,
   "metadata": {},
   "outputs": [
    {
     "data": {
      "image/png": "[encoded data removed]",
      "text/plain": [
       "<Figure size 720x432 with 1 Axes>"
      ]
     },
     "metadata": {
      "needs_background": "light"
     },
     "output_type": "display_data"
    }
   ],
   "source": [
    "# 2018 Participation Rate vs. Total Score Scatter plot\n",
    "create_scatterplot(combined_sat_years['participation_2018'],\n",
    "combined_sat_years['total_2018'], \"2018 Participation Rate vs. Total Score\", \"SAT Mean Total\", \"Participation\" )"
   ]
  },
  {
   "cell_type": "code",
   "execution_count": 122,
   "metadata": {},
   "outputs": [
    {
     "data": {
      "image/png": "[encoded data removed]",
      "text/plain": [
       "<Figure size 720x432 with 1 Axes>"
      ]
     },
     "metadata": {
      "needs_background": "light"
     },
     "output_type": "display_data"
    }
   ],
   "source": [
    "# 2019 Participation Rate vs. Total Score Scatter plot\n",
    "create_scatterplot(combined_sat_years['participation_2019'],\n",
    "combined_sat_years['total_2019'], \"2019 Participation Rate vs. Total Score\", \"SAT Mean Total\", \"Participation\" )"
   ]
  },
  {
   "cell_type": "markdown",
   "metadata": {},
   "source": [
    "Looking at the above scatterplots, we see that there is a negative relationship within all 3 years when comparing the SAT mean total and participation rates. Therefore, the higher the participation, the lower the mean total score and the lower the participation, the higher the mean total score. The cluster of dots at the 0% and cluster at the 100% match with the histograms above and represents how there is a lot of participation at lower and higher percentages."
   ]
  },
  {
   "cell_type": "code",
   "execution_count": 123,
   "metadata": {},
   "outputs": [],
   "source": [
    "def create_boxplot(x_var, title = '', xlabel = '', ylabel= '', yticks=[]):\n",
    "    # Size of the figure\n",
    "    fig = plt.figure(figsize =(8, 5))\n",
    "\n",
    "    # Create box plot for SAT participation 2017-2019\n",
    "    plt.boxplot(x_var,\n",
    "           vert = 0, showmeans=True)\n",
    "    # Customizations\n",
    "    plt.yticks([1,2,3], yticks)\n",
    "    plt.title(title, fontsize = 20)\n",
    "    plt.xlabel(xlabel, fontsize = 15)\n",
    "    plt.ylabel(ylabel, fontsize = 15);"
   ]
  },
  {
   "cell_type": "code",
   "execution_count": 124,
   "metadata": {},
   "outputs": [
    {
     "data": {
      "image/png": "[encoded data removed]",
      "text/plain": [
       "<Figure size 576x360 with 1 Axes>"
      ]
     },
     "metadata": {
      "needs_background": "light"
     },
     "output_type": "display_data"
    }
   ],
   "source": [
    "create_boxplot(combined_sat_years[['participation_2017', 'participation_2018', 'participation_2019']], 'SAT Participation 2017-2019',\n",
    "      'Percentage (in decimals)', 'SAT Participation', ['Participation 2017', 'Participation 2018', 'Participation 2019'])"
   ]
  },
  {
   "cell_type": "code",
   "execution_count": 141,
   "metadata": {},
   "outputs": [
    {
     "data": {
      "text/html": [
       "<div>\n",
       "<style scoped>\n",
       "    .dataframe tbody tr th:only-of-type {\n",
       "        vertical-align: middle;\n",
       "    }\n",
       "\n",
       "    .dataframe tbody tr th {\n",
       "        vertical-align: top;\n",
       "    }\n",
       "\n",
       "    .dataframe thead th {\n",
       "        text-align: right;\n",
       "    }\n",
       "</style>\n",
       "<table border=\"1\" class=\"dataframe\">\n",
       "  <thead>\n",
       "    <tr style=\"text-align: right;\">\n",
       "      <th></th>\n",
       "      <th>label</th>\n",
       "      <th>lower_whisker</th>\n",
       "      <th>lower_quartile</th>\n",
       "      <th>median</th>\n",
       "      <th>upper_quartile</th>\n",
       "      <th>upper_whisker</th>\n",
       "    </tr>\n",
       "  </thead>\n",
       "  <tbody>\n",
       "    <tr>\n",
       "      <th>0</th>\n",
       "      <td>2017</td>\n",
       "      <td>0.02</td>\n",
       "      <td>0.040</td>\n",
       "      <td>0.38</td>\n",
       "      <td>0.660</td>\n",
       "      <td>1.0</td>\n",
       "    </tr>\n",
       "    <tr>\n",
       "      <th>1</th>\n",
       "      <td>2018</td>\n",
       "      <td>0.02</td>\n",
       "      <td>0.045</td>\n",
       "      <td>0.52</td>\n",
       "      <td>0.775</td>\n",
       "      <td>1.0</td>\n",
       "    </tr>\n",
       "    <tr>\n",
       "      <th>2</th>\n",
       "      <td>2019</td>\n",
       "      <td>0.02</td>\n",
       "      <td>0.055</td>\n",
       "      <td>0.54</td>\n",
       "      <td>0.820</td>\n",
       "      <td>1.0</td>\n",
       "    </tr>\n",
       "  </tbody>\n",
       "</table>\n",
       "</div>"
      ],
      "text/plain": [
       "  label  lower_whisker  lower_quartile  median  upper_quartile  upper_whisker\n",
       "0  2017           0.02           0.040    0.38           0.660            1.0\n",
       "1  2018           0.02           0.045    0.52           0.775            1.0\n",
       "2  2019           0.02           0.055    0.54           0.820            1.0"
      ]
     },
     "execution_count": 141,
     "metadata": {},
     "output_type": "execute_result"
    },
    {
     "data": {
      "image/png": "[encoded data removed]",
      "text/plain": [
       "<Figure size 432x288 with 1 Axes>"
      ]
     },
     "metadata": {
      "needs_background": "light"
     },
     "output_type": "display_data"
    }
   ],
   "source": [
    "# Function to get the whisker, LQ, UQ, and median of box plot\n",
    "# Interpreted from https://stackoverflow.com/questions/23461713/obtaining-values-used-in-boxplot-using-python-and-matplotlib\n",
    "\n",
    "def box_plot_data(labels, boxplot, title, xlabel, ylabel):\n",
    "    rows_list = []\n",
    "\n",
    "    for i in range(len(labels)):\n",
    "        dict1 = {}\n",
    "        dict1['label'] = labels[i]\n",
    "        dict1['lower_whisker'] = boxplot['whiskers'][i*2].get_ydata()[1]\n",
    "        dict1['lower_quartile'] = boxplot['boxes'][i].get_ydata()[1]\n",
    "        dict1['median'] = boxplot['medians'][i].get_ydata()[1]\n",
    "        dict1['upper_quartile'] = boxplot['boxes'][i].get_ydata()[2]\n",
    "        dict1['upper_whisker'] = boxplot['whiskers'][(i*2)+1].get_ydata()[1]\n",
    "        rows_list.append(dict1)\n",
    "        \n",
    "    plt.title(title, fontsize = 20)\n",
    "    plt.xlabel(xlabel, fontsize = 15)\n",
    "    plt.ylabel(ylabel, fontsize = 15);\n",
    "    return pd.DataFrame(rows_list)\n",
    "\n",
    "labels = ['2017', '2018', '2019']\n",
    "box_plot_data(labels, plt.boxplot(combined_sat_years[['participation_2017', 'participation_2018', 'participation_2019']], labels=labels), 'SAT Participation 2017-2019', 'SAT Participation Years', 'Percentage (in decimals)')"
   ]
  },
  {
   "cell_type": "markdown",
   "metadata": {},
   "source": [
    "The box plot above shows the percentage (in decimals) for SAT participation from 2017 to 2019. The box plot shows that the median and mean participation goes up throughout the years.\n",
    "\n",
    "For each year, the lower whisker is 0.2 and the upper whisker is 1.0. This shows that the lowest and highest percentage has not changed yearly and that the range is 0.8 (1.0 - 0.2).\n",
    "\n",
    "The median is increasing yearly especially from 2017 to 2018. This represents that half of the percentages are either lower or higher than 0.38 in 2017, but in 2018 we see that the median jumps to 0.52.\n",
    "\n",
    "Comparing each year, for the lower and upper quartile range, the percentages are also increasing.\n",
    "\n",
    "([*source*](https://www.khanacademy.org/math/cc-sixth-grade-math/cc-6th-data-statistics/cc-6th-box-whisker-plots/v/reading-box-and-whisker-plots))"
   ]
  },
  {
   "cell_type": "code",
   "execution_count": 125,
   "metadata": {},
   "outputs": [
    {
     "data": {
      "image/png": "[encoded data removed]",
      "text/plain": [
       "<Figure size 576x360 with 1 Axes>"
      ]
     },
     "metadata": {
      "needs_background": "light"
     },
     "output_type": "display_data"
    }
   ],
   "source": [
    "create_boxplot(combined_sat_years[['total_2017', 'total_2018', 'total_2019']], 'SAT Mean Total 2017-2019',\n",
    "      'Mean Total Score', 'Mean Total Years', ['Total 2017', 'Total 2018', 'Total 2019'])"
   ]
  },
  {
   "cell_type": "code",
   "execution_count": 142,
   "metadata": {},
   "outputs": [
    {
     "data": {
      "text/html": [
       "<div>\n",
       "<style scoped>\n",
       "    .dataframe tbody tr th:only-of-type {\n",
       "        vertical-align: middle;\n",
       "    }\n",
       "\n",
       "    .dataframe tbody tr th {\n",
       "        vertical-align: top;\n",
       "    }\n",
       "\n",
       "    .dataframe thead th {\n",
       "        text-align: right;\n",
       "    }\n",
       "</style>\n",
       "<table border=\"1\" class=\"dataframe\">\n",
       "  <thead>\n",
       "    <tr style=\"text-align: right;\">\n",
       "      <th></th>\n",
       "      <th>label</th>\n",
       "      <th>lower_whisker</th>\n",
       "      <th>lower_quartile</th>\n",
       "      <th>median</th>\n",
       "      <th>upper_quartile</th>\n",
       "      <th>upper_whisker</th>\n",
       "    </tr>\n",
       "  </thead>\n",
       "  <tbody>\n",
       "    <tr>\n",
       "      <th>0</th>\n",
       "      <td>2017</td>\n",
       "      <td>950.0</td>\n",
       "      <td>1055.5</td>\n",
       "      <td>1107.0</td>\n",
       "      <td>1212.0</td>\n",
       "      <td>1295.0</td>\n",
       "    </tr>\n",
       "    <tr>\n",
       "      <th>1</th>\n",
       "      <td>2018</td>\n",
       "      <td>977.0</td>\n",
       "      <td>1057.5</td>\n",
       "      <td>1098.0</td>\n",
       "      <td>1204.0</td>\n",
       "      <td>1298.0</td>\n",
       "    </tr>\n",
       "    <tr>\n",
       "      <th>2</th>\n",
       "      <td>2019</td>\n",
       "      <td>943.0</td>\n",
       "      <td>1038.0</td>\n",
       "      <td>1097.0</td>\n",
       "      <td>1210.0</td>\n",
       "      <td>1284.0</td>\n",
       "    </tr>\n",
       "  </tbody>\n",
       "</table>\n",
       "</div>"
      ],
      "text/plain": [
       "  label  lower_whisker  lower_quartile  median  upper_quartile  upper_whisker\n",
       "0  2017          950.0          1055.5  1107.0          1212.0         1295.0\n",
       "1  2018          977.0          1057.5  1098.0          1204.0         1298.0\n",
       "2  2019          943.0          1038.0  1097.0          1210.0         1284.0"
      ]
     },
     "execution_count": 142,
     "metadata": {},
     "output_type": "execute_result"
    },
    {
     "data": {
      "image/png": "[encoded data removed]",
      "text/plain": [
       "<Figure size 432x288 with 1 Axes>"
      ]
     },
     "metadata": {
      "needs_background": "light"
     },
     "output_type": "display_data"
    }
   ],
   "source": [
    "box_plot_data(labels, plt.boxplot(combined_sat_years[['total_2017', 'total_2018', 'total_2019']], labels=labels),\n",
    "             'SAT Mean 2017-2019', 'Mean Total Years', 'Mean Total Score')"
   ]
  },
  {
   "cell_type": "markdown",
   "metadata": {},
   "source": [
    "The box plot above shows the mean total SAT scores within years 2017 through 2019. The red line shows the median scores are going down throughout the years. The green triangle represents the mean score which is also trending downwards throughout the years.\n",
    "\n",
    "Unlike the box plot for participation, for mean total SAT scores, the lower whisker and upper whisker change throughout each year. This makes sense because as participation goes up, there are more students taking the test which can also increase the spread of the scores. Showing the lower and upper whisker just shows the highest someone scored versus the lowest someone scored that year."
   ]
  },
  {
   "cell_type": "markdown",
   "metadata": {},
   "source": [
    "## Conclusions and Recommendations"
   ]
  },
  {
   "cell_type": "markdown",
   "metadata": {},
   "source": [
    "#### Conclusion:"
   ]
  },
  {
   "cell_type": "markdown",
   "metadata": {},
   "source": [
    "In general, participation within the years 2017 and 2019, has seen a slight upward trend in participation. Percentage in participation is also either heavily low (approximately 10% or lower) or high (approximately 90% and above). Only 3 states, Connecticut, Delaware, and Michigan had 100% participation throughout the 3 years.\n",
    "\n",
    "Participation in 2017 is positively correlated to participation in 2018 (+0.87) and 2019 (+0.84). This correlation is expected because we would not expect participation rates to drastically change within each year.\n",
    "\n",
    "Total SAT scores in 2017 are positively correlated to total scores in 2018 (+0.85) and 2019 (+0.90). This correlation is also expected because we are looking at only a change in one year and scores would not drastically change.\n",
    "\n",
    "For participation and total mean score between years 2017 and 2019, there is a strong negative correlation. This means that as participation rates go up, the average score will go down. This makes sense because if there is an increase in the amount of students taking the test (who may not willingly be inclined to), scores may drop. In comparison, lower participation levels where only students who are serious about taking the SATs are taking the test and therefore, scores may be higher.\n",
    "\n",
    "Although there is a negative correlation, it may not be drastic enough to outweigh the benefits of equal education, accountability for teachers, streamlined standardized testing."
   ]
  },
  {
   "cell_type": "markdown",
   "metadata": {},
   "source": [
    "#### Recommendations:"
   ]
  },
  {
   "cell_type": "markdown",
   "metadata": {},
   "source": [
    "South Carolina:\n",
    "I recommend that an SAT School Day should be mandated in South Carolina. An SAT School Day helps establish equality in participation within the school because the test will be taken on a weekday during school hours at the same school ([*source*](https://collegereadiness.collegeboard.org/sat/k12-educators/sat-school-day/about#:~:text=SAT%20School%20Day%20provides%20schools,accepted%20at%20all%20U.S.%20colleges)). Earlier we saw that participation for the SAT is either heavily low or heavily high. South Carolina's participation was 50% in 2017 and steadily increases to 55% and 68% in 2018 and 2019. By having an SAT School Day, the College Board will be able to help improve the participation that is already increasing in the state, while also making sure the mean scores aren’t decreasing. If schools were to mandate an SAT School Day, schools could also utilize the SAT as a replacement to other state standardized testing. This would \"streamline standardized testing by eliminating other 'unnecessary' exams, increase access to the SAT, particularly for lower-income students and inspire some students to apply to college\" ([*source*](https://blog.collegevine.com/states-that-require-sat/#curve)).\n",
    "\n",
    "Because the state already pays for the students to take either the ACT or SAT, I believe it would be advantageous to put those resources into one test so that the state can utilize the SAT as their state's overall standardized testing. By only paying for one test, the state can also put more effort into the test and potentially increase student SAT scores for the state.\n",
    " \n",
    "Overall Recommendation:\n",
    "- Work with state boards to increase and promote SAT School Days and potentially making the SAT a graduation requirement so that students have a greater incentive to show up\n",
    "- Promote utilizing the SAT as a replacement for any other state standardized test\n",
    "\n"
   ]
  }
 ],
 "metadata": {
  "anaconda-cloud": {},
  "kernelspec": {
   "display_name": "Python 3",
   "language": "python",
   "name": "python3"
  },
  "language_info": {
   "codemirror_mode": {
    "name": "ipython",
    "version": 3
   },
   "file_extension": ".py",
   "mimetype": "text/x-python",
   "name": "python",
   "nbconvert_exporter": "python",
   "pygments_lexer": "ipython3",
   "version": "3.8.8"
  }
 },
 "nbformat": 4,
 "nbformat_minor": 4
}
